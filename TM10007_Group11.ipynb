{
  "nbformat": 4,
  "nbformat_minor": 0,
  "metadata": {
    "colab": {
      "provenance": [],
      "include_colab_link": true
    },
    "kernelspec": {
      "name": "python3",
      "display_name": "Python 3"
    },
    "language_info": {
      "name": "python"
    }
  },
  "cells": [
    {
      "cell_type": "markdown",
      "metadata": {
        "id": "view-in-github",
        "colab_type": "text"
      },
      "source": [
        "<a href=\"https://colab.research.google.com/github/christievanderuit/TM10007_group11/blob/main/TM10007_Group11.ipynb\" target=\"_parent\"><img src=\"https://colab.research.google.com/assets/colab-badge.svg\" alt=\"Open In Colab\"/></a>"
      ]
    },
    {
      "cell_type": "code",
      "source": [
        "!pip install sklearn numpy matplotlib"
      ],
      "metadata": {
        "id": "cWwNaEqJ_iat",
        "outputId": "e455cb8c-2652-4ee2-e16c-18b801288e32",
        "colab": {
          "base_uri": "https://localhost:8080/"
        }
      },
      "execution_count": 1,
      "outputs": [
        {
          "output_type": "stream",
          "name": "stdout",
          "text": [
            "Looking in indexes: https://pypi.org/simple, https://us-python.pkg.dev/colab-wheels/public/simple/\n",
            "Collecting sklearn\n",
            "  Downloading sklearn-0.0.post1.tar.gz (3.6 kB)\n",
            "  Preparing metadata (setup.py) ... \u001b[?25l\u001b[?25hdone\n",
            "Requirement already satisfied: numpy in /usr/local/lib/python3.9/dist-packages (1.22.4)\n",
            "Requirement already satisfied: matplotlib in /usr/local/lib/python3.9/dist-packages (3.7.1)\n",
            "Requirement already satisfied: cycler>=0.10 in /usr/local/lib/python3.9/dist-packages (from matplotlib) (0.11.0)\n",
            "Requirement already satisfied: packaging>=20.0 in /usr/local/lib/python3.9/dist-packages (from matplotlib) (23.0)\n",
            "Requirement already satisfied: importlib-resources>=3.2.0 in /usr/local/lib/python3.9/dist-packages (from matplotlib) (5.12.0)\n",
            "Requirement already satisfied: fonttools>=4.22.0 in /usr/local/lib/python3.9/dist-packages (from matplotlib) (4.39.3)\n",
            "Requirement already satisfied: pyparsing>=2.3.1 in /usr/local/lib/python3.9/dist-packages (from matplotlib) (3.0.9)\n",
            "Requirement already satisfied: python-dateutil>=2.7 in /usr/local/lib/python3.9/dist-packages (from matplotlib) (2.8.2)\n",
            "Requirement already satisfied: kiwisolver>=1.0.1 in /usr/local/lib/python3.9/dist-packages (from matplotlib) (1.4.4)\n",
            "Requirement already satisfied: pillow>=6.2.0 in /usr/local/lib/python3.9/dist-packages (from matplotlib) (8.4.0)\n",
            "Requirement already satisfied: contourpy>=1.0.1 in /usr/local/lib/python3.9/dist-packages (from matplotlib) (1.0.7)\n",
            "Requirement already satisfied: zipp>=3.1.0 in /usr/local/lib/python3.9/dist-packages (from importlib-resources>=3.2.0->matplotlib) (3.15.0)\n",
            "Requirement already satisfied: six>=1.5 in /usr/local/lib/python3.9/dist-packages (from python-dateutil>=2.7->matplotlib) (1.16.0)\n",
            "Building wheels for collected packages: sklearn\n",
            "  Building wheel for sklearn (setup.py) ... \u001b[?25l\u001b[?25hdone\n",
            "  Created wheel for sklearn: filename=sklearn-0.0.post1-py3-none-any.whl size=2955 sha256=ab0eb80c6ed79408e52022b05b99f4a88ee8c76ecfb4d8fb9239ada8e8cb3b1d\n",
            "  Stored in directory: /root/.cache/pip/wheels/f8/e0/3d/9d0c2020c44a519b9f02ab4fa6d2a4a996c98d79ab2f569fa1\n",
            "Successfully built sklearn\n",
            "Installing collected packages: sklearn\n",
            "Successfully installed sklearn-0.0.post1\n"
          ]
        }
      ]
    },
    {
      "cell_type": "code",
      "source": [
        "# General packages\n",
        "import numpy as np \n",
        "import pandas as pd\n",
        "import os\n",
        "import matplotlib.pyplot as plt\n",
        "from sklearn import datasets as ds\n",
        "import seaborn\n",
        "from scipy.stats import shapiro\n",
        "\n",
        "\n",
        "\n",
        "# Classifiers\n",
        "from sklearn import model_selection\n",
        "from sklearn.model_selection import train_test_split\n",
        "from sklearn.model_selection import cross_val_score\n",
        "from sklearn.model_selection import GridSearchCV \n",
        "from sklearn.model_selection import StratifiedKFold\n",
        "from sklearn.model_selection import learning_curve\n",
        "from sklearn import metrics\n",
        "from sklearn import feature_selection \n",
        "from sklearn.feature_selection import SelectKBest\n",
        "from sklearn.feature_selection import f_regression\n",
        "from sklearn.feature_selection import f_classif\n",
        "from sklearn.feature_selection import RFE\n",
        "from sklearn.feature_selection import SelectFromModel\n",
        "from sklearn import preprocessing\n",
        "from sklearn.preprocessing import LabelEncoder\n",
        "from sklearn import neighbors\n",
        "from sklearn.neighbors import LocalOutlierFactor\n",
        "from sklearn.neighbors import KNeighborsClassifier\n",
        "from sklearn.svm import SVC\n",
        "from sklearn.svm import LinearSVC\n",
        "\n",
        "from sklearn.decomposition import PCA\n",
        "from sklearn.linear_model import LinearRegression\n",
        "from sklearn.linear_model import Lasso\n",
        "from sklearn.ensemble import RandomForestClassifier\n",
        "from sklearn.ensemble import BaggingClassifier\n",
        "from sklearn.ensemble import VotingClassifier\n",
        "\n",
        "\n"
      ],
      "metadata": {
        "id": "oS9eMkou8yR_"
      },
      "execution_count": 2,
      "outputs": []
    },
    {
      "cell_type": "code",
      "source": [
        "# Some functions we will use\n",
        "def colorplot(clf, ax, x, y, h=100):\n",
        "    '''\n",
        "    Overlay the decision areas as colors in an axes.\n",
        "    \n",
        "    Input:\n",
        "        clf: trained classifier\n",
        "        ax: axis to overlay color mesh on\n",
        "        x: feature on x-axis\n",
        "        y: feature on y-axis\n",
        "        h(optional): steps in the mesh\n",
        "    '''\n",
        "    # Create a meshgrid the size of the axis\n",
        "    xstep = (x.max() - x.min() ) / 20.0\n",
        "    ystep = (y.max() - y.min() ) / 20.0\n",
        "    x_min, x_max = x.min() - xstep, x.max() + xstep\n",
        "    y_min, y_max = y.min() - ystep, y.max() + ystep\n",
        "    h = max((x_max - x_min, y_max - y_min))/h\n",
        "    xx, yy = np.meshgrid(np.arange(x_min, x_max, h),\n",
        "                         np.arange(y_min, y_max, h))\n",
        "    \n",
        "    # Plot the decision boundary. For that, we will assign a color to each\n",
        "    # point in the mesh [x_min, x_max]x[y_min, y_max].\n",
        "    if hasattr(clf, \"decision_function\"):\n",
        "        Z = clf.decision_function(np.c_[xx.ravel(), yy.ravel()])\n",
        "    else:\n",
        "        Z = clf.predict_proba(np.c_[xx.ravel(), yy.ravel()])\n",
        "    if len(Z.shape) > 1:\n",
        "        Z = Z[:, 1]\n",
        "    \n",
        "    # Put the result into a color plot\n",
        "    cm = plt.cm.RdBu_r\n",
        "    Z = Z.reshape(xx.shape)\n",
        "    ax.contourf(xx, yy, Z, cmap=cm, alpha=.8)\n",
        "    del xx, yy, x_min, x_max, y_min, y_max, Z, cm"
      ],
      "metadata": {
        "id": "Y8zNyBBH9BCh"
      },
      "execution_count": 3,
      "outputs": []
    },
    {
      "cell_type": "code",
      "source": [
        "# Run this to use from colab environment\n",
        "!git clone https://github.com/jveenland/tm10007_ml.git\n",
        "data = pd.read_csv('/content/tm10007_ml/worcgist/GIST_radiomicFeatures.csv', index_col=0)\n",
        "print(f'The number of samples: {len(data.index)}')\n",
        "print(f'The number of columns: {len(data.columns)}')"
      ],
      "metadata": {
        "id": "qX1LjCmltopI",
        "colab": {
          "base_uri": "https://localhost:8080/"
        },
        "outputId": "76b00d37-c1f4-4f01-fad0-6861e0ccb03f"
      },
      "execution_count": 4,
      "outputs": [
        {
          "output_type": "stream",
          "name": "stdout",
          "text": [
            "Cloning into 'tm10007_ml'...\n",
            "remote: Enumerating objects: 83, done.\u001b[K\n",
            "remote: Total 83 (delta 0), reused 0 (delta 0), pack-reused 83\u001b[K\n",
            "Unpacking objects: 100% (83/83), 67.99 MiB | 9.18 MiB/s, done.\n",
            "The number of samples: 246\n",
            "The number of columns: 494\n"
          ]
        }
      ]
    },
    {
      "cell_type": "code",
      "source": [
        "#zorgen dat verschillende functies uit de files aangeroepen kunnen worden \n",
        "from tm10007_ml.worcgist.load_data import *   #misschien dat dit nog op een nettere manier kan \n",
        "dataset = load_data(); "
      ],
      "metadata": {
        "id": "bG7AZdOO5cDq"
      },
      "execution_count": 5,
      "outputs": []
    },
    {
      "cell_type": "code",
      "source": [
        "#zoeken van NaN --> want duidelijk dat deze erin zitten - ook voor de nu geplotte in de eerste figuur \n",
        "x_data = data.drop(\"label\", axis='columns')\n",
        "\n",
        "\n",
        "np.where(np.asanyarray(np.isnan(x_data))) \n",
        "\n",
        "# # Find all entries that are not a number\n",
        "x_data = x_data.apply(lambda x: pd.to_numeric(x, errors='coerce'))\n",
        "nan_b = pd.isna(x_data)\n",
        "n_nan = nan_b.sum().sum()\n",
        "if n_nan > 0:\n",
        "  nan = np.where(nan_b == \"True\")\n",
        "else:\n",
        "  nan = 0\n",
        "# # Replace all NaN with 0\n",
        "# x_train_nieuw = x_train.fillna(0)\n",
        "\n",
        "#0'en zijn, dus deze droppen - dit zijn 6 kolommen \n",
        "df1 = x_data.mask(x_data != 0).dropna(axis=1)\n",
        "\n",
        "df2 = x_data.copy()\n",
        "for col in df1:\n",
        "    df2 = df2.drop(col, axis=1)\n"
      ],
      "metadata": {
        "id": "X4w4SMYwvTtm"
      },
      "execution_count": 6,
      "outputs": []
    },
    {
      "cell_type": "code",
      "source": [
        "#Splitsen in een train en in een testset \n",
        "\n",
        "#Waarbij x = features, y = label\n",
        "y = data['label']\n",
        "x = df2\n",
        "x_train, x_test, y_train, y_test = train_test_split(x,y,test_size=0.2, random_state=1, stratify=y)\n",
        "#AFBLIJVEN VAN TESTDATA!!! :) \n",
        "\n",
        "\n",
        "\n"
      ],
      "metadata": {
        "id": "akTrzKpG86zA"
      },
      "execution_count": 7,
      "outputs": []
    },
    {
      "cell_type": "code",
      "source": [
        "def plot_learning_curve(estimator, title, X, y, axes, ylim=None, cv=None,\n",
        "                        n_jobs=None, train_sizes=np.linspace(.1, 1.0, 5)):\n",
        "    \"\"\"\n",
        "    Generate 3 plots: the test and training learning curve, the training\n",
        "    samples vs fit times curve, the fit times vs score curve.\n",
        "\n",
        "    Parameters\n",
        "    ----------\n",
        "    estimator : object type that implements the \"fit\" and \"predict\" methods\n",
        "        An object of that type which is cloned for each validation.\n",
        "\n",
        "    title : string\n",
        "        Title for the chart.\n",
        "\n",
        "    X : array-like, shape (n_samples, n_features)\n",
        "        Training vector, where n_samples is the number of samples and\n",
        "        n_features is the number of features.\n",
        "\n",
        "    y : array-like, shape (n_samples) or (n_samples, n_features), optional\n",
        "        Target relative to X for classification or regression;\n",
        "        None for unsupervised learning.\n",
        "\n",
        "    axes : array of 3 axes, optional (default=None)\n",
        "        Axes to use for plotting the curves.\n",
        "\n",
        "    ylim : tuple, shape (ymin, ymax), optional\n",
        "        Defines minimum and maximum yvalues plotted.\n",
        "\n",
        "    cv : int, cross-validation generator or an iterable, optional\n",
        "        Determines the cross-validation splitting strategy.\n",
        "        Possible inputs for cv are:\n",
        "          - None, to use the default 5-fold cross-validation,\n",
        "          - integer, to specify the number of folds.\n",
        "          - :term:`CV splitter`,\n",
        "          - An iterable yielding (train, test) splits as arrays of indices.\n",
        "\n",
        "        For integer/None inputs, if ``y`` is binary or multiclass,\n",
        "        :class:`StratifiedKFold` used. If the estimator is not a classifier\n",
        "        or if ``y`` is neither binary nor multiclass, :class:`KFold` is used.\n",
        "\n",
        "        Refer :ref:`User Guide <cross_validation>` for the various\n",
        "        cross-validators that can be used here.\n",
        "\n",
        "    n_jobs : int or None, optional (default=None)\n",
        "        Number of jobs to run in parallel.\n",
        "        ``None`` means 1 unless in a :obj:`joblib.parallel_backend` context.\n",
        "        ``-1`` means using all processors. See :term:`Glossary <n_jobs>`\n",
        "        for more details.\n",
        "\n",
        "    train_sizes : array-like, shape (n_ticks,), dtype float or int\n",
        "        Relative or absolute numbers of training examples that will be used to\n",
        "        generate the learning curve. If the dtype is float, it is regarded as a\n",
        "        fraction of the maximum size of the training set (that is determined\n",
        "        by the selected validation method), i.e. it has to be within (0, 1].\n",
        "        Otherwise it is interpreted as absolute sizes of the training sets.\n",
        "        Note that for classification the number of samples usually have to\n",
        "        be big enough to contain at least one sample from each class.\n",
        "        (default: np.linspace(0.1, 1.0, 5))\n",
        "    \"\"\"\n",
        "\n",
        "    axes.set_title(title)\n",
        "    if ylim is not None:\n",
        "        axes.set_ylim(*ylim)\n",
        "    axes.set_xlabel(\"Training examples\")\n",
        "    axes.set_ylabel(\"Score\")\n",
        "\n",
        "    train_sizes, train_scores, test_scores  = learning_curve(estimator, X, y, cv=cv, n_jobs=n_jobs, train_sizes=train_sizes)\n",
        "    train_scores_mean = np.mean(train_scores, axis=1)\n",
        "    train_scores_std = np.std(train_scores, axis=1)\n",
        "    test_scores_mean = np.mean(test_scores, axis=1)\n",
        "    test_scores_std = np.std(test_scores, axis=1)\n",
        "\n",
        "    # Plot learning curve\n",
        "    axes.grid()\n",
        "    axes.fill_between(train_sizes, train_scores_mean - train_scores_std,\n",
        "                         train_scores_mean + train_scores_std, alpha=0.1,\n",
        "                         color=\"r\")\n",
        "    axes.fill_between(train_sizes, test_scores_mean - test_scores_std,\n",
        "                         test_scores_mean + test_scores_std, alpha=0.1,\n",
        "                         color=\"g\")\n",
        "    axes.plot(train_sizes, train_scores_mean, 'o-', color=\"r\",\n",
        "                 label=\"Training score\")\n",
        "    axes.plot(train_sizes, test_scores_mean, 'o-', color=\"g\",\n",
        "                 label=\"Cross-validation score\")\n",
        "    axes.legend(loc=\"best\")\n",
        "\n",
        "    return plt\n",
        "\n",
        "#knn gebruiken als een classifier \n",
        "from sklearn.neighbors import KNeighborsClassifier\n",
        "\n",
        "knn = KNeighborsClassifier(n_neighbors=9)\n",
        "\n",
        "fig = plt.figure(figsize=(8, 8))\n",
        "ax = fig.add_subplot(1, 1, 1) \n",
        "clf = knn\n",
        "title = \"knn\"\n",
        "plot_learning_curve(clf, title, x, y, ax, ylim=(0.3, 1.01), cv=10)\n",
        "\n",
        "\n",
        "from sklearn.tree import DecisionTreeClassifier\n",
        "clf = DecisionTreeClassifier()\n",
        "\n",
        "fig = plt.figure(figsize=(8, 8))\n",
        "ax = fig.add_subplot(1, 1, 1) \n",
        "title = \"descision tree\"\n",
        "plot_learning_curve(clf, title, x, y, ax, ylim=(0.3, 1.01), cv=10)\n",
        "\n",
        "\n",
        "from sklearn.naive_bayes import GaussianNB\n",
        "clf = GaussianNB()\n",
        "fig = plt.figure(figsize=(8, 8))\n",
        "ax = fig.add_subplot(1, 1, 1) \n",
        "title = \"Gaussian NB\"\n",
        "plot_learning_curve(clf, title, x, y, ax, ylim=(0.3, 1.01), cv=10)\n"
      ],
      "metadata": {
        "id": "sXiHbITgiFu3",
        "colab": {
          "base_uri": "https://localhost:8080/",
          "height": 1000
        },
        "outputId": "5052c522-af84-41c3-b2b3-26debfb19941"
      },
      "execution_count": 8,
      "outputs": [
        {
          "output_type": "execute_result",
          "data": {
            "text/plain": [
              "<module 'matplotlib.pyplot' from '/usr/local/lib/python3.9/dist-packages/matplotlib/pyplot.py'>"
            ]
          },
          "metadata": {},
          "execution_count": 8
        },
        {
          "output_type": "display_data",
          "data": {
            "text/plain": [
              "<Figure size 800x800 with 1 Axes>"
            ],
            "image/png": "[encoded data removed]"
          },
          "metadata": {}
        },
        {
          "output_type": "display_data",
          "data": {
            "text/plain": [
              "<Figure size 800x800 with 1 Axes>"
            ],
            "image/png": "[encoded data removed]"
          },
          "metadata": {}
        },
        {
          "output_type": "display_data",
          "data": {
            "text/plain": [
              "<Figure size 800x800 with 1 Axes>"
            ],
            "image/png": "[encoded data removed]"
          },
          "metadata": {}
        }
      ]
    },
    {
      "cell_type": "code",
      "source": [
        "# testen of er outliers zijn dmv LOF\n",
        "\n",
        "lof = LocalOutlierFactor()\n",
        "x_lof = lof.fit(x_train)\n",
        "outlier_scores = x_lof.negative_outlier_factor_\n",
        "threshold = np.mean(outlier_scores)\n",
        "outliers = x_train[outlier_scores < threshold]\n",
        "outlier_percentage = (len(outliers) / len(x_train)) * 100\n",
        "\n",
        "print(\"Number of outliers:\", len(outliers))\n",
        "print(\"Percentage of outliers:\", outlier_percentage)"
      ],
      "metadata": {
        "id": "sR_vwqT-JiEi",
        "outputId": "c4b80a15-8639-4111-e614-f96b4032d2f5",
        "colab": {
          "base_uri": "https://localhost:8080/"
        }
      },
      "execution_count": 9,
      "outputs": [
        {
          "output_type": "stream",
          "name": "stdout",
          "text": [
            "Number of outliers: 9\n",
            "Percentage of outliers: 4.591836734693878\n"
          ]
        }
      ]
    },
    {
      "cell_type": "code",
      "source": [
        "# Test whether the data is normally distributed or not\n",
        "\n",
        "# define a function to test for normality using the Shapiro-Wilk test\n",
        "def test_normality(column):\n",
        "    stat, p = shapiro(column)\n",
        "    alpha = 0.05\n",
        "    if p > alpha:\n",
        "        return 1\n",
        "    else:\n",
        "        return 0\n",
        "\n",
        "# apply the test_normality function to each column of the DataFrame\n",
        "normality_results = x_train.apply(test_normality)\n",
        "\n",
        "# print the results\n",
        "print(normality_results)\n",
        "\n",
        "# separate the data into normalized and non-normalized DataFrames using concat\n",
        "normalized = pd.DataFrame()\n",
        "non_normalized = pd.DataFrame()\n",
        "for ind, elem in zip(x_train.columns, normality_results):\n",
        "    if elem == 0:\n",
        "        non_normalized = pd.concat([non_normalized, x_train[ind]], axis=1)\n",
        "    else:\n",
        "        normalized = pd.concat([normalized, x_train[ind]], axis=1)\n",
        "\n",
        "# scale the non-normalized data\n",
        "scaler = preprocessing.RobustScaler()\n",
        "scaler.fit(non_normalized)\n",
        "non_normalized = pd.DataFrame(scaler.transform(non_normalized))\n",
        "\n",
        "# scale the normalized data\n",
        "scaler_norm = preprocessing.StandardScaler()\n",
        "scaler_norm.fit(normalized)\n",
        "normalized = pd.DataFrame(scaler_norm.transform(normalized))\n",
        "\n",
        "# combine the normalized and non-normalized data\n",
        "scaler.fit(x_train)\n",
        "x_scaled = pd.DataFrame(scaler.transform(x_train))\n"
      ],
      "metadata": {
        "id": "Lmhiy0kOuuh1",
        "outputId": "bd72676a-b3b5-4b80-c543-17842ef68b9a",
        "colab": {
          "base_uri": "https://localhost:8080/"
        }
      },
      "execution_count": 10,
      "outputs": [
        {
          "output_type": "stream",
          "name": "stdout",
          "text": [
            "PREDICT_original_sf_compactness_avg_2.5D                  0\n",
            "PREDICT_original_sf_compactness_std_2.5D                  0\n",
            "PREDICT_original_sf_rad_dist_avg_2.5D                     0\n",
            "PREDICT_original_sf_rad_dist_std_2.5D                     0\n",
            "PREDICT_original_sf_roughness_avg_2.5D                    0\n",
            "                                                         ..\n",
            "PREDICT_original_phasef_phasesym_kurtosis_WL3_N5          0\n",
            "PREDICT_original_phasef_phasesym_range_WL3_N5             0\n",
            "PREDICT_original_phasef_phasesym_energy_WL3_N5            0\n",
            "PREDICT_original_phasef_phasesym_quartile_range_WL3_N5    0\n",
            "PREDICT_original_phasef_phasesym_entropy_WL3_N5           1\n",
            "Length: 487, dtype: int64\n"
          ]
        },
        {
          "output_type": "stream",
          "name": "stderr",
          "text": [
            "/usr/local/lib/python3.9/dist-packages/scipy/stats/_morestats.py:1813: UserWarning: Input data for shapiro has range zero. The results may not be accurate.\n",
            "  warnings.warn(\"Input data for shapiro has range zero. The results \"\n"
          ]
        }
      ]
    },
    {
      "cell_type": "code",
      "source": [
        "#plotten \n",
        "\n",
        "fig = plt.figure(figsize=(8, 8))\n",
        "ax = fig.add_subplot(1, 1, 1)\n",
        "plt.scatter(x_train['PREDICT_original_sf_compactness_avg_2.5D'], x_train['PREDICT_original_sf_roughness_std_2.5D'])\n",
        "\n",
        "#Testen met een andere variabele \n",
        "fig = plt.figure(figsize=(8, 8))\n",
        "ax = fig.add_subplot(1, 1, 1)\n",
        "plt.scatter(x_train['PREDICT_original_sf_convexity_avg_2.5D'], x_train['PREDICT_original_phasef_phasesym_range_WL3_N5'])\n"
      ],
      "metadata": {
        "id": "DV4adj_J8qWX",
        "outputId": "9aad2815-a5f4-409f-c586-571fbb11231d",
        "colab": {
          "base_uri": "https://localhost:8080/",
          "height": 1000
        }
      },
      "execution_count": 11,
      "outputs": [
        {
          "output_type": "execute_result",
          "data": {
            "text/plain": [
              "<matplotlib.collections.PathCollection at 0x7f53e1396700>"
            ]
          },
          "metadata": {},
          "execution_count": 11
        },
        {
          "output_type": "display_data",
          "data": {
            "text/plain": [
              "<Figure size 800x800 with 1 Axes>"
            ],
            "image/png": "[encoded data removed]"
          },
          "metadata": {}
        },
        {
          "output_type": "display_data",
          "data": {
            "text/plain": [
              "<Figure size 800x800 with 1 Axes>"
            ],
            "image/png": "[encoded data removed]"
          },
          "metadata": {}
        }
      ]
    },
    {
      "cell_type": "code",
      "source": [
        "# Attempt at PCA\n",
        "\n",
        "def pca_func(X,n):\n",
        "  # create PCA object with 2 components\n",
        "  pca = PCA(n_components=n)\n",
        "\n",
        "  # fit and transform the data\n",
        "  df_pca = pca.fit_transform(X)\n",
        "  return df_pca"
      ],
      "metadata": {
        "id": "Ndqro_rJkWD8"
      },
      "execution_count": 12,
      "outputs": []
    },
    {
      "cell_type": "code",
      "source": [
        "\n",
        "def kbest_func(X, k):\n",
        "    \"\"\"\n",
        "    Select the top k features using the f_regression score as the evaluation metric\n",
        "    \"\"\"\n",
        "    # define the feature selector\n",
        "    selector = SelectKBest(f_classif, k=k)\n",
        "    \n",
        "    # fit the selector to the training data and transform the data\n",
        "    x_train_kbest = selector.fit_transform(X, y_train)\n",
        "    return x_train_kbest"
      ],
      "metadata": {
        "id": "1btbKWNlLvc3"
      },
      "execution_count": 13,
      "outputs": []
    },
    {
      "cell_type": "code",
      "source": [
        "def rfe_func(X,k): \n",
        "    # Create a LabelEncoder object \n",
        "    le = LabelEncoder()\n",
        "\n",
        "    # Fit the LabelEncoder object on the target variable (dit wordt gedaan omdat y_train uit alleen maar strings bestaat en dan kan je niet RFE gebruiken)\n",
        "    y_train_encoded = le.fit_transform(y_train)\n",
        "\n",
        "    # Create a logistic regression object\n",
        "    lr = LinearRegression()\n",
        "\n",
        "    # Create an RFE object and fit it on the training data\n",
        "    rfe = RFE(estimator=lr, n_features_to_select=k)\n",
        "    x_train_rfe = rfe.fit_transform(X, y_train_encoded)\n",
        "    return x_train_rfe"
      ],
      "metadata": {
        "id": "gIICUveAPhUC"
      },
      "execution_count": 14,
      "outputs": []
    },
    {
      "cell_type": "code",
      "source": [
        "# L1 regularization (Lasso regression)\n",
        "\n",
        "def lasso_func(X,k):   \n",
        "    # Create a LabelEncoder object\n",
        "    le = LabelEncoder()\n",
        "\n",
        "    # Fit the LabelEncoder object on the target variable\n",
        "    y_train_encoded = le.fit_transform(y_train)\n",
        "\n",
        "    # Lasso regression\n",
        "    lasso = Lasso(alpha=k)\n",
        "    \n",
        "    # Create a SelectFromModel object and fit it on the training data\n",
        "    selector = SelectFromModel(estimator=lasso)\n",
        "    selector.fit(X, y_train_encoded)\n",
        "\n",
        "    # Use the selector object to transform the data\n",
        "    x_train_lasso = selector.transform(X)\n",
        "    return x_train_lasso"
      ],
      "metadata": {
        "id": "UFsohvQ1URR2"
      },
      "execution_count": 15,
      "outputs": []
    },
    {
      "cell_type": "code",
      "source": [
        "# SVM with cross vallidation\n",
        "\n",
        "n = 50\n",
        "x_pca = pca_func(x_scaled,n)\n",
        "\n",
        "y_gist = pd.Series([1 if label == \"GIST\" else 0 for label in y_train], index=y_train.index)\n",
        "\n",
        "\n",
        "# Create a linear SVM object\n",
        "svm = LinearSVC(max_iter=1000)\n",
        "\n",
        "# Perform 5-fold cross-validation on the training data\n",
        "scores = cross_val_score(svm, x_pca, y_gist, cv=50)\n",
        "\n",
        "# Print the average accuracy and standard deviation of the cross-validation scores\n",
        "print(\"Accuracy: {:.2f}% (+/- {:.2f}%)\".format(scores.mean()*100, scores.std()*100))\n"
      ],
      "metadata": {
        "id": "G7QNF2o9rY_2",
        "outputId": "a866a234-e23f-4639-db8f-e7324372f8cb",
        "colab": {
          "base_uri": "https://localhost:8080/"
        }
      },
      "execution_count": 16,
      "outputs": [
        {
          "output_type": "stream",
          "name": "stderr",
          "text": [
            "/usr/local/lib/python3.9/dist-packages/sklearn/svm/_base.py:1244: ConvergenceWarning: Liblinear failed to converge, increase the number of iterations.\n",
            "  warnings.warn(\n",
            "/usr/local/lib/python3.9/dist-packages/sklearn/svm/_base.py:1244: ConvergenceWarning: Liblinear failed to converge, increase the number of iterations.\n",
            "  warnings.warn(\n",
            "/usr/local/lib/python3.9/dist-packages/sklearn/svm/_base.py:1244: ConvergenceWarning: Liblinear failed to converge, increase the number of iterations.\n",
            "  warnings.warn(\n",
            "/usr/local/lib/python3.9/dist-packages/sklearn/svm/_base.py:1244: ConvergenceWarning: Liblinear failed to converge, increase the number of iterations.\n",
            "  warnings.warn(\n",
            "/usr/local/lib/python3.9/dist-packages/sklearn/svm/_base.py:1244: ConvergenceWarning: Liblinear failed to converge, increase the number of iterations.\n",
            "  warnings.warn(\n",
            "/usr/local/lib/python3.9/dist-packages/sklearn/svm/_base.py:1244: ConvergenceWarning: Liblinear failed to converge, increase the number of iterations.\n",
            "  warnings.warn(\n",
            "/usr/local/lib/python3.9/dist-packages/sklearn/svm/_base.py:1244: ConvergenceWarning: Liblinear failed to converge, increase the number of iterations.\n",
            "  warnings.warn(\n",
            "/usr/local/lib/python3.9/dist-packages/sklearn/svm/_base.py:1244: ConvergenceWarning: Liblinear failed to converge, increase the number of iterations.\n",
            "  warnings.warn(\n",
            "/usr/local/lib/python3.9/dist-packages/sklearn/svm/_base.py:1244: ConvergenceWarning: Liblinear failed to converge, increase the number of iterations.\n",
            "  warnings.warn(\n",
            "/usr/local/lib/python3.9/dist-packages/sklearn/svm/_base.py:1244: ConvergenceWarning: Liblinear failed to converge, increase the number of iterations.\n",
            "  warnings.warn(\n",
            "/usr/local/lib/python3.9/dist-packages/sklearn/svm/_base.py:1244: ConvergenceWarning: Liblinear failed to converge, increase the number of iterations.\n",
            "  warnings.warn(\n",
            "/usr/local/lib/python3.9/dist-packages/sklearn/svm/_base.py:1244: ConvergenceWarning: Liblinear failed to converge, increase the number of iterations.\n",
            "  warnings.warn(\n",
            "/usr/local/lib/python3.9/dist-packages/sklearn/svm/_base.py:1244: ConvergenceWarning: Liblinear failed to converge, increase the number of iterations.\n",
            "  warnings.warn(\n",
            "/usr/local/lib/python3.9/dist-packages/sklearn/svm/_base.py:1244: ConvergenceWarning: Liblinear failed to converge, increase the number of iterations.\n",
            "  warnings.warn(\n",
            "/usr/local/lib/python3.9/dist-packages/sklearn/svm/_base.py:1244: ConvergenceWarning: Liblinear failed to converge, increase the number of iterations.\n",
            "  warnings.warn(\n",
            "/usr/local/lib/python3.9/dist-packages/sklearn/svm/_base.py:1244: ConvergenceWarning: Liblinear failed to converge, increase the number of iterations.\n",
            "  warnings.warn(\n",
            "/usr/local/lib/python3.9/dist-packages/sklearn/svm/_base.py:1244: ConvergenceWarning: Liblinear failed to converge, increase the number of iterations.\n",
            "  warnings.warn(\n",
            "/usr/local/lib/python3.9/dist-packages/sklearn/svm/_base.py:1244: ConvergenceWarning: Liblinear failed to converge, increase the number of iterations.\n",
            "  warnings.warn(\n",
            "/usr/local/lib/python3.9/dist-packages/sklearn/svm/_base.py:1244: ConvergenceWarning: Liblinear failed to converge, increase the number of iterations.\n",
            "  warnings.warn(\n",
            "/usr/local/lib/python3.9/dist-packages/sklearn/svm/_base.py:1244: ConvergenceWarning: Liblinear failed to converge, increase the number of iterations.\n",
            "  warnings.warn(\n",
            "/usr/local/lib/python3.9/dist-packages/sklearn/svm/_base.py:1244: ConvergenceWarning: Liblinear failed to converge, increase the number of iterations.\n",
            "  warnings.warn(\n",
            "/usr/local/lib/python3.9/dist-packages/sklearn/svm/_base.py:1244: ConvergenceWarning: Liblinear failed to converge, increase the number of iterations.\n",
            "  warnings.warn(\n",
            "/usr/local/lib/python3.9/dist-packages/sklearn/svm/_base.py:1244: ConvergenceWarning: Liblinear failed to converge, increase the number of iterations.\n",
            "  warnings.warn(\n",
            "/usr/local/lib/python3.9/dist-packages/sklearn/svm/_base.py:1244: ConvergenceWarning: Liblinear failed to converge, increase the number of iterations.\n",
            "  warnings.warn(\n",
            "/usr/local/lib/python3.9/dist-packages/sklearn/svm/_base.py:1244: ConvergenceWarning: Liblinear failed to converge, increase the number of iterations.\n",
            "  warnings.warn(\n",
            "/usr/local/lib/python3.9/dist-packages/sklearn/svm/_base.py:1244: ConvergenceWarning: Liblinear failed to converge, increase the number of iterations.\n",
            "  warnings.warn(\n",
            "/usr/local/lib/python3.9/dist-packages/sklearn/svm/_base.py:1244: ConvergenceWarning: Liblinear failed to converge, increase the number of iterations.\n",
            "  warnings.warn(\n",
            "/usr/local/lib/python3.9/dist-packages/sklearn/svm/_base.py:1244: ConvergenceWarning: Liblinear failed to converge, increase the number of iterations.\n",
            "  warnings.warn(\n",
            "/usr/local/lib/python3.9/dist-packages/sklearn/svm/_base.py:1244: ConvergenceWarning: Liblinear failed to converge, increase the number of iterations.\n",
            "  warnings.warn(\n",
            "/usr/local/lib/python3.9/dist-packages/sklearn/svm/_base.py:1244: ConvergenceWarning: Liblinear failed to converge, increase the number of iterations.\n",
            "  warnings.warn(\n",
            "/usr/local/lib/python3.9/dist-packages/sklearn/svm/_base.py:1244: ConvergenceWarning: Liblinear failed to converge, increase the number of iterations.\n",
            "  warnings.warn(\n",
            "/usr/local/lib/python3.9/dist-packages/sklearn/svm/_base.py:1244: ConvergenceWarning: Liblinear failed to converge, increase the number of iterations.\n",
            "  warnings.warn(\n",
            "/usr/local/lib/python3.9/dist-packages/sklearn/svm/_base.py:1244: ConvergenceWarning: Liblinear failed to converge, increase the number of iterations.\n",
            "  warnings.warn(\n",
            "/usr/local/lib/python3.9/dist-packages/sklearn/svm/_base.py:1244: ConvergenceWarning: Liblinear failed to converge, increase the number of iterations.\n",
            "  warnings.warn(\n",
            "/usr/local/lib/python3.9/dist-packages/sklearn/svm/_base.py:1244: ConvergenceWarning: Liblinear failed to converge, increase the number of iterations.\n",
            "  warnings.warn(\n",
            "/usr/local/lib/python3.9/dist-packages/sklearn/svm/_base.py:1244: ConvergenceWarning: Liblinear failed to converge, increase the number of iterations.\n",
            "  warnings.warn(\n",
            "/usr/local/lib/python3.9/dist-packages/sklearn/svm/_base.py:1244: ConvergenceWarning: Liblinear failed to converge, increase the number of iterations.\n",
            "  warnings.warn(\n",
            "/usr/local/lib/python3.9/dist-packages/sklearn/svm/_base.py:1244: ConvergenceWarning: Liblinear failed to converge, increase the number of iterations.\n",
            "  warnings.warn(\n",
            "/usr/local/lib/python3.9/dist-packages/sklearn/svm/_base.py:1244: ConvergenceWarning: Liblinear failed to converge, increase the number of iterations.\n",
            "  warnings.warn(\n",
            "/usr/local/lib/python3.9/dist-packages/sklearn/svm/_base.py:1244: ConvergenceWarning: Liblinear failed to converge, increase the number of iterations.\n",
            "  warnings.warn(\n",
            "/usr/local/lib/python3.9/dist-packages/sklearn/svm/_base.py:1244: ConvergenceWarning: Liblinear failed to converge, increase the number of iterations.\n",
            "  warnings.warn(\n",
            "/usr/local/lib/python3.9/dist-packages/sklearn/svm/_base.py:1244: ConvergenceWarning: Liblinear failed to converge, increase the number of iterations.\n",
            "  warnings.warn(\n",
            "/usr/local/lib/python3.9/dist-packages/sklearn/svm/_base.py:1244: ConvergenceWarning: Liblinear failed to converge, increase the number of iterations.\n",
            "  warnings.warn(\n",
            "/usr/local/lib/python3.9/dist-packages/sklearn/svm/_base.py:1244: ConvergenceWarning: Liblinear failed to converge, increase the number of iterations.\n",
            "  warnings.warn(\n",
            "/usr/local/lib/python3.9/dist-packages/sklearn/svm/_base.py:1244: ConvergenceWarning: Liblinear failed to converge, increase the number of iterations.\n",
            "  warnings.warn(\n",
            "/usr/local/lib/python3.9/dist-packages/sklearn/svm/_base.py:1244: ConvergenceWarning: Liblinear failed to converge, increase the number of iterations.\n",
            "  warnings.warn(\n",
            "/usr/local/lib/python3.9/dist-packages/sklearn/svm/_base.py:1244: ConvergenceWarning: Liblinear failed to converge, increase the number of iterations.\n",
            "  warnings.warn(\n"
          ]
        },
        {
          "output_type": "stream",
          "name": "stdout",
          "text": [
            "Accuracy: 47.17% (+/- 11.26%)\n"
          ]
        },
        {
          "output_type": "stream",
          "name": "stderr",
          "text": [
            "/usr/local/lib/python3.9/dist-packages/sklearn/svm/_base.py:1244: ConvergenceWarning: Liblinear failed to converge, increase the number of iterations.\n",
            "  warnings.warn(\n",
            "/usr/local/lib/python3.9/dist-packages/sklearn/svm/_base.py:1244: ConvergenceWarning: Liblinear failed to converge, increase the number of iterations.\n",
            "  warnings.warn(\n",
            "/usr/local/lib/python3.9/dist-packages/sklearn/svm/_base.py:1244: ConvergenceWarning: Liblinear failed to converge, increase the number of iterations.\n",
            "  warnings.warn(\n"
          ]
        }
      ]
    },
    {
      "cell_type": "code",
      "source": [
        "# KNN poging - PCA\n",
        "\n",
        "\n",
        "n = 50\n",
        "x_pca = pca_func(x_scaled,n)\n",
        "\n",
        "# Assume X_train, y_train are numpy arrays or pandas dataframes\n",
        "# Create a k-NN classifier object with k=5\n",
        "knn = KNeighborsClassifier(n_neighbors=9)\n",
        "\n",
        "# Use 5-fold cross-validation to evaluate the performance of the k-NN classifier on the training set\n",
        "scores = cross_val_score(knn, x_pca, y_gist, cv=100)\n",
        "\n",
        "# Print the cross-validation scores and their mean\n",
        "print(\"Accuracy: {:.2f}% (+/- {:.2f}%)\".format(scores.mean()*100, scores.std()*100))\n"
      ],
      "metadata": {
        "id": "jjfT4toUuRbu",
        "outputId": "02c4b79e-c14b-44ca-f2d2-cc9c80f6d9ba",
        "colab": {
          "base_uri": "https://localhost:8080/"
        }
      },
      "execution_count": 17,
      "outputs": [
        {
          "output_type": "stream",
          "name": "stderr",
          "text": [
            "/usr/local/lib/python3.9/dist-packages/sklearn/model_selection/_split.py:700: UserWarning: The least populated class in y has only 96 members, which is less than n_splits=100.\n",
            "  warnings.warn(\n"
          ]
        },
        {
          "output_type": "stream",
          "name": "stdout",
          "text": [
            "Accuracy: 48.00% (+/- 36.69%)\n"
          ]
        }
      ]
    },
    {
      "cell_type": "code",
      "source": [
        "# KNN poging - selectKBest\n",
        "\n",
        "k = 100\n",
        "x_kbest = kbest_func(x_scaled,k)\n",
        "\n",
        "# Assume X_train, y_train are numpy arrays or pandas dataframes\n",
        "# Create a k-NN classifier object with k=5\n",
        "knn = KNeighborsClassifier(n_neighbors=9)\n",
        "\n",
        "# Use 5-fold cross-validation to evaluate the performance of the k-NN classifier on the training set\n",
        "knn_select_scores = cross_val_score(knn, x_kbest, y_gist, cv=100)\n",
        "\n",
        "# Print the cross-validation scores and their mean\n",
        "print(\"Accuracy: {:.2f}% (+/- {:.2f}%)\".format(scores.mean()*100, scores.std()*100))"
      ],
      "metadata": {
        "id": "aqx1AjZsTW3d",
        "outputId": "e0a36772-14cb-46bd-ca04-924e852956b4",
        "colab": {
          "base_uri": "https://localhost:8080/"
        }
      },
      "execution_count": 18,
      "outputs": [
        {
          "output_type": "stream",
          "name": "stderr",
          "text": [
            "/usr/local/lib/python3.9/dist-packages/sklearn/feature_selection/_univariate_selection.py:112: UserWarning: Features [ 77  83  84  90  97 103 110] are constant.\n",
            "  warnings.warn(\"Features %s are constant.\" % constant_features_idx, UserWarning)\n",
            "/usr/local/lib/python3.9/dist-packages/sklearn/feature_selection/_univariate_selection.py:113: RuntimeWarning: invalid value encountered in true_divide\n",
            "  f = msb / msw\n",
            "/usr/local/lib/python3.9/dist-packages/sklearn/model_selection/_split.py:700: UserWarning: The least populated class in y has only 96 members, which is less than n_splits=100.\n",
            "  warnings.warn(\n"
          ]
        },
        {
          "output_type": "stream",
          "name": "stdout",
          "text": [
            "Accuracy: 48.00% (+/- 36.69%)\n"
          ]
        }
      ]
    },
    {
      "cell_type": "code",
      "source": [
        "# KNN poging - RFE\n",
        "\n",
        "k = 100\n",
        "x_rfe = rfe_func(x_scaled,k)\n",
        "\n",
        "# Assume X_train, y_train are numpy arrays or pandas dataframes\n",
        "# Create a k-NN classifier object with k=5\n",
        "knn = KNeighborsClassifier(n_neighbors=9)\n",
        "\n",
        "# Use 5-fold cross-validation to evaluate the performance of the k-NN classifier on the training set\n",
        "scores = cross_val_score(knn, x_rfe, y_gist, cv=100)\n",
        "\n",
        "# Print the cross-validation scores and their mean\n",
        "print(\"Accuracy: {:.2f}% (+/- {:.2f}%)\".format(scores.mean()*100, scores.std()*100))"
      ],
      "metadata": {
        "id": "5VXKQLHwo0Sc",
        "outputId": "ca7caa94-a06a-45aa-addd-44d2b454ac9f",
        "colab": {
          "base_uri": "https://localhost:8080/"
        }
      },
      "execution_count": 19,
      "outputs": [
        {
          "output_type": "stream",
          "name": "stderr",
          "text": [
            "/usr/local/lib/python3.9/dist-packages/sklearn/model_selection/_split.py:700: UserWarning: The least populated class in y has only 96 members, which is less than n_splits=100.\n",
            "  warnings.warn(\n"
          ]
        },
        {
          "output_type": "stream",
          "name": "stdout",
          "text": [
            "Accuracy: 59.00% (+/- 33.45%)\n"
          ]
        }
      ]
    },
    {
      "cell_type": "code",
      "source": [
        "# KNN poging - lasso\n",
        "\n",
        "k = 0.099\n",
        "x_lasso = lasso_func(x_scaled, k)\n",
        "\n",
        "# Assume X_train, y_train are numpy arrays or pandas dataframes\n",
        "# Create a k-NN classifier object with k=5\n",
        "knn = KNeighborsClassifier(n_neighbors=9)\n",
        "\n",
        "# Use 5-fold cross-validation to evaluate the performance of the k-NN classifier on the training set\n",
        "scores = cross_val_score(knn, x_lasso, y_gist, cv=100)\n",
        "\n",
        "# Print the cross-validation scores and their mean\n",
        "print(\"Accuracy: {:.2f}% (+/- {:.2f}%)\".format(scores.mean()*100, scores.std()*100))"
      ],
      "metadata": {
        "id": "UurZYnzVq89W",
        "outputId": "1fc1aa73-bafd-4ebe-afde-0784f7eafe46",
        "colab": {
          "base_uri": "https://localhost:8080/"
        }
      },
      "execution_count": 20,
      "outputs": [
        {
          "output_type": "stream",
          "name": "stderr",
          "text": [
            "/usr/local/lib/python3.9/dist-packages/sklearn/model_selection/_split.py:700: UserWarning: The least populated class in y has only 96 members, which is less than n_splits=100.\n",
            "  warnings.warn(\n"
          ]
        },
        {
          "output_type": "stream",
          "name": "stdout",
          "text": [
            "Accuracy: 60.50% (+/- 35.56%)\n"
          ]
        }
      ]
    },
    {
      "cell_type": "code",
      "source": [
        "# Non linear SVM - PCA\n",
        "\n",
        "n = 100\n",
        "x_pca = pca_func(x_scaled,n)\n",
        "\n",
        "# Train non-linear SVM with cross-validation\n",
        "clf = SVC(kernel='poly',degree=3, C=1.0)\n",
        "scores = cross_val_score(clf, x_pca, y_train, cv=100)\n",
        "\n",
        "# Print cross-validation scores\n",
        "print(\"Accuracy: {:.2f}% (+/- {:.2f}%)\".format(scores.mean()*100, scores.std()*100))\n"
      ],
      "metadata": {
        "id": "KuCb4wFaAyCd",
        "outputId": "69ea99c6-3f9f-46fa-df86-8d4e2ff71230",
        "colab": {
          "base_uri": "https://localhost:8080/"
        }
      },
      "execution_count": 21,
      "outputs": [
        {
          "output_type": "stream",
          "name": "stderr",
          "text": [
            "/usr/local/lib/python3.9/dist-packages/sklearn/model_selection/_split.py:700: UserWarning: The least populated class in y has only 96 members, which is less than n_splits=100.\n",
            "  warnings.warn(\n"
          ]
        },
        {
          "output_type": "stream",
          "name": "stdout",
          "text": [
            "Accuracy: 52.00% (+/- 12.08%)\n"
          ]
        }
      ]
    },
    {
      "cell_type": "code",
      "source": [
        "# Non linear SVM - SelectKBest\n",
        "\n",
        "k = 100\n",
        "x_kbest = kbest_func(x_scaled,k)\n",
        "\n",
        "# Train non-linear SVM with cross-validation\n",
        "clf = SVC(kernel='poly',degree=3, C=1.0)\n",
        "scores = cross_val_score(clf, x_kbest, y_train, cv=100)\n",
        "\n",
        "# Print cross-validation scores\n",
        "print(\"Accuracy: {:.2f}% (+/- {:.2f}%)\".format(scores.mean()*100, scores.std()*100))"
      ],
      "metadata": {
        "id": "awaeXO3lz7Jt",
        "outputId": "2a0e15a2-5d78-440f-82fe-758b18222073",
        "colab": {
          "base_uri": "https://localhost:8080/"
        }
      },
      "execution_count": 22,
      "outputs": [
        {
          "output_type": "stream",
          "name": "stderr",
          "text": [
            "/usr/local/lib/python3.9/dist-packages/sklearn/feature_selection/_univariate_selection.py:112: UserWarning: Features [ 77  83  84  90  97 103 110] are constant.\n",
            "  warnings.warn(\"Features %s are constant.\" % constant_features_idx, UserWarning)\n",
            "/usr/local/lib/python3.9/dist-packages/sklearn/feature_selection/_univariate_selection.py:113: RuntimeWarning: invalid value encountered in true_divide\n",
            "  f = msb / msw\n",
            "/usr/local/lib/python3.9/dist-packages/sklearn/model_selection/_split.py:700: UserWarning: The least populated class in y has only 96 members, which is less than n_splits=100.\n",
            "  warnings.warn(\n"
          ]
        },
        {
          "output_type": "stream",
          "name": "stdout",
          "text": [
            "Accuracy: 54.50% (+/- 23.55%)\n"
          ]
        }
      ]
    },
    {
      "cell_type": "code",
      "source": [
        "# Non linear SVM - RFE\n",
        "\n",
        "k = 100\n",
        "x_rfe = rfe_func(x_scaled,k)\n",
        "\n",
        "# Train non-linear SVM with cross-validation\n",
        "clf = SVC(kernel='poly',degree=3, C=1.0)\n",
        "scores = cross_val_score(clf, x_rfe, y_train, cv=100)\n",
        "\n",
        "# Print cross-validation scores\n",
        "print(\"Accuracy: {:.2f}% (+/- {:.2f}%)\".format(scores.mean()*100, scores.std()*100))"
      ],
      "metadata": {
        "id": "PgWJfEmK0YEZ",
        "outputId": "98e54ce4-7035-4201-ce15-d4ebc4d27cc9",
        "colab": {
          "base_uri": "https://localhost:8080/"
        }
      },
      "execution_count": 23,
      "outputs": [
        {
          "output_type": "stream",
          "name": "stderr",
          "text": [
            "/usr/local/lib/python3.9/dist-packages/sklearn/model_selection/_split.py:700: UserWarning: The least populated class in y has only 96 members, which is less than n_splits=100.\n",
            "  warnings.warn(\n"
          ]
        },
        {
          "output_type": "stream",
          "name": "stdout",
          "text": [
            "Accuracy: 50.50% (+/- 29.58%)\n"
          ]
        }
      ]
    },
    {
      "cell_type": "code",
      "source": [
        "# Non linear SVM - Lasso\n",
        "\n",
        "k = 0.01\n",
        "x_lasso = lasso_func(x_scaled,k)\n",
        "\n",
        "# Train non-linear SVM with cross-validation\n",
        "clf = SVC(kernel='poly',degree=3, C=1.0)\n",
        "scores = cross_val_score(clf, x_lasso, y_train, cv=100)\n",
        "\n",
        "# Print cross-validation scores\n",
        "print(\"Accuracy: {:.2f}% (+/- {:.2f}%)\".format(scores.mean()*100, scores.std()*100))"
      ],
      "metadata": {
        "id": "5AhsUsRm1JX2",
        "outputId": "12f5d7e4-55a5-4250-f673-be4e3955a47c",
        "colab": {
          "base_uri": "https://localhost:8080/"
        }
      },
      "execution_count": 24,
      "outputs": [
        {
          "output_type": "stream",
          "name": "stderr",
          "text": [
            "/usr/local/lib/python3.9/dist-packages/sklearn/linear_model/_coordinate_descent.py:631: ConvergenceWarning: Objective did not converge. You might want to increase the number of iterations, check the scale of the features or consider increasing regularisation. Duality gap: 1.106e+01, tolerance: 4.898e-03\n",
            "  model = cd_fast.enet_coordinate_descent(\n",
            "/usr/local/lib/python3.9/dist-packages/sklearn/model_selection/_split.py:700: UserWarning: The least populated class in y has only 96 members, which is less than n_splits=100.\n",
            "  warnings.warn(\n"
          ]
        },
        {
          "output_type": "stream",
          "name": "stdout",
          "text": [
            "Accuracy: 52.00% (+/- 12.08%)\n"
          ]
        }
      ]
    },
    {
      "cell_type": "code",
      "source": [
        "# RandomForest ensemble with cross_val - selectKBest\n",
        "\n",
        "k = 100\n",
        "x_kbest = kbest_func(x_scaled,k)\n",
        "\n",
        "params = {'n_estimators': [1, 2, 5, 10, 20, 30, 40, 50, 100]}\n",
        "\n",
        "# Run grid search with 50 fold cross validation on forest classifier\n",
        "grid = GridSearchCV(estimator=RandomForestClassifier(), param_grid=params, cv=50)\n",
        "grid = grid.fit(x_kbest, y_train)\n",
        "\n",
        "print(grid.cv_results_)\n",
        "print(grid.best_estimator_)\n",
        "print(grid.best_score_)\n",
        "print(grid.best_params_)"
      ],
      "metadata": {
        "id": "qoVQZQ1b4GLS",
        "outputId": "52683051-a1ad-4037-d403-0ebb728fcc74",
        "colab": {
          "base_uri": "https://localhost:8080/"
        }
      },
      "execution_count": 25,
      "outputs": [
        {
          "output_type": "stream",
          "name": "stderr",
          "text": [
            "/usr/local/lib/python3.9/dist-packages/sklearn/feature_selection/_univariate_selection.py:112: UserWarning: Features [ 77  83  84  90  97 103 110] are constant.\n",
            "  warnings.warn(\"Features %s are constant.\" % constant_features_idx, UserWarning)\n",
            "/usr/local/lib/python3.9/dist-packages/sklearn/feature_selection/_univariate_selection.py:113: RuntimeWarning: invalid value encountered in true_divide\n",
            "  f = msb / msw\n"
          ]
        },
        {
          "output_type": "stream",
          "name": "stdout",
          "text": [
            "{'mean_fit_time': array([0.0028871 , 0.004695  , 0.01023676, 0.02077806, 0.03779337,\n",
            "       0.06486024, 0.07442966, 0.09103892, 0.19138161]), 'std_fit_time': array([0.00048239, 0.00057141, 0.00103613, 0.01053426, 0.0019559 ,\n",
            "       0.00967263, 0.0030596 , 0.00282168, 0.02254602]), 'mean_score_time': array([0.00085244, 0.00097817, 0.00121762, 0.00166949, 0.0025677 ,\n",
            "       0.00383477, 0.00413829, 0.00496564, 0.00943436]), 'std_score_time': array([9.68408372e-05, 1.78515723e-04, 1.23676166e-04, 1.47064075e-04,\n",
            "       4.22719250e-04, 8.63995887e-04, 2.60217001e-04, 5.90433993e-04,\n",
            "       1.10507611e-03]), 'param_n_estimators': masked_array(data=[1, 2, 5, 10, 20, 30, 40, 50, 100],\n",
            "             mask=[False, False, False, False, False, False, False, False,\n",
            "                   False],\n",
            "       fill_value='?',\n",
            "            dtype=object), 'params': [{'n_estimators': 1}, {'n_estimators': 2}, {'n_estimators': 5}, {'n_estimators': 10}, {'n_estimators': 20}, {'n_estimators': 30}, {'n_estimators': 40}, {'n_estimators': 50}, {'n_estimators': 100}], 'split0_test_score': array([0.5 , 0.5 , 0.25, 0.5 , 0.75, 0.5 , 0.75, 0.5 , 0.75]), 'split1_test_score': array([0.5 , 0.75, 0.5 , 0.75, 0.25, 0.25, 0.25, 0.25, 0.25]), 'split2_test_score': array([1.  , 0.5 , 0.75, 0.25, 0.5 , 0.5 , 0.5 , 0.25, 0.5 ]), 'split3_test_score': array([0.75, 0.5 , 0.75, 0.75, 0.5 , 0.5 , 0.5 , 0.5 , 0.5 ]), 'split4_test_score': array([0.5 , 0.25, 0.75, 0.5 , 0.75, 0.75, 0.75, 0.75, 0.75]), 'split5_test_score': array([0.25, 0.75, 0.75, 0.25, 0.5 , 0.5 , 0.5 , 0.75, 0.5 ]), 'split6_test_score': array([0.5 , 0.25, 0.5 , 0.75, 0.25, 0.25, 0.75, 0.5 , 0.75]), 'split7_test_score': array([0.25, 0.5 , 0.5 , 0.5 , 0.75, 0.5 , 0.5 , 0.75, 0.75]), 'split8_test_score': array([0.5 , 0.25, 1.  , 0.25, 1.  , 1.  , 1.  , 1.  , 1.  ]), 'split9_test_score': array([0.75, 0.5 , 0.5 , 0.25, 0.25, 0.5 , 0.5 , 0.5 , 0.5 ]), 'split10_test_score': array([0.75, 0.75, 1.  , 1.  , 0.75, 0.75, 0.75, 1.  , 1.  ]), 'split11_test_score': array([1.  , 0.5 , 0.75, 0.5 , 0.75, 0.75, 0.75, 0.75, 0.75]), 'split12_test_score': array([0.5 , 0.5 , 0.5 , 0.25, 0.75, 0.25, 0.75, 0.75, 0.5 ]), 'split13_test_score': array([0.75, 0.5 , 0.5 , 0.5 , 0.75, 0.5 , 0.75, 0.75, 0.75]), 'split14_test_score': array([0.75, 1.  , 0.75, 0.75, 0.75, 0.75, 0.5 , 0.75, 0.75]), 'split15_test_score': array([0.5 , 1.  , 0.75, 0.75, 0.75, 0.75, 0.75, 0.75, 0.75]), 'split16_test_score': array([0.75, 0.75, 0.5 , 0.75, 1.  , 1.  , 0.5 , 1.  , 1.  ]), 'split17_test_score': array([0.25, 0.75, 0.25, 0.5 , 0.75, 0.25, 0.5 , 0.5 , 0.5 ]), 'split18_test_score': array([0.75, 0.5 , 0.25, 0.5 , 0.5 , 0.25, 0.75, 0.5 , 0.75]), 'split19_test_score': array([0.5 , 0.5 , 0.5 , 0.75, 1.  , 1.  , 0.75, 0.75, 1.  ]), 'split20_test_score': array([0.75, 0.25, 0.75, 0.5 , 0.5 , 0.75, 0.75, 0.5 , 0.75]), 'split21_test_score': array([0.25, 0.75, 0.25, 0.25, 0.25, 0.75, 0.75, 0.5 , 0.75]), 'split22_test_score': array([0.5 , 0.5 , 1.  , 0.5 , 0.5 , 0.5 , 0.5 , 0.75, 0.5 ]), 'split23_test_score': array([1.  , 0.5 , 0.75, 0.75, 0.5 , 0.75, 0.5 , 0.75, 0.5 ]), 'split24_test_score': array([0.25, 0.75, 0.75, 0.75, 0.5 , 0.75, 0.75, 0.75, 0.5 ]), 'split25_test_score': array([0.75, 0.5 , 0.75, 0.5 , 0.75, 0.75, 0.75, 0.75, 0.75]), 'split26_test_score': array([0.25, 0.5 , 0.75, 0.5 , 0.75, 0.5 , 0.5 , 0.5 , 0.5 ]), 'split27_test_score': array([0.5 , 0.25, 0.25, 0.5 , 0.25, 0.25, 0.5 , 0.  , 0.  ]), 'split28_test_score': array([0.5 , 0.75, 0.75, 0.75, 0.75, 0.75, 1.  , 1.  , 1.  ]), 'split29_test_score': array([0.5 , 0.75, 0.75, 0.5 , 0.5 , 0.5 , 0.5 , 0.5 , 0.25]), 'split30_test_score': array([0.5 , 0.75, 0.5 , 0.75, 0.5 , 0.25, 0.5 , 0.5 , 0.5 ]), 'split31_test_score': array([0.5 , 0.  , 0.5 , 0.25, 0.5 , 0.5 , 0.5 , 0.5 , 0.5 ]), 'split32_test_score': array([1.  , 0.25, 0.25, 0.25, 0.  , 0.75, 0.75, 0.75, 0.75]), 'split33_test_score': array([0.5 , 0.5 , 0.5 , 0.5 , 0.5 , 0.75, 0.5 , 0.75, 0.5 ]), 'split34_test_score': array([1.  , 0.5 , 0.75, 0.25, 0.5 , 0.5 , 0.5 , 0.5 , 0.75]), 'split35_test_score': array([0.25, 0.25, 0.75, 0.75, 0.75, 0.5 , 0.5 , 0.5 , 0.75]), 'split36_test_score': array([1.  , 1.  , 0.5 , 0.5 , 0.75, 0.5 , 0.5 , 0.5 , 0.75]), 'split37_test_score': array([0.25, 0.75, 0.5 , 0.5 , 0.5 , 0.25, 0.5 , 0.25, 0.5 ]), 'split38_test_score': array([0.5 , 1.  , 0.5 , 1.  , 0.75, 0.75, 0.5 , 0.75, 0.75]), 'split39_test_score': array([0.25, 0.5 , 0.25, 0.5 , 0.25, 0.5 , 0.5 , 0.25, 0.25]), 'split40_test_score': array([0.25, 0.5 , 0.25, 0.25, 0.75, 0.75, 0.75, 0.75, 0.75]), 'split41_test_score': array([0.75, 0.25, 0.5 , 0.5 , 0.5 , 0.75, 0.25, 0.25, 0.5 ]), 'split42_test_score': array([0.75, 0.75, 0.5 , 0.75, 1.  , 0.5 , 0.5 , 0.5 , 0.5 ]), 'split43_test_score': array([0.75, 1.  , 0.75, 1.  , 0.75, 1.  , 1.  , 1.  , 0.75]), 'split44_test_score': array([0.  , 0.5 , 0.75, 0.25, 0.5 , 1.  , 0.5 , 0.75, 0.75]), 'split45_test_score': array([0.5 , 0.5 , 0.75, 0.5 , 1.  , 0.75, 0.5 , 1.  , 0.75]), 'split46_test_score': array([0.66666667, 1.        , 0.33333333, 0.33333333, 0.66666667,\n",
            "       0.66666667, 0.66666667, 0.66666667, 0.66666667]), 'split47_test_score': array([1.        , 0.66666667, 0.66666667, 1.        , 1.        ,\n",
            "       0.66666667, 1.        , 1.        , 1.        ]), 'split48_test_score': array([0.33333333, 0.        , 0.66666667, 0.66666667, 0.66666667,\n",
            "       0.33333333, 0.66666667, 0.66666667, 0.33333333]), 'split49_test_score': array([0.33333333, 0.33333333, 0.66666667, 0.66666667, 1.        ,\n",
            "       0.66666667, 0.66666667, 0.66666667, 0.66666667]), 'mean_test_score': array([0.56666667, 0.56      , 0.59166667, 0.55333333, 0.62666667,\n",
            "       0.60166667, 0.62      , 0.635     , 0.64333333]), 'std_test_score': array([0.25440563, 0.25002222, 0.20632364, 0.22095751, 0.23466288,\n",
            "       0.21939943, 0.17253019, 0.22845496, 0.21476085]), 'rank_test_score': array([7, 8, 6, 9, 3, 5, 4, 2, 1], dtype=int32)}\n",
            "RandomForestClassifier()\n",
            "0.6433333333333333\n",
            "{'n_estimators': 100}\n"
          ]
        }
      ]
    },
    {
      "cell_type": "code",
      "source": [
        "# Random forest ensemble with bagging - SelectKBest\n",
        "\n",
        "k = 100\n",
        "x_kbest = kbest_func(x_scaled,k)\n",
        "\n",
        "# Assume X_train, y_train are numpy arrays or pandas dataframes\n",
        "\n",
        "# Create a Random Forest classifier object with n=100 as the base estimator\n",
        "base_estimator = RandomForestClassifier(n_estimators=100)\n",
        "\n",
        "# Create a BaggingClassifier with the Random Forest classifier as the base estimator\n",
        "bagging_classifier = BaggingClassifier(estimator=base_estimator)  # Use \"estimator\" instead of \"base_estimator\"\n",
        "\n",
        "# Use 5-fold cross-validation to evaluate the performance of the BaggingClassifier on the training set\n",
        "scores = cross_val_score(bagging_classifier, x_kbest, y_train, cv=5)\n",
        "\n",
        "# Print the cross-validation scores and their mean\n",
        "print(\"Accuracy: {:.2f}% (+/- {:.2f}%)\".format(scores.mean()*100, scores.std()*100))\n",
        "\n",
        "# Perform GridSearchCV with BaggingClassifier\n",
        "params = {'estimator__n_estimators': [1, 2, 5, 10, 20, 30, 40, 50, 100]} # Use \"estimator\" instead of \"base_estimator\"\n",
        "cv = StratifiedKFold(n_splits=50) # Use StratifiedKFold for cross-validation\n",
        "grid = GridSearchCV(estimator=bagging_classifier, param_grid=params, cv=cv)\n",
        "grid.fit(x_kbest, y_train)\n",
        "\n",
        "# Print the results of grid search\n",
        "print(grid.cv_results_)\n",
        "print(grid.best_estimator_)\n",
        "print(grid.best_score_)\n",
        "print(grid.best_params_)\n"
      ],
      "metadata": {
        "id": "gr-joBU2PtV6",
        "outputId": "21a52de8-e411-435c-d1bc-4f6a2ccc2ecb",
        "colab": {
          "base_uri": "https://localhost:8080/"
        }
      },
      "execution_count": 26,
      "outputs": [
        {
          "output_type": "stream",
          "name": "stderr",
          "text": [
            "/usr/local/lib/python3.9/dist-packages/sklearn/feature_selection/_univariate_selection.py:112: UserWarning: Features [ 77  83  84  90  97 103 110] are constant.\n",
            "  warnings.warn(\"Features %s are constant.\" % constant_features_idx, UserWarning)\n",
            "/usr/local/lib/python3.9/dist-packages/sklearn/feature_selection/_univariate_selection.py:113: RuntimeWarning: invalid value encountered in true_divide\n",
            "  f = msb / msw\n"
          ]
        },
        {
          "output_type": "stream",
          "name": "stdout",
          "text": [
            "Accuracy: 64.81% (+/- 6.69%)\n",
            "{'mean_fit_time': array([0.0317568 , 0.04775093, 0.10428454, 0.17651612, 0.33512663,\n",
            "       0.51633426, 0.65811024, 0.81861664, 1.61580748]), 'std_fit_time': array([0.00140303, 0.00164775, 0.01714252, 0.0206612 , 0.03692122,\n",
            "       0.09496899, 0.06737123, 0.08814496, 0.11622631]), 'mean_score_time': array([0.003847  , 0.00483259, 0.00817358, 0.01177178, 0.02007089,\n",
            "       0.03106593, 0.03771801, 0.04731277, 0.09632954]), 'std_score_time': array([0.00052958, 0.00072298, 0.00139075, 0.00182444, 0.00257824,\n",
            "       0.01227545, 0.00515513, 0.00608249, 0.01360859]), 'param_estimator__n_estimators': masked_array(data=[1, 2, 5, 10, 20, 30, 40, 50, 100],\n",
            "             mask=[False, False, False, False, False, False, False, False,\n",
            "                   False],\n",
            "       fill_value='?',\n",
            "            dtype=object), 'params': [{'estimator__n_estimators': 1}, {'estimator__n_estimators': 2}, {'estimator__n_estimators': 5}, {'estimator__n_estimators': 10}, {'estimator__n_estimators': 20}, {'estimator__n_estimators': 30}, {'estimator__n_estimators': 40}, {'estimator__n_estimators': 50}, {'estimator__n_estimators': 100}], 'split0_test_score': array([0.75, 0.5 , 0.5 , 0.75, 0.75, 0.75, 0.75, 0.75, 0.75]), 'split1_test_score': array([0.25, 0.5 , 0.25, 0.25, 0.25, 0.25, 0.25, 0.25, 0.25]), 'split2_test_score': array([0.5 , 0.5 , 0.75, 0.5 , 0.5 , 0.25, 0.5 , 0.25, 0.5 ]), 'split3_test_score': array([0.5 , 0.5 , 0.25, 0.5 , 0.5 , 0.5 , 0.5 , 0.5 , 0.5 ]), 'split4_test_score': array([0.5 , 0.5 , 0.75, 0.75, 0.75, 0.75, 0.75, 0.75, 0.75]), 'split5_test_score': array([0.25, 0.75, 0.5 , 0.5 , 0.5 , 0.5 , 0.75, 0.75, 0.75]), 'split6_test_score': array([0.5 , 0.25, 0.75, 0.5 , 0.75, 0.5 , 0.5 , 0.5 , 0.75]), 'split7_test_score': array([0.5 , 0.75, 0.5 , 0.75, 0.5 , 0.5 , 0.5 , 0.5 , 0.5 ]), 'split8_test_score': array([0.75, 1.  , 1.  , 1.  , 1.  , 0.75, 1.  , 1.  , 1.  ]), 'split9_test_score': array([0.25, 0.5 , 0.5 , 0.5 , 0.5 , 0.5 , 0.5 , 0.5 , 0.5 ]), 'split10_test_score': array([0.75, 0.75, 1.  , 1.  , 1.  , 1.  , 1.  , 1.  , 1.  ]), 'split11_test_score': array([0.75, 0.75, 0.75, 0.75, 0.75, 0.75, 0.75, 0.75, 0.75]), 'split12_test_score': array([0.5 , 0.25, 0.5 , 0.75, 0.75, 0.75, 0.75, 0.75, 0.75]), 'split13_test_score': array([0.5 , 0.75, 0.5 , 0.75, 0.75, 0.75, 0.75, 0.75, 0.75]), 'split14_test_score': array([0.75, 1.  , 1.  , 0.75, 0.5 , 0.75, 0.5 , 0.75, 0.75]), 'split15_test_score': array([0.75, 0.75, 0.75, 0.75, 0.75, 0.75, 0.75, 0.75, 0.75]), 'split16_test_score': array([0.75, 0.5 , 1.  , 0.75, 1.  , 1.  , 1.  , 1.  , 1.  ]), 'split17_test_score': array([0.5 , 0.25, 0.5 , 0.5 , 0.5 , 0.5 , 0.5 , 0.25, 0.25]), 'split18_test_score': array([0.5 , 0.5 , 0.75, 0.75, 0.75, 0.75, 0.75, 0.75, 0.75]), 'split19_test_score': array([1.  , 0.75, 0.75, 0.75, 0.75, 0.75, 0.75, 0.75, 0.75]), 'split20_test_score': array([0.5 , 0.25, 0.75, 0.75, 0.75, 0.75, 1.  , 1.  , 1.  ]), 'split21_test_score': array([0.5 , 0.25, 0.75, 0.5 , 0.5 , 0.75, 0.75, 0.75, 0.75]), 'split22_test_score': array([0.5 , 0.5 , 0.5 , 0.75, 0.75, 0.5 , 0.25, 0.5 , 0.5 ]), 'split23_test_score': array([0.5 , 0.5 , 0.75, 0.25, 0.5 , 0.5 , 0.75, 0.75, 0.5 ]), 'split24_test_score': array([0.75, 0.75, 0.75, 0.75, 0.75, 0.75, 0.75, 0.75, 0.75]), 'split25_test_score': array([0.5 , 0.5 , 0.75, 0.75, 0.75, 0.75, 0.75, 0.75, 0.75]), 'split26_test_score': array([0.5 , 0.25, 0.5 , 0.5 , 0.5 , 0.5 , 0.5 , 0.5 , 0.5 ]), 'split27_test_score': array([0.5 , 0.5 , 0.5 , 0.25, 0.5 , 0.  , 0.25, 0.25, 0.  ]), 'split28_test_score': array([1., 1., 1., 1., 1., 1., 1., 1., 1.]), 'split29_test_score': array([0.75, 0.5 , 0.5 , 0.5 , 0.5 , 0.25, 0.5 , 0.5 , 0.5 ]), 'split30_test_score': array([1.  , 0.25, 0.5 , 0.5 , 0.5 , 0.5 , 0.5 , 0.5 , 0.5 ]), 'split31_test_score': array([0.75, 0.5 , 0.5 , 0.5 , 0.5 , 0.5 , 0.5 , 0.5 , 0.5 ]), 'split32_test_score': array([1.  , 0.75, 0.5 , 0.5 , 0.75, 0.75, 0.5 , 1.  , 0.5 ]), 'split33_test_score': array([0.5, 0.5, 0.5, 0.5, 0.5, 0.5, 0.5, 0.5, 0.5]), 'split34_test_score': array([0.25, 0.75, 0.75, 0.75, 0.75, 0.75, 1.  , 0.5 , 0.75]), 'split35_test_score': array([0.5 , 0.75, 0.5 , 0.75, 0.5 , 0.5 , 0.5 , 0.5 , 0.5 ]), 'split36_test_score': array([0.5 , 0.75, 0.5 , 0.75, 0.75, 0.75, 0.75, 0.75, 0.75]), 'split37_test_score': array([0.5 , 0.5 , 0.25, 0.25, 0.5 , 0.5 , 0.25, 0.5 , 0.5 ]), 'split38_test_score': array([0.75, 0.75, 0.75, 0.75, 0.75, 0.75, 0.75, 0.75, 0.75]), 'split39_test_score': array([0.25, 0.25, 0.5 , 0.25, 0.5 , 0.25, 0.25, 0.5 , 0.25]), 'split40_test_score': array([0.75, 0.5 , 0.5 , 0.75, 0.75, 0.75, 0.75, 0.75, 0.75]), 'split41_test_score': array([0.5 , 0.25, 0.25, 0.5 , 0.5 , 0.5 , 0.5 , 0.5 , 0.5 ]), 'split42_test_score': array([0.25, 0.75, 0.5 , 0.75, 0.5 , 0.75, 0.75, 0.5 , 0.5 ]), 'split43_test_score': array([0.75, 1.  , 0.75, 1.  , 1.  , 1.  , 0.75, 0.75, 1.  ]), 'split44_test_score': array([0.75, 0.5 , 0.5 , 0.75, 0.5 , 0.5 , 0.75, 0.75, 0.75]), 'split45_test_score': array([0.5 , 0.75, 0.25, 0.5 , 1.  , 0.75, 0.75, 0.75, 0.75]), 'split46_test_score': array([0.66666667, 0.66666667, 0.33333333, 0.66666667, 0.66666667,\n",
            "       0.66666667, 0.66666667, 0.66666667, 0.66666667]), 'split47_test_score': array([0.66666667, 1.        , 1.        , 1.        , 1.        ,\n",
            "       1.        , 1.        , 1.        , 1.        ]), 'split48_test_score': array([0.66666667, 0.33333333, 0.33333333, 0.33333333, 0.66666667,\n",
            "       0.66666667, 0.33333333, 0.33333333, 0.66666667]), 'split49_test_score': array([1.        , 0.66666667, 0.66666667, 1.        , 0.66666667,\n",
            "       0.66666667, 0.66666667, 0.66666667, 0.66666667]), 'mean_test_score': array([0.6       , 0.58333333, 0.60666667, 0.645     , 0.665     ,\n",
            "       0.635     , 0.64833333, 0.65333333, 0.655     ]), 'std_test_score': array([0.20412415, 0.2229848 , 0.21281186, 0.20937075, 0.1821858 ,\n",
            "       0.21140404, 0.21427526, 0.20773915, 0.21538725]), 'rank_test_score': array([8, 9, 7, 5, 1, 6, 4, 3, 2], dtype=int32)}\n",
            "BaggingClassifier(estimator=RandomForestClassifier(n_estimators=20))\n",
            "0.6649999999999998\n",
            "{'estimator__n_estimators': 20}\n"
          ]
        }
      ]
    },
    {
      "cell_type": "code",
      "source": [
        "# Non linear SVM with KNN - SelectKBest (cross_val)\n",
        "\n",
        "# SelectKBest feature selection\n",
        "k = 100\n",
        "x_kbest = kbest_func(x_scaled, k)\n",
        "\n",
        "# Train non-linear SVM with cross-validation\n",
        "svm = SVC(kernel='poly', degree=3, C=1.0)\n",
        "svm_scores = cross_val_score(svm, x_kbest, y_train, cv=100)\n",
        "\n",
        "# Train KNN with cross-validation\n",
        "knn = KNeighborsClassifier(n_neighbors=9)\n",
        "knn_scores = cross_val_score(knn, x_kbest, y_gist, cv=100)\n",
        "\n",
        "# Ensemble by averaging the scores\n",
        "ensemble_scores = (svm_scores + knn_scores) / 2\n",
        "\n",
        "# Print the cross-validation scores and their mean for SVM, KNN, and the ensemble\n",
        "print(\"SVM Accuracy: {:.2f}% (+/- {:.2f}%)\".format(svm_scores.mean()*100, svm_scores.std()*100))\n",
        "print(\"KNN Accuracy: {:.2f}% (+/- {:.2f}%)\".format(knn_scores.mean()*100, knn_scores.std()*100))\n",
        "print(\"Ensemble Accuracy: {:.2f}% (+/- {:.2f}%)\".format(ensemble_scores.mean()*100, ensemble_scores.std()*100))"
      ],
      "metadata": {
        "id": "JKhHnoCmUV4w",
        "outputId": "30a3fb2b-f047-4818-ba0d-e9d95e0145aa",
        "colab": {
          "base_uri": "https://localhost:8080/"
        }
      },
      "execution_count": 27,
      "outputs": [
        {
          "output_type": "stream",
          "name": "stderr",
          "text": [
            "/usr/local/lib/python3.9/dist-packages/sklearn/feature_selection/_univariate_selection.py:112: UserWarning: Features [ 77  83  84  90  97 103 110] are constant.\n",
            "  warnings.warn(\"Features %s are constant.\" % constant_features_idx, UserWarning)\n",
            "/usr/local/lib/python3.9/dist-packages/sklearn/feature_selection/_univariate_selection.py:113: RuntimeWarning: invalid value encountered in true_divide\n",
            "  f = msb / msw\n",
            "/usr/local/lib/python3.9/dist-packages/sklearn/model_selection/_split.py:700: UserWarning: The least populated class in y has only 96 members, which is less than n_splits=100.\n",
            "  warnings.warn(\n",
            "/usr/local/lib/python3.9/dist-packages/sklearn/model_selection/_split.py:700: UserWarning: The least populated class in y has only 96 members, which is less than n_splits=100.\n",
            "  warnings.warn(\n"
          ]
        },
        {
          "output_type": "stream",
          "name": "stdout",
          "text": [
            "SVM Accuracy: 54.50% (+/- 23.55%)\n",
            "KNN Accuracy: 61.00% (+/- 36.46%)\n",
            "Ensemble Accuracy: 57.75% (+/- 24.92%)\n"
          ]
        }
      ]
    },
    {
      "cell_type": "code",
      "source": [
        "# non-linear SVM and KNN - SelectKbest with bagging\n",
        "\n",
        "# SelectKBest feature selection\n",
        "k = 100\n",
        "x_kbest = kbest_func(x_scaled, k)\n",
        "\n",
        "# Train non-linear SVM with cross-validation\n",
        "svm = SVC(kernel='poly', degree=3, C=1.0)\n",
        "# Train KNN with cross-validation\n",
        "knn = KNeighborsClassifier(n_neighbors=9)\n",
        "\n",
        "# Create an ensemble of SVM and KNN classifiers using bagging\n",
        "ensemble_svm = BaggingClassifier(base_estimator=svm, n_estimators=10, random_state=42)\n",
        "ensemble_knn = BaggingClassifier(base_estimator=knn, n_estimators=10, random_state=42)\n",
        "\n",
        "# Compute cross-validation scores for the ensemble classifiers with 5-fold cross-validation\n",
        "svm_scores = cross_val_score(ensemble_svm, x_kbest, y_train, cv=5)\n",
        "knn_scores = cross_val_score(ensemble_knn, x_kbest, y_gist, cv=5)\n",
        "\n",
        "# Ensemble by averaging the scores\n",
        "ensemble_scores_averaging = (svm_scores + knn_scores) / 2\n",
        "\n",
        "# Create an ensemble with voting\n",
        "ensemble_voting = VotingClassifier(estimators=[('svm', ensemble_svm), ('knn', ensemble_knn)], voting='hard')\n",
        "\n",
        "# Compute cross-validation scores for the ensemble classifiers with 5-fold cross-validation\n",
        "ensemble_scores_voting = cross_val_score(ensemble_voting, x_kbest, y_train, cv=5)\n",
        "\n",
        "# Print the cross-validation scores and their mean for SVM, KNN, and the ensemble averaging\n",
        "print(\"SVM Accuracy: {:.2f}% (+/- {:.2f}%)\".format(svm_scores.mean()*100, svm_scores.std()*100))\n",
        "print(\"KNN Accuracy: {:.2f}% (+/- {:.2f}%)\".format(knn_scores.mean()*100, knn_scores.std()*100))\n",
        "print(\"Ensemble Accuracy averaging: {:.2f}% (+/- {:.2f}%)\".format(ensemble_scores_averaging.mean()*100, ensemble_scores_averaging.std()*100))\n",
        "\n",
        "# Print the cross-validation scores and their mean for the ensemble voting \n",
        "print(\"Ensemble Accuracy voting: {:.2f}% (+/- {:.2f}%)\".format(ensemble_scores_voting.mean()*100, ensemble_scores_voting.std()*100))\n"
      ],
      "metadata": {
        "id": "ALXy9OFWVziS",
        "outputId": "83998b37-7fde-4635-97cb-2ae9aedf5e87",
        "colab": {
          "base_uri": "https://localhost:8080/"
        }
      },
      "execution_count": 28,
      "outputs": [
        {
          "output_type": "stream",
          "name": "stderr",
          "text": [
            "/usr/local/lib/python3.9/dist-packages/sklearn/feature_selection/_univariate_selection.py:112: UserWarning: Features [ 77  83  84  90  97 103 110] are constant.\n",
            "  warnings.warn(\"Features %s are constant.\" % constant_features_idx, UserWarning)\n",
            "/usr/local/lib/python3.9/dist-packages/sklearn/feature_selection/_univariate_selection.py:113: RuntimeWarning: invalid value encountered in true_divide\n",
            "  f = msb / msw\n",
            "/usr/local/lib/python3.9/dist-packages/sklearn/ensemble/_base.py:166: FutureWarning: `base_estimator` was renamed to `estimator` in version 1.2 and will be removed in 1.4.\n",
            "  warnings.warn(\n",
            "/usr/local/lib/python3.9/dist-packages/sklearn/ensemble/_base.py:166: FutureWarning: `base_estimator` was renamed to `estimator` in version 1.2 and will be removed in 1.4.\n",
            "  warnings.warn(\n",
            "/usr/local/lib/python3.9/dist-packages/sklearn/ensemble/_base.py:166: FutureWarning: `base_estimator` was renamed to `estimator` in version 1.2 and will be removed in 1.4.\n",
            "  warnings.warn(\n",
            "/usr/local/lib/python3.9/dist-packages/sklearn/ensemble/_base.py:166: FutureWarning: `base_estimator` was renamed to `estimator` in version 1.2 and will be removed in 1.4.\n",
            "  warnings.warn(\n",
            "/usr/local/lib/python3.9/dist-packages/sklearn/ensemble/_base.py:166: FutureWarning: `base_estimator` was renamed to `estimator` in version 1.2 and will be removed in 1.4.\n",
            "  warnings.warn(\n",
            "/usr/local/lib/python3.9/dist-packages/sklearn/ensemble/_base.py:166: FutureWarning: `base_estimator` was renamed to `estimator` in version 1.2 and will be removed in 1.4.\n",
            "  warnings.warn(\n",
            "/usr/local/lib/python3.9/dist-packages/sklearn/ensemble/_base.py:166: FutureWarning: `base_estimator` was renamed to `estimator` in version 1.2 and will be removed in 1.4.\n",
            "  warnings.warn(\n",
            "/usr/local/lib/python3.9/dist-packages/sklearn/ensemble/_base.py:166: FutureWarning: `base_estimator` was renamed to `estimator` in version 1.2 and will be removed in 1.4.\n",
            "  warnings.warn(\n",
            "/usr/local/lib/python3.9/dist-packages/sklearn/ensemble/_base.py:166: FutureWarning: `base_estimator` was renamed to `estimator` in version 1.2 and will be removed in 1.4.\n",
            "  warnings.warn(\n",
            "/usr/local/lib/python3.9/dist-packages/sklearn/ensemble/_base.py:166: FutureWarning: `base_estimator` was renamed to `estimator` in version 1.2 and will be removed in 1.4.\n",
            "  warnings.warn(\n",
            "/usr/local/lib/python3.9/dist-packages/sklearn/ensemble/_base.py:166: FutureWarning: `base_estimator` was renamed to `estimator` in version 1.2 and will be removed in 1.4.\n",
            "  warnings.warn(\n",
            "/usr/local/lib/python3.9/dist-packages/sklearn/ensemble/_base.py:166: FutureWarning: `base_estimator` was renamed to `estimator` in version 1.2 and will be removed in 1.4.\n",
            "  warnings.warn(\n",
            "/usr/local/lib/python3.9/dist-packages/sklearn/ensemble/_base.py:166: FutureWarning: `base_estimator` was renamed to `estimator` in version 1.2 and will be removed in 1.4.\n",
            "  warnings.warn(\n",
            "/usr/local/lib/python3.9/dist-packages/sklearn/ensemble/_base.py:166: FutureWarning: `base_estimator` was renamed to `estimator` in version 1.2 and will be removed in 1.4.\n",
            "  warnings.warn(\n",
            "/usr/local/lib/python3.9/dist-packages/sklearn/ensemble/_base.py:166: FutureWarning: `base_estimator` was renamed to `estimator` in version 1.2 and will be removed in 1.4.\n",
            "  warnings.warn(\n",
            "/usr/local/lib/python3.9/dist-packages/sklearn/ensemble/_base.py:166: FutureWarning: `base_estimator` was renamed to `estimator` in version 1.2 and will be removed in 1.4.\n",
            "  warnings.warn(\n",
            "/usr/local/lib/python3.9/dist-packages/sklearn/ensemble/_base.py:166: FutureWarning: `base_estimator` was renamed to `estimator` in version 1.2 and will be removed in 1.4.\n",
            "  warnings.warn(\n"
          ]
        },
        {
          "output_type": "stream",
          "name": "stdout",
          "text": [
            "SVM Accuracy: 54.60% (+/- 3.60%)\n",
            "KNN Accuracy: 61.77% (+/- 5.55%)\n",
            "Ensemble Accuracy averaging: 58.19% (+/- 3.88%)\n",
            "Ensemble Accuracy voting: 61.77% (+/- 5.55%)\n"
          ]
        },
        {
          "output_type": "stream",
          "name": "stderr",
          "text": [
            "/usr/local/lib/python3.9/dist-packages/sklearn/ensemble/_base.py:166: FutureWarning: `base_estimator` was renamed to `estimator` in version 1.2 and will be removed in 1.4.\n",
            "  warnings.warn(\n",
            "/usr/local/lib/python3.9/dist-packages/sklearn/ensemble/_base.py:166: FutureWarning: `base_estimator` was renamed to `estimator` in version 1.2 and will be removed in 1.4.\n",
            "  warnings.warn(\n",
            "/usr/local/lib/python3.9/dist-packages/sklearn/ensemble/_base.py:166: FutureWarning: `base_estimator` was renamed to `estimator` in version 1.2 and will be removed in 1.4.\n",
            "  warnings.warn(\n"
          ]
        }
      ]
    },
    {
      "cell_type": "code",
      "source": [
        "\n",
        "\n",
        "# SelectKBest feature selection\n",
        "k = 100\n",
        "x_kbest = kbest_func(x_scaled, k)\n",
        "\n",
        "# Train non-linear SVM with cross-validation\n",
        "svm = SVC(kernel='poly', degree=3, C=1.0)\n",
        "# Train linear SVM with SelectKBest feature selection\n",
        "linear_svm = SelectKBest(k=k).fit_transform(x_scaled, y_train)\n",
        "linear_svm = LinearSVC()\n",
        "\n",
        "# Train KNN with cross-validation\n",
        "knn = KNeighborsClassifier(n_neighbors=9)\n",
        "\n",
        "# Create an ensemble of SVM, Linear SVM, and KNN classifiers using bagging\n",
        "ensemble_svm = BaggingClassifier(base_estimator=svm, n_estimators=10, random_state=42)\n",
        "ensemble_linear_svm = BaggingClassifier(base_estimator=linear_svm, n_estimators=10, random_state=42)\n",
        "ensemble_knn = BaggingClassifier(base_estimator=knn, n_estimators=10, random_state=42)\n",
        "\n",
        "# Compute cross-validation scores for the ensemble classifiers with 5-fold cross-validation\n",
        "svm_scores = cross_val_score(ensemble_svm, x_kbest, y_train, cv=5)\n",
        "linear_svm_scores = cross_val_score(ensemble_linear_svm, x_kbest, y_train, cv=5)\n",
        "knn_scores = cross_val_score(ensemble_knn, x_kbest, y_train, cv=5)\n",
        "\n",
        "# Create an ensemble with voting\n",
        "ensemble_voting = VotingClassifier(estimators=[('svm', ensemble_svm), ('linear_svm', ensemble_linear_svm), ('knn', ensemble_knn)], voting='hard')\n",
        "\n",
        "# Compute cross-validation scores for the ensemble classifiers with 5-fold cross-validation\n",
        "ensemble_scores_voting = cross_val_score(ensemble_voting, x_kbest, y_train, cv=5)\n",
        "\n",
        "# Print the cross-validation scores and their mean for SVM, Linear SVM, KNN, and the ensemble averaging\n",
        "print(\"SVM Accuracy: {:.2f}% (+/- {:.2f}%)\".format(svm_scores.mean()*100, svm_scores.std()*100))\n",
        "print(\"Linear SVM Accuracy: {:.2f}% (+/- {:.2f}%)\".format(linear_svm_scores.mean()*100, linear_svm_scores.std()*100))\n",
        "print(\"KNN Accuracy: {:.2f}% (+/- {:.2f}%)\".format(knn_scores.mean()*100, knn_scores.std()*100))\n",
        "print(\"Ensemble Accuracy averaging: {:.2f}% (+/- {:.2f}%)\".format(ensemble_scores_voting.mean()*100, ensemble_scores_voting.std()*100))"
      ],
      "metadata": {
        "id": "yMnD4fEmc4Sc",
        "outputId": "450ef539-2c7f-4dd4-f4e1-1fc94311f311",
        "colab": {
          "base_uri": "https://localhost:8080/"
        }
      },
      "execution_count": 29,
      "outputs": [
        {
          "output_type": "stream",
          "name": "stderr",
          "text": [
            "/usr/local/lib/python3.9/dist-packages/sklearn/feature_selection/_univariate_selection.py:112: UserWarning: Features [ 77  83  84  90  97 103 110] are constant.\n",
            "  warnings.warn(\"Features %s are constant.\" % constant_features_idx, UserWarning)\n",
            "/usr/local/lib/python3.9/dist-packages/sklearn/feature_selection/_univariate_selection.py:113: RuntimeWarning: invalid value encountered in true_divide\n",
            "  f = msb / msw\n",
            "/usr/local/lib/python3.9/dist-packages/sklearn/feature_selection/_univariate_selection.py:112: UserWarning: Features [ 77  83  84  90  97 103 110] are constant.\n",
            "  warnings.warn(\"Features %s are constant.\" % constant_features_idx, UserWarning)\n",
            "/usr/local/lib/python3.9/dist-packages/sklearn/feature_selection/_univariate_selection.py:113: RuntimeWarning: invalid value encountered in true_divide\n",
            "  f = msb / msw\n",
            "/usr/local/lib/python3.9/dist-packages/sklearn/ensemble/_base.py:166: FutureWarning: `base_estimator` was renamed to `estimator` in version 1.2 and will be removed in 1.4.\n",
            "  warnings.warn(\n",
            "/usr/local/lib/python3.9/dist-packages/sklearn/ensemble/_base.py:166: FutureWarning: `base_estimator` was renamed to `estimator` in version 1.2 and will be removed in 1.4.\n",
            "  warnings.warn(\n",
            "/usr/local/lib/python3.9/dist-packages/sklearn/ensemble/_base.py:166: FutureWarning: `base_estimator` was renamed to `estimator` in version 1.2 and will be removed in 1.4.\n",
            "  warnings.warn(\n",
            "/usr/local/lib/python3.9/dist-packages/sklearn/ensemble/_base.py:166: FutureWarning: `base_estimator` was renamed to `estimator` in version 1.2 and will be removed in 1.4.\n",
            "  warnings.warn(\n",
            "/usr/local/lib/python3.9/dist-packages/sklearn/ensemble/_base.py:166: FutureWarning: `base_estimator` was renamed to `estimator` in version 1.2 and will be removed in 1.4.\n",
            "  warnings.warn(\n",
            "/usr/local/lib/python3.9/dist-packages/sklearn/ensemble/_base.py:166: FutureWarning: `base_estimator` was renamed to `estimator` in version 1.2 and will be removed in 1.4.\n",
            "  warnings.warn(\n",
            "/usr/local/lib/python3.9/dist-packages/sklearn/svm/_base.py:1244: ConvergenceWarning: Liblinear failed to converge, increase the number of iterations.\n",
            "  warnings.warn(\n",
            "/usr/local/lib/python3.9/dist-packages/sklearn/svm/_base.py:1244: ConvergenceWarning: Liblinear failed to converge, increase the number of iterations.\n",
            "  warnings.warn(\n",
            "/usr/local/lib/python3.9/dist-packages/sklearn/svm/_base.py:1244: ConvergenceWarning: Liblinear failed to converge, increase the number of iterations.\n",
            "  warnings.warn(\n",
            "/usr/local/lib/python3.9/dist-packages/sklearn/svm/_base.py:1244: ConvergenceWarning: Liblinear failed to converge, increase the number of iterations.\n",
            "  warnings.warn(\n",
            "/usr/local/lib/python3.9/dist-packages/sklearn/svm/_base.py:1244: ConvergenceWarning: Liblinear failed to converge, increase the number of iterations.\n",
            "  warnings.warn(\n",
            "/usr/local/lib/python3.9/dist-packages/sklearn/svm/_base.py:1244: ConvergenceWarning: Liblinear failed to converge, increase the number of iterations.\n",
            "  warnings.warn(\n",
            "/usr/local/lib/python3.9/dist-packages/sklearn/svm/_base.py:1244: ConvergenceWarning: Liblinear failed to converge, increase the number of iterations.\n",
            "  warnings.warn(\n",
            "/usr/local/lib/python3.9/dist-packages/sklearn/svm/_base.py:1244: ConvergenceWarning: Liblinear failed to converge, increase the number of iterations.\n",
            "  warnings.warn(\n",
            "/usr/local/lib/python3.9/dist-packages/sklearn/svm/_base.py:1244: ConvergenceWarning: Liblinear failed to converge, increase the number of iterations.\n",
            "  warnings.warn(\n",
            "/usr/local/lib/python3.9/dist-packages/sklearn/svm/_base.py:1244: ConvergenceWarning: Liblinear failed to converge, increase the number of iterations.\n",
            "  warnings.warn(\n",
            "/usr/local/lib/python3.9/dist-packages/sklearn/ensemble/_base.py:166: FutureWarning: `base_estimator` was renamed to `estimator` in version 1.2 and will be removed in 1.4.\n",
            "  warnings.warn(\n",
            "/usr/local/lib/python3.9/dist-packages/sklearn/svm/_base.py:1244: ConvergenceWarning: Liblinear failed to converge, increase the number of iterations.\n",
            "  warnings.warn(\n",
            "/usr/local/lib/python3.9/dist-packages/sklearn/svm/_base.py:1244: ConvergenceWarning: Liblinear failed to converge, increase the number of iterations.\n",
            "  warnings.warn(\n",
            "/usr/local/lib/python3.9/dist-packages/sklearn/svm/_base.py:1244: ConvergenceWarning: Liblinear failed to converge, increase the number of iterations.\n",
            "  warnings.warn(\n",
            "/usr/local/lib/python3.9/dist-packages/sklearn/svm/_base.py:1244: ConvergenceWarning: Liblinear failed to converge, increase the number of iterations.\n",
            "  warnings.warn(\n",
            "/usr/local/lib/python3.9/dist-packages/sklearn/svm/_base.py:1244: ConvergenceWarning: Liblinear failed to converge, increase the number of iterations.\n",
            "  warnings.warn(\n",
            "/usr/local/lib/python3.9/dist-packages/sklearn/svm/_base.py:1244: ConvergenceWarning: Liblinear failed to converge, increase the number of iterations.\n",
            "  warnings.warn(\n",
            "/usr/local/lib/python3.9/dist-packages/sklearn/svm/_base.py:1244: ConvergenceWarning: Liblinear failed to converge, increase the number of iterations.\n",
            "  warnings.warn(\n",
            "/usr/local/lib/python3.9/dist-packages/sklearn/svm/_base.py:1244: ConvergenceWarning: Liblinear failed to converge, increase the number of iterations.\n",
            "  warnings.warn(\n",
            "/usr/local/lib/python3.9/dist-packages/sklearn/svm/_base.py:1244: ConvergenceWarning: Liblinear failed to converge, increase the number of iterations.\n",
            "  warnings.warn(\n",
            "/usr/local/lib/python3.9/dist-packages/sklearn/svm/_base.py:1244: ConvergenceWarning: Liblinear failed to converge, increase the number of iterations.\n",
            "  warnings.warn(\n",
            "/usr/local/lib/python3.9/dist-packages/sklearn/ensemble/_base.py:166: FutureWarning: `base_estimator` was renamed to `estimator` in version 1.2 and will be removed in 1.4.\n",
            "  warnings.warn(\n",
            "/usr/local/lib/python3.9/dist-packages/sklearn/svm/_base.py:1244: ConvergenceWarning: Liblinear failed to converge, increase the number of iterations.\n",
            "  warnings.warn(\n",
            "/usr/local/lib/python3.9/dist-packages/sklearn/svm/_base.py:1244: ConvergenceWarning: Liblinear failed to converge, increase the number of iterations.\n",
            "  warnings.warn(\n",
            "/usr/local/lib/python3.9/dist-packages/sklearn/svm/_base.py:1244: ConvergenceWarning: Liblinear failed to converge, increase the number of iterations.\n",
            "  warnings.warn(\n",
            "/usr/local/lib/python3.9/dist-packages/sklearn/svm/_base.py:1244: ConvergenceWarning: Liblinear failed to converge, increase the number of iterations.\n",
            "  warnings.warn(\n",
            "/usr/local/lib/python3.9/dist-packages/sklearn/svm/_base.py:1244: ConvergenceWarning: Liblinear failed to converge, increase the number of iterations.\n",
            "  warnings.warn(\n",
            "/usr/local/lib/python3.9/dist-packages/sklearn/svm/_base.py:1244: ConvergenceWarning: Liblinear failed to converge, increase the number of iterations.\n",
            "  warnings.warn(\n",
            "/usr/local/lib/python3.9/dist-packages/sklearn/svm/_base.py:1244: ConvergenceWarning: Liblinear failed to converge, increase the number of iterations.\n",
            "  warnings.warn(\n",
            "/usr/local/lib/python3.9/dist-packages/sklearn/svm/_base.py:1244: ConvergenceWarning: Liblinear failed to converge, increase the number of iterations.\n",
            "  warnings.warn(\n",
            "/usr/local/lib/python3.9/dist-packages/sklearn/svm/_base.py:1244: ConvergenceWarning: Liblinear failed to converge, increase the number of iterations.\n",
            "  warnings.warn(\n",
            "/usr/local/lib/python3.9/dist-packages/sklearn/svm/_base.py:1244: ConvergenceWarning: Liblinear failed to converge, increase the number of iterations.\n",
            "  warnings.warn(\n",
            "/usr/local/lib/python3.9/dist-packages/sklearn/ensemble/_base.py:166: FutureWarning: `base_estimator` was renamed to `estimator` in version 1.2 and will be removed in 1.4.\n",
            "  warnings.warn(\n",
            "/usr/local/lib/python3.9/dist-packages/sklearn/svm/_base.py:1244: ConvergenceWarning: Liblinear failed to converge, increase the number of iterations.\n",
            "  warnings.warn(\n",
            "/usr/local/lib/python3.9/dist-packages/sklearn/svm/_base.py:1244: ConvergenceWarning: Liblinear failed to converge, increase the number of iterations.\n",
            "  warnings.warn(\n",
            "/usr/local/lib/python3.9/dist-packages/sklearn/svm/_base.py:1244: ConvergenceWarning: Liblinear failed to converge, increase the number of iterations.\n",
            "  warnings.warn(\n",
            "/usr/local/lib/python3.9/dist-packages/sklearn/svm/_base.py:1244: ConvergenceWarning: Liblinear failed to converge, increase the number of iterations.\n",
            "  warnings.warn(\n",
            "/usr/local/lib/python3.9/dist-packages/sklearn/svm/_base.py:1244: ConvergenceWarning: Liblinear failed to converge, increase the number of iterations.\n",
            "  warnings.warn(\n",
            "/usr/local/lib/python3.9/dist-packages/sklearn/svm/_base.py:1244: ConvergenceWarning: Liblinear failed to converge, increase the number of iterations.\n",
            "  warnings.warn(\n",
            "/usr/local/lib/python3.9/dist-packages/sklearn/svm/_base.py:1244: ConvergenceWarning: Liblinear failed to converge, increase the number of iterations.\n",
            "  warnings.warn(\n",
            "/usr/local/lib/python3.9/dist-packages/sklearn/svm/_base.py:1244: ConvergenceWarning: Liblinear failed to converge, increase the number of iterations.\n",
            "  warnings.warn(\n",
            "/usr/local/lib/python3.9/dist-packages/sklearn/svm/_base.py:1244: ConvergenceWarning: Liblinear failed to converge, increase the number of iterations.\n",
            "  warnings.warn(\n",
            "/usr/local/lib/python3.9/dist-packages/sklearn/svm/_base.py:1244: ConvergenceWarning: Liblinear failed to converge, increase the number of iterations.\n",
            "  warnings.warn(\n",
            "/usr/local/lib/python3.9/dist-packages/sklearn/ensemble/_base.py:166: FutureWarning: `base_estimator` was renamed to `estimator` in version 1.2 and will be removed in 1.4.\n",
            "  warnings.warn(\n",
            "/usr/local/lib/python3.9/dist-packages/sklearn/svm/_base.py:1244: ConvergenceWarning: Liblinear failed to converge, increase the number of iterations.\n",
            "  warnings.warn(\n",
            "/usr/local/lib/python3.9/dist-packages/sklearn/svm/_base.py:1244: ConvergenceWarning: Liblinear failed to converge, increase the number of iterations.\n",
            "  warnings.warn(\n",
            "/usr/local/lib/python3.9/dist-packages/sklearn/svm/_base.py:1244: ConvergenceWarning: Liblinear failed to converge, increase the number of iterations.\n",
            "  warnings.warn(\n",
            "/usr/local/lib/python3.9/dist-packages/sklearn/svm/_base.py:1244: ConvergenceWarning: Liblinear failed to converge, increase the number of iterations.\n",
            "  warnings.warn(\n",
            "/usr/local/lib/python3.9/dist-packages/sklearn/svm/_base.py:1244: ConvergenceWarning: Liblinear failed to converge, increase the number of iterations.\n",
            "  warnings.warn(\n",
            "/usr/local/lib/python3.9/dist-packages/sklearn/svm/_base.py:1244: ConvergenceWarning: Liblinear failed to converge, increase the number of iterations.\n",
            "  warnings.warn(\n",
            "/usr/local/lib/python3.9/dist-packages/sklearn/svm/_base.py:1244: ConvergenceWarning: Liblinear failed to converge, increase the number of iterations.\n",
            "  warnings.warn(\n",
            "/usr/local/lib/python3.9/dist-packages/sklearn/svm/_base.py:1244: ConvergenceWarning: Liblinear failed to converge, increase the number of iterations.\n",
            "  warnings.warn(\n",
            "/usr/local/lib/python3.9/dist-packages/sklearn/svm/_base.py:1244: ConvergenceWarning: Liblinear failed to converge, increase the number of iterations.\n",
            "  warnings.warn(\n",
            "/usr/local/lib/python3.9/dist-packages/sklearn/svm/_base.py:1244: ConvergenceWarning: Liblinear failed to converge, increase the number of iterations.\n",
            "  warnings.warn(\n",
            "/usr/local/lib/python3.9/dist-packages/sklearn/ensemble/_base.py:166: FutureWarning: `base_estimator` was renamed to `estimator` in version 1.2 and will be removed in 1.4.\n",
            "  warnings.warn(\n",
            "/usr/local/lib/python3.9/dist-packages/sklearn/ensemble/_base.py:166: FutureWarning: `base_estimator` was renamed to `estimator` in version 1.2 and will be removed in 1.4.\n",
            "  warnings.warn(\n",
            "/usr/local/lib/python3.9/dist-packages/sklearn/ensemble/_base.py:166: FutureWarning: `base_estimator` was renamed to `estimator` in version 1.2 and will be removed in 1.4.\n",
            "  warnings.warn(\n",
            "/usr/local/lib/python3.9/dist-packages/sklearn/ensemble/_base.py:166: FutureWarning: `base_estimator` was renamed to `estimator` in version 1.2 and will be removed in 1.4.\n",
            "  warnings.warn(\n",
            "/usr/local/lib/python3.9/dist-packages/sklearn/ensemble/_base.py:166: FutureWarning: `base_estimator` was renamed to `estimator` in version 1.2 and will be removed in 1.4.\n",
            "  warnings.warn(\n",
            "/usr/local/lib/python3.9/dist-packages/sklearn/ensemble/_base.py:166: FutureWarning: `base_estimator` was renamed to `estimator` in version 1.2 and will be removed in 1.4.\n",
            "  warnings.warn(\n",
            "/usr/local/lib/python3.9/dist-packages/sklearn/ensemble/_base.py:166: FutureWarning: `base_estimator` was renamed to `estimator` in version 1.2 and will be removed in 1.4.\n",
            "  warnings.warn(\n",
            "/usr/local/lib/python3.9/dist-packages/sklearn/svm/_base.py:1244: ConvergenceWarning: Liblinear failed to converge, increase the number of iterations.\n",
            "  warnings.warn(\n",
            "/usr/local/lib/python3.9/dist-packages/sklearn/svm/_base.py:1244: ConvergenceWarning: Liblinear failed to converge, increase the number of iterations.\n",
            "  warnings.warn(\n",
            "/usr/local/lib/python3.9/dist-packages/sklearn/svm/_base.py:1244: ConvergenceWarning: Liblinear failed to converge, increase the number of iterations.\n",
            "  warnings.warn(\n",
            "/usr/local/lib/python3.9/dist-packages/sklearn/svm/_base.py:1244: ConvergenceWarning: Liblinear failed to converge, increase the number of iterations.\n",
            "  warnings.warn(\n",
            "/usr/local/lib/python3.9/dist-packages/sklearn/svm/_base.py:1244: ConvergenceWarning: Liblinear failed to converge, increase the number of iterations.\n",
            "  warnings.warn(\n",
            "/usr/local/lib/python3.9/dist-packages/sklearn/svm/_base.py:1244: ConvergenceWarning: Liblinear failed to converge, increase the number of iterations.\n",
            "  warnings.warn(\n",
            "/usr/local/lib/python3.9/dist-packages/sklearn/svm/_base.py:1244: ConvergenceWarning: Liblinear failed to converge, increase the number of iterations.\n",
            "  warnings.warn(\n",
            "/usr/local/lib/python3.9/dist-packages/sklearn/svm/_base.py:1244: ConvergenceWarning: Liblinear failed to converge, increase the number of iterations.\n",
            "  warnings.warn(\n",
            "/usr/local/lib/python3.9/dist-packages/sklearn/svm/_base.py:1244: ConvergenceWarning: Liblinear failed to converge, increase the number of iterations.\n",
            "  warnings.warn(\n",
            "/usr/local/lib/python3.9/dist-packages/sklearn/svm/_base.py:1244: ConvergenceWarning: Liblinear failed to converge, increase the number of iterations.\n",
            "  warnings.warn(\n",
            "/usr/local/lib/python3.9/dist-packages/sklearn/ensemble/_base.py:166: FutureWarning: `base_estimator` was renamed to `estimator` in version 1.2 and will be removed in 1.4.\n",
            "  warnings.warn(\n",
            "/usr/local/lib/python3.9/dist-packages/sklearn/ensemble/_base.py:166: FutureWarning: `base_estimator` was renamed to `estimator` in version 1.2 and will be removed in 1.4.\n",
            "  warnings.warn(\n",
            "/usr/local/lib/python3.9/dist-packages/sklearn/ensemble/_base.py:166: FutureWarning: `base_estimator` was renamed to `estimator` in version 1.2 and will be removed in 1.4.\n",
            "  warnings.warn(\n",
            "/usr/local/lib/python3.9/dist-packages/sklearn/svm/_base.py:1244: ConvergenceWarning: Liblinear failed to converge, increase the number of iterations.\n",
            "  warnings.warn(\n",
            "/usr/local/lib/python3.9/dist-packages/sklearn/svm/_base.py:1244: ConvergenceWarning: Liblinear failed to converge, increase the number of iterations.\n",
            "  warnings.warn(\n",
            "/usr/local/lib/python3.9/dist-packages/sklearn/svm/_base.py:1244: ConvergenceWarning: Liblinear failed to converge, increase the number of iterations.\n",
            "  warnings.warn(\n",
            "/usr/local/lib/python3.9/dist-packages/sklearn/svm/_base.py:1244: ConvergenceWarning: Liblinear failed to converge, increase the number of iterations.\n",
            "  warnings.warn(\n",
            "/usr/local/lib/python3.9/dist-packages/sklearn/svm/_base.py:1244: ConvergenceWarning: Liblinear failed to converge, increase the number of iterations.\n",
            "  warnings.warn(\n",
            "/usr/local/lib/python3.9/dist-packages/sklearn/svm/_base.py:1244: ConvergenceWarning: Liblinear failed to converge, increase the number of iterations.\n",
            "  warnings.warn(\n",
            "/usr/local/lib/python3.9/dist-packages/sklearn/svm/_base.py:1244: ConvergenceWarning: Liblinear failed to converge, increase the number of iterations.\n",
            "  warnings.warn(\n",
            "/usr/local/lib/python3.9/dist-packages/sklearn/svm/_base.py:1244: ConvergenceWarning: Liblinear failed to converge, increase the number of iterations.\n",
            "  warnings.warn(\n",
            "/usr/local/lib/python3.9/dist-packages/sklearn/svm/_base.py:1244: ConvergenceWarning: Liblinear failed to converge, increase the number of iterations.\n",
            "  warnings.warn(\n",
            "/usr/local/lib/python3.9/dist-packages/sklearn/svm/_base.py:1244: ConvergenceWarning: Liblinear failed to converge, increase the number of iterations.\n",
            "  warnings.warn(\n",
            "/usr/local/lib/python3.9/dist-packages/sklearn/ensemble/_base.py:166: FutureWarning: `base_estimator` was renamed to `estimator` in version 1.2 and will be removed in 1.4.\n",
            "  warnings.warn(\n",
            "/usr/local/lib/python3.9/dist-packages/sklearn/ensemble/_base.py:166: FutureWarning: `base_estimator` was renamed to `estimator` in version 1.2 and will be removed in 1.4.\n",
            "  warnings.warn(\n",
            "/usr/local/lib/python3.9/dist-packages/sklearn/ensemble/_base.py:166: FutureWarning: `base_estimator` was renamed to `estimator` in version 1.2 and will be removed in 1.4.\n",
            "  warnings.warn(\n",
            "/usr/local/lib/python3.9/dist-packages/sklearn/svm/_base.py:1244: ConvergenceWarning: Liblinear failed to converge, increase the number of iterations.\n",
            "  warnings.warn(\n",
            "/usr/local/lib/python3.9/dist-packages/sklearn/svm/_base.py:1244: ConvergenceWarning: Liblinear failed to converge, increase the number of iterations.\n",
            "  warnings.warn(\n",
            "/usr/local/lib/python3.9/dist-packages/sklearn/svm/_base.py:1244: ConvergenceWarning: Liblinear failed to converge, increase the number of iterations.\n",
            "  warnings.warn(\n",
            "/usr/local/lib/python3.9/dist-packages/sklearn/svm/_base.py:1244: ConvergenceWarning: Liblinear failed to converge, increase the number of iterations.\n",
            "  warnings.warn(\n",
            "/usr/local/lib/python3.9/dist-packages/sklearn/svm/_base.py:1244: ConvergenceWarning: Liblinear failed to converge, increase the number of iterations.\n",
            "  warnings.warn(\n",
            "/usr/local/lib/python3.9/dist-packages/sklearn/svm/_base.py:1244: ConvergenceWarning: Liblinear failed to converge, increase the number of iterations.\n",
            "  warnings.warn(\n",
            "/usr/local/lib/python3.9/dist-packages/sklearn/svm/_base.py:1244: ConvergenceWarning: Liblinear failed to converge, increase the number of iterations.\n",
            "  warnings.warn(\n",
            "/usr/local/lib/python3.9/dist-packages/sklearn/svm/_base.py:1244: ConvergenceWarning: Liblinear failed to converge, increase the number of iterations.\n",
            "  warnings.warn(\n",
            "/usr/local/lib/python3.9/dist-packages/sklearn/svm/_base.py:1244: ConvergenceWarning: Liblinear failed to converge, increase the number of iterations.\n",
            "  warnings.warn(\n",
            "/usr/local/lib/python3.9/dist-packages/sklearn/svm/_base.py:1244: ConvergenceWarning: Liblinear failed to converge, increase the number of iterations.\n",
            "  warnings.warn(\n",
            "/usr/local/lib/python3.9/dist-packages/sklearn/ensemble/_base.py:166: FutureWarning: `base_estimator` was renamed to `estimator` in version 1.2 and will be removed in 1.4.\n",
            "  warnings.warn(\n",
            "/usr/local/lib/python3.9/dist-packages/sklearn/ensemble/_base.py:166: FutureWarning: `base_estimator` was renamed to `estimator` in version 1.2 and will be removed in 1.4.\n",
            "  warnings.warn(\n",
            "/usr/local/lib/python3.9/dist-packages/sklearn/ensemble/_base.py:166: FutureWarning: `base_estimator` was renamed to `estimator` in version 1.2 and will be removed in 1.4.\n",
            "  warnings.warn(\n",
            "/usr/local/lib/python3.9/dist-packages/sklearn/svm/_base.py:1244: ConvergenceWarning: Liblinear failed to converge, increase the number of iterations.\n",
            "  warnings.warn(\n",
            "/usr/local/lib/python3.9/dist-packages/sklearn/svm/_base.py:1244: ConvergenceWarning: Liblinear failed to converge, increase the number of iterations.\n",
            "  warnings.warn(\n",
            "/usr/local/lib/python3.9/dist-packages/sklearn/svm/_base.py:1244: ConvergenceWarning: Liblinear failed to converge, increase the number of iterations.\n",
            "  warnings.warn(\n",
            "/usr/local/lib/python3.9/dist-packages/sklearn/svm/_base.py:1244: ConvergenceWarning: Liblinear failed to converge, increase the number of iterations.\n",
            "  warnings.warn(\n",
            "/usr/local/lib/python3.9/dist-packages/sklearn/svm/_base.py:1244: ConvergenceWarning: Liblinear failed to converge, increase the number of iterations.\n",
            "  warnings.warn(\n",
            "/usr/local/lib/python3.9/dist-packages/sklearn/svm/_base.py:1244: ConvergenceWarning: Liblinear failed to converge, increase the number of iterations.\n",
            "  warnings.warn(\n",
            "/usr/local/lib/python3.9/dist-packages/sklearn/svm/_base.py:1244: ConvergenceWarning: Liblinear failed to converge, increase the number of iterations.\n",
            "  warnings.warn(\n",
            "/usr/local/lib/python3.9/dist-packages/sklearn/svm/_base.py:1244: ConvergenceWarning: Liblinear failed to converge, increase the number of iterations.\n",
            "  warnings.warn(\n",
            "/usr/local/lib/python3.9/dist-packages/sklearn/svm/_base.py:1244: ConvergenceWarning: Liblinear failed to converge, increase the number of iterations.\n",
            "  warnings.warn(\n",
            "/usr/local/lib/python3.9/dist-packages/sklearn/svm/_base.py:1244: ConvergenceWarning: Liblinear failed to converge, increase the number of iterations.\n",
            "  warnings.warn(\n",
            "/usr/local/lib/python3.9/dist-packages/sklearn/ensemble/_base.py:166: FutureWarning: `base_estimator` was renamed to `estimator` in version 1.2 and will be removed in 1.4.\n",
            "  warnings.warn(\n",
            "/usr/local/lib/python3.9/dist-packages/sklearn/ensemble/_base.py:166: FutureWarning: `base_estimator` was renamed to `estimator` in version 1.2 and will be removed in 1.4.\n",
            "  warnings.warn(\n",
            "/usr/local/lib/python3.9/dist-packages/sklearn/ensemble/_base.py:166: FutureWarning: `base_estimator` was renamed to `estimator` in version 1.2 and will be removed in 1.4.\n",
            "  warnings.warn(\n",
            "/usr/local/lib/python3.9/dist-packages/sklearn/svm/_base.py:1244: ConvergenceWarning: Liblinear failed to converge, increase the number of iterations.\n",
            "  warnings.warn(\n",
            "/usr/local/lib/python3.9/dist-packages/sklearn/svm/_base.py:1244: ConvergenceWarning: Liblinear failed to converge, increase the number of iterations.\n",
            "  warnings.warn(\n",
            "/usr/local/lib/python3.9/dist-packages/sklearn/svm/_base.py:1244: ConvergenceWarning: Liblinear failed to converge, increase the number of iterations.\n",
            "  warnings.warn(\n",
            "/usr/local/lib/python3.9/dist-packages/sklearn/svm/_base.py:1244: ConvergenceWarning: Liblinear failed to converge, increase the number of iterations.\n",
            "  warnings.warn(\n",
            "/usr/local/lib/python3.9/dist-packages/sklearn/svm/_base.py:1244: ConvergenceWarning: Liblinear failed to converge, increase the number of iterations.\n",
            "  warnings.warn(\n",
            "/usr/local/lib/python3.9/dist-packages/sklearn/svm/_base.py:1244: ConvergenceWarning: Liblinear failed to converge, increase the number of iterations.\n",
            "  warnings.warn(\n",
            "/usr/local/lib/python3.9/dist-packages/sklearn/svm/_base.py:1244: ConvergenceWarning: Liblinear failed to converge, increase the number of iterations.\n",
            "  warnings.warn(\n",
            "/usr/local/lib/python3.9/dist-packages/sklearn/svm/_base.py:1244: ConvergenceWarning: Liblinear failed to converge, increase the number of iterations.\n",
            "  warnings.warn(\n",
            "/usr/local/lib/python3.9/dist-packages/sklearn/svm/_base.py:1244: ConvergenceWarning: Liblinear failed to converge, increase the number of iterations.\n",
            "  warnings.warn(\n",
            "/usr/local/lib/python3.9/dist-packages/sklearn/svm/_base.py:1244: ConvergenceWarning: Liblinear failed to converge, increase the number of iterations.\n",
            "  warnings.warn(\n",
            "/usr/local/lib/python3.9/dist-packages/sklearn/ensemble/_base.py:166: FutureWarning: `base_estimator` was renamed to `estimator` in version 1.2 and will be removed in 1.4.\n",
            "  warnings.warn(\n"
          ]
        },
        {
          "output_type": "stream",
          "name": "stdout",
          "text": [
            "SVM Accuracy: 54.60% (+/- 3.60%)\n",
            "Linear SVM Accuracy: 59.17% (+/- 5.94%)\n",
            "KNN Accuracy: 61.77% (+/- 5.55%)\n",
            "Ensemble Accuracy averaging: 61.76% (+/- 6.53%)\n"
          ]
        }
      ]
    },
    {
      "cell_type": "code",
      "source": [],
      "metadata": {
        "id": "FzuuDqTT4pgv"
      },
      "execution_count": 29,
      "outputs": []
    },
    {
      "cell_type": "code",
      "source": [
        "# Random forrest attempt Harmen\n",
        "\n",
        "# Create a random forest classifier\n",
        "rfc = RandomForestClassifier(n_estimators=100)\n",
        "\n",
        "# Fit the random forest classifier on the training data\n",
        "rfc.fit(x_scaled, y_train)\n",
        "\n",
        "# Evaluate the random forest classifier on the testing data\n",
        "scores = cross_val_score(rfc, x_scaled, y_train, cv=10)\n",
        "\n",
        "print(\"Accuracy: {:.2f}% (+/- {:.2f}%)\".format(scores.mean()*100, scores.std()*100))"
      ],
      "metadata": {
        "id": "9321wESSIajE",
        "outputId": "ad24b99b-2594-4d13-f71f-d6a453d4dfb0",
        "colab": {
          "base_uri": "https://localhost:8080/"
        }
      },
      "execution_count": 30,
      "outputs": [
        {
          "output_type": "stream",
          "name": "stdout",
          "text": [
            "Accuracy: 58.71% (+/- 5.46%)\n"
          ]
        }
      ]
    },
    {
      "cell_type": "code",
      "source": [
        "# Random forrest with grid search Harmen\n",
        "\n",
        "# Define the hyperparameter grid to search over\n",
        "param_grid = {\n",
        "    'max_depth': [5, 10, 15, 20, 50, None],\n",
        "    'min_samples_split': [2, 5, 10, 20, 50]\n",
        "}\n",
        "\n",
        "# Create a grid search object with the RandomForestClassifier and hyperparameter grid\n",
        "grid_search = GridSearchCV(RandomForestClassifier(n_estimators=100), param_grid, cv=5, n_jobs=-1)\n",
        "\n",
        "# Fit the grid search object to the training data\n",
        "grid_search.fit(x_scaled, y_train)\n",
        "\n",
        "# Print the best hyperparameters and the corresponding score on the validation set\n",
        "print(\"Best hyperparameters:\", grid_search.best_params_)\n",
        "print(\"Validation set score:\", grid_search.best_score_)"
      ],
      "metadata": {
        "id": "uiQhaDjsu3Hi",
        "outputId": "9c7bce04-aae3-4597-8f9c-9a6ddf197bda",
        "colab": {
          "base_uri": "https://localhost:8080/"
        }
      },
      "execution_count": 31,
      "outputs": [
        {
          "output_type": "stream",
          "name": "stdout",
          "text": [
            "Best hyperparameters: {'max_depth': None, 'min_samples_split': 2}\n",
            "Validation set score: 0.6379487179487179\n"
          ]
        }
      ]
    },
    {
      "cell_type": "code",
      "source": [
        "# ROC first attempt Christie\n",
        "from sklearn.metrics import RocCurveDisplay\n",
        "\n",
        "# gebruik maken van de KNN poging met selectKbest\n",
        "RocCurveDisplay.from_estimator(knn_select_scores, x_kbest, y_train)\n",
        "plt.show() "
      ],
      "metadata": {
        "id": "jwUqw5VNw20S",
        "outputId": "91da5904-4757-4ec9-e5dd-995e94456d03",
        "colab": {
          "base_uri": "https://localhost:8080/",
          "height": 363
        }
      },
      "execution_count": 32,
      "outputs": [
        {
          "output_type": "error",
          "ename": "ValueError",
          "evalue": "ignored",
          "traceback": [
            "\u001b[0;31m---------------------------------------------------------------------------\u001b[0m",
            "\u001b[0;31mValueError\u001b[0m                                Traceback (most recent call last)",
            "\u001b[0;32m<ipython-input-32-44d26c1d419f>\u001b[0m in \u001b[0;36m<cell line: 5>\u001b[0;34m()\u001b[0m\n\u001b[1;32m      3\u001b[0m \u001b[0;34m\u001b[0m\u001b[0m\n\u001b[1;32m      4\u001b[0m \u001b[0;31m# gebruik maken van de KNN poging met selectKbest\u001b[0m\u001b[0;34m\u001b[0m\u001b[0;34m\u001b[0m\u001b[0m\n\u001b[0;32m----> 5\u001b[0;31m \u001b[0mRocCurveDisplay\u001b[0m\u001b[0;34m.\u001b[0m\u001b[0mfrom_estimator\u001b[0m\u001b[0;34m(\u001b[0m\u001b[0mknn_select_scores\u001b[0m\u001b[0;34m,\u001b[0m \u001b[0mx_kbest\u001b[0m\u001b[0;34m,\u001b[0m \u001b[0my_train\u001b[0m\u001b[0;34m)\u001b[0m\u001b[0;34m\u001b[0m\u001b[0;34m\u001b[0m\u001b[0m\n\u001b[0m\u001b[1;32m      6\u001b[0m \u001b[0mplt\u001b[0m\u001b[0;34m.\u001b[0m\u001b[0mshow\u001b[0m\u001b[0;34m(\u001b[0m\u001b[0;34m)\u001b[0m\u001b[0;34m\u001b[0m\u001b[0;34m\u001b[0m\u001b[0m\n",
            "\u001b[0;32m/usr/local/lib/python3.9/dist-packages/sklearn/metrics/_plot/roc_curve.py\u001b[0m in \u001b[0;36mfrom_estimator\u001b[0;34m(cls, estimator, X, y, sample_weight, drop_intermediate, response_method, pos_label, name, ax, **kwargs)\u001b[0m\n\u001b[1;32m    232\u001b[0m         \u001b[0mname\u001b[0m \u001b[0;34m=\u001b[0m \u001b[0mestimator\u001b[0m\u001b[0;34m.\u001b[0m\u001b[0m__class__\u001b[0m\u001b[0;34m.\u001b[0m\u001b[0m__name__\u001b[0m \u001b[0;32mif\u001b[0m \u001b[0mname\u001b[0m \u001b[0;32mis\u001b[0m \u001b[0;32mNone\u001b[0m \u001b[0;32melse\u001b[0m \u001b[0mname\u001b[0m\u001b[0;34m\u001b[0m\u001b[0;34m\u001b[0m\u001b[0m\n\u001b[1;32m    233\u001b[0m \u001b[0;34m\u001b[0m\u001b[0m\n\u001b[0;32m--> 234\u001b[0;31m         y_pred, pos_label = _get_response(\n\u001b[0m\u001b[1;32m    235\u001b[0m             \u001b[0mX\u001b[0m\u001b[0;34m,\u001b[0m\u001b[0;34m\u001b[0m\u001b[0;34m\u001b[0m\u001b[0m\n\u001b[1;32m    236\u001b[0m             \u001b[0mestimator\u001b[0m\u001b[0;34m,\u001b[0m\u001b[0;34m\u001b[0m\u001b[0;34m\u001b[0m\u001b[0m\n",
            "\u001b[0;32m/usr/local/lib/python3.9/dist-packages/sklearn/metrics/_plot/base.py\u001b[0m in \u001b[0;36m_get_response\u001b[0;34m(X, estimator, response_method, pos_label)\u001b[0m\n\u001b[1;32m     87\u001b[0m \u001b[0;34m\u001b[0m\u001b[0m\n\u001b[1;32m     88\u001b[0m     \u001b[0;32mif\u001b[0m \u001b[0;32mnot\u001b[0m \u001b[0mis_classifier\u001b[0m\u001b[0;34m(\u001b[0m\u001b[0mestimator\u001b[0m\u001b[0;34m)\u001b[0m\u001b[0;34m:\u001b[0m\u001b[0;34m\u001b[0m\u001b[0;34m\u001b[0m\u001b[0m\n\u001b[0;32m---> 89\u001b[0;31m         \u001b[0;32mraise\u001b[0m \u001b[0mValueError\u001b[0m\u001b[0;34m(\u001b[0m\u001b[0mclassification_error\u001b[0m\u001b[0;34m)\u001b[0m\u001b[0;34m\u001b[0m\u001b[0;34m\u001b[0m\u001b[0m\n\u001b[0m\u001b[1;32m     90\u001b[0m \u001b[0;34m\u001b[0m\u001b[0m\n\u001b[1;32m     91\u001b[0m     \u001b[0mprediction_method\u001b[0m \u001b[0;34m=\u001b[0m \u001b[0m_check_classifier_response_method\u001b[0m\u001b[0;34m(\u001b[0m\u001b[0mestimator\u001b[0m\u001b[0;34m,\u001b[0m \u001b[0mresponse_method\u001b[0m\u001b[0;34m)\u001b[0m\u001b[0;34m\u001b[0m\u001b[0;34m\u001b[0m\u001b[0m\n",
            "\u001b[0;31mValueError\u001b[0m: Expected 'estimator' to be a binary classifier, but got ndarray"
          ]
        }
      ]
    },
    {
      "cell_type": "code",
      "source": [
        "# ROC second attempt Christie\n",
        "from sklearn.metrics import roc_curve\n",
        "# Assuming you have already trained and predicted using your classification model\n",
        "y_pred = knn_select_scores.predict_proba(x_kbest)[:, 1]\n",
        "fpr, tpr, thresholds = roc_curve(y_train, y_pred)\n",
        "\n",
        "plt.plot(fpr, tpr)\n",
        "plt.plot([0, 1], [0, 1], linestyle='--')\n",
        "plt.xlabel('False Positive Rate')\n",
        "plt.ylabel('True Positive Rate')\n",
        "plt.title('ROC Curve')\n",
        "plt.show()"
      ],
      "metadata": {
        "id": "KHJzUtHT5AVW",
        "outputId": "a8d4efea-0306-4f12-fd62-d6f5d4dc686d",
        "colab": {
          "base_uri": "https://localhost:8080/",
          "height": 235
        }
      },
      "execution_count": 41,
      "outputs": [
        {
          "output_type": "error",
          "ename": "AttributeError",
          "evalue": "ignored",
          "traceback": [
            "\u001b[0;31m---------------------------------------------------------------------------\u001b[0m",
            "\u001b[0;31mAttributeError\u001b[0m                            Traceback (most recent call last)",
            "\u001b[0;32m<ipython-input-41-baae707ddc3f>\u001b[0m in \u001b[0;36m<cell line: 4>\u001b[0;34m()\u001b[0m\n\u001b[1;32m      2\u001b[0m \u001b[0;32mfrom\u001b[0m \u001b[0msklearn\u001b[0m\u001b[0;34m.\u001b[0m\u001b[0mmetrics\u001b[0m \u001b[0;32mimport\u001b[0m \u001b[0mroc_curve\u001b[0m\u001b[0;34m\u001b[0m\u001b[0;34m\u001b[0m\u001b[0m\n\u001b[1;32m      3\u001b[0m \u001b[0;31m# Assuming you have already trained and predicted using your classification model\u001b[0m\u001b[0;34m\u001b[0m\u001b[0;34m\u001b[0m\u001b[0m\n\u001b[0;32m----> 4\u001b[0;31m \u001b[0my_pred\u001b[0m \u001b[0;34m=\u001b[0m \u001b[0mknn_select_scores\u001b[0m\u001b[0;34m.\u001b[0m\u001b[0mpredict_proba\u001b[0m\u001b[0;34m(\u001b[0m\u001b[0mx_kbest\u001b[0m\u001b[0;34m)\u001b[0m\u001b[0;34m[\u001b[0m\u001b[0;34m:\u001b[0m\u001b[0;34m,\u001b[0m \u001b[0;36m1\u001b[0m\u001b[0;34m]\u001b[0m\u001b[0;34m\u001b[0m\u001b[0;34m\u001b[0m\u001b[0m\n\u001b[0m\u001b[1;32m      5\u001b[0m \u001b[0mfpr\u001b[0m\u001b[0;34m,\u001b[0m \u001b[0mtpr\u001b[0m\u001b[0;34m,\u001b[0m \u001b[0mthresholds\u001b[0m \u001b[0;34m=\u001b[0m \u001b[0mroc_curve\u001b[0m\u001b[0;34m(\u001b[0m\u001b[0my_train\u001b[0m\u001b[0;34m,\u001b[0m \u001b[0my_pred\u001b[0m\u001b[0;34m)\u001b[0m\u001b[0;34m\u001b[0m\u001b[0;34m\u001b[0m\u001b[0m\n\u001b[1;32m      6\u001b[0m \u001b[0;34m\u001b[0m\u001b[0m\n",
            "\u001b[0;31mAttributeError\u001b[0m: 'numpy.ndarray' object has no attribute 'predict_proba'"
          ]
        }
      ]
    },
    {
      "cell_type": "code",
      "source": [
        "# #Evaluatie van het model uiteindelijk met outer cross validatie \n",
        "# from sklearn.model_selection import KFold \n",
        "# from sklearn.metrics import accuracy_score \n",
        "\n",
        "# #dit moet helemaal bovenaan de code \n",
        "# from sklearn.model_selection import train_test_split, KFold, GridSearchCV \n",
        "\n",
        "# y = data['label']\n",
        "# x = df2\n",
        "# # Define outer cross-validation\n",
        "# outer_cv = KFold(n_splits=5, shuffle=True, random_state=42)\n",
        "# outer_scores = []\n",
        "\n",
        "# for train_index, test_index in outer_cv.split(x):\n",
        "#     # Split data into outer training and test sets\n",
        "#     X_train_outer, X_test = x[train_index], x[test_index] # dit zorgt ervoor dat hij hem splitst in outer in een train en test set \n",
        "#     y_train_outer, y_test = y[train_index], y[test_index]\n",
        "\n",
        "#     # Define inner cross-validation\n",
        "#     inner_cv = KFold(n_splits=5, shuffle=True, random_state=42)\n",
        "#     inner_scores = []\n",
        "\n",
        "#     for inner_train_index, inner_test_index in inner_cv.split(X_train_outer):\n",
        "#         # Split data into inner training and validation sets      --> hier moet de code komen die we al hebben met de juiste classifier --> kunnen het makkelijk maken door hier gewoon de nieuwe classifier in te plakkken, wel beetje omslachtig maar wel t makkelijkste \n",
        "#         X_train_inner, X_val = X_train_outer[inner_train_index], X_train_outer[inner_test_index]\n",
        "#         y_train_inner, y_val = y_train_outer[inner_train_index], y_train_outer[inner_test_index]\n",
        "\n",
        "#         # Split inner training set into training and validation sets\n",
        "#         X_train, X_test_inner, y_train, y_test_inner = train_test_split(X_train_inner, y_train_inner, test_size=0.2, random_state=42)\n",
        "\n",
        "# # hier komt ons model + scaling en feature selectie \n",
        "       \n",
        "#        #LET OP HIER MOET DE JUISTE SCALING WORDEN AANGEPAST \n",
        "#         # scale data\n",
        "#         scaler = preprocessing.RobustScaler()\n",
        "#         scaler.fit(x_train)\n",
        "#         x_scaled = pd.DataFrame(scaler.transform(non_normalized))\n",
        "\n",
        "\n",
        "#       #HIER MOET DE CODE KOMEN DIE UITEINDELIJK GEKOZEN IS VOOR DE CLASSIFIER \n",
        "#         # Evaluate model on inner validation set\n",
        "#         inner_score = grid_search.score(X_val, y_val)\n",
        "#         inner_scores.append(inner_score)\n",
        "\n",
        "#     # Train model on outer training set with best hyperparameters\n",
        "#     best_params = grid_search.best_params_\n",
        "#     model = SVC(**best_params)\n",
        "#     model.fit(X_train_outer, y_train_outer)\n",
        "\n",
        "#     # Evaluate model on outer test set\n",
        "#     outer_score = model.score(X_test, y_test)\n",
        "#     outer_scores.append(outer_score)\n",
        "\n",
        "# # Print average outer cross-validation score\n",
        "# print('Outer CV score:', np.mean(outer_scores))"
      ],
      "metadata": {
        "id": "JDWNzzpo4qXa"
      },
      "execution_count": null,
      "outputs": []
    },
    {
      "cell_type": "code",
      "source": [],
      "metadata": {
        "id": "7ztRczn5_fCZ"
      },
      "execution_count": null,
      "outputs": []
    },
    {
      "cell_type": "code",
      "source": [
        "#"
      ],
      "metadata": {
        "id": "AhviEHXF5CNQ"
      },
      "execution_count": null,
      "outputs": []
    }
  ]
}