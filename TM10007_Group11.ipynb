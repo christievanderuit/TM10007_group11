{
  "nbformat": 4,
  "nbformat_minor": 0,
  "metadata": {
    "colab": {
      "provenance": [],
      "include_colab_link": true
    },
    "kernelspec": {
      "name": "python3",
      "display_name": "Python 3"
    },
    "language_info": {
      "name": "python"
    }
  },
  "cells": [
    {
      "cell_type": "markdown",
      "metadata": {
        "id": "view-in-github",
        "colab_type": "text"
      },
      "source": [
        "<a href=\"https://colab.research.google.com/github/christievanderuit/TM10007_group11/blob/main/TM10007_Group11.ipynb\" target=\"_parent\"><img src=\"https://colab.research.google.com/assets/colab-badge.svg\" alt=\"Open In Colab\"/></a>"
      ]
    },
    {
      "cell_type": "markdown",
      "source": [
        "Test"
      ],
      "metadata": {
        "id": "S3mnsa3ItocY"
      }
    },
    {
      "cell_type": "markdown",
      "source": [
        "Hoi ik heb dit deel aangepast nadat ik hem denk ik heb afgesplitst in een eigen branch?\n",
        "nu weer proberen te mergen met main branch"
      ],
      "metadata": {
        "id": "XW_39KnMjeJp"
      }
    },
    {
      "cell_type": "markdown",
      "source": [
        "hoi hoi\n"
      ],
      "metadata": {
        "id": "RWJVwfjKzQyi"
      }
    },
    {
      "cell_type": "code",
      "source": [
        "!pip install sklearn numpy matplotlib"
      ],
      "metadata": {
        "id": "cWwNaEqJ_iat"
      },
      "execution_count": null,
      "outputs": []
    },
    {
      "cell_type": "code",
      "source": [
        "# Run this to use from colab environment\n",
        "!git clone https://github.com/jveenland/tm10007_ml.git\n",
        "import os\n",
        "import pandas as pd\n",
        "data = pd.read_csv('/content/tm10007_ml/worcgist/GIST_radiomicFeatures.csv', index_col=0)\n",
        "print(f'The number of samples: {len(data.index)}')\n",
        "print(f'The number of columns: {len(data.columns)}')"
      ],
      "metadata": {
        "id": "qX1LjCmltopI",
        "colab": {
          "base_uri": "https://localhost:8080/"
        },
        "outputId": "5a9b387b-ef26-40df-fb77-95e880a59b6c"
      },
      "execution_count": 1,
      "outputs": [
        {
          "output_type": "stream",
          "name": "stdout",
          "text": [
            "Cloning into 'tm10007_ml'...\n",
            "remote: Enumerating objects: 83, done.\u001b[K\n",
            "remote: Counting objects: 100% (19/19), done.\u001b[K\n",
            "remote: Compressing objects: 100% (7/7), done.\u001b[K\n",
            "remote: Total 83 (delta 13), reused 12 (delta 12), pack-reused 64\u001b[K\n",
            "Unpacking objects: 100% (83/83), 67.93 MiB | 15.16 MiB/s, done.\n",
            "The number of samples: 246\n",
            "The number of columns: 494\n"
          ]
        }
      ]
    },
    {
      "cell_type": "code",
      "source": [
        "#zorgen dat verschillende functies uit de files aangeroepen kunnen worden \n",
        "from tm10007_ml.worcgist.load_data import *   #misschien dat dit nog op een nettere manier kan \n",
        "dataset = load_data(); "
      ],
      "metadata": {
        "id": "bG7AZdOO5cDq"
      },
      "execution_count": 11,
      "outputs": []
    },
    {
      "cell_type": "code",
      "source": [
        "#Splitsen in een train en in een testset \n",
        "\n",
        "# Classifiers\n",
        "from sklearn.model_selection import train_test_split\n",
        "\n",
        "#Waarbij x = features, y = label\n",
        "#vraag: doet ie dit elke keer op een andere manier? want dan toch lastig conclusies te trekken? --> daarom achter random state een getal - maakt niet uit zolang integer is\n",
        "y=data['label']\n",
        "x = data.drop(\"label\", axis='columns')\n",
        "# print(y)\n",
        "# print(x)\n",
        "df_train, df_test = train_test_split(data, test_size=0.2, random_state=1)\n",
        "print(df_train.shape, df_test.shape)"
      ],
      "metadata": {
        "id": "akTrzKpG86zA",
        "outputId": "147c12b5-7300-4bbb-bf20-e61d8625cc5b",
        "colab": {
          "base_uri": "https://localhost:8080/"
        }
      },
      "execution_count": 29,
      "outputs": [
        {
          "output_type": "stream",
          "name": "stdout",
          "text": [
            "(196, 494) (50, 494)\n"
          ]
        }
      ]
    }
  ]
}