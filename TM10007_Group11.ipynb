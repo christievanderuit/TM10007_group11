{
  "nbformat": 4,
  "nbformat_minor": 0,
  "metadata": {
    "colab": {
      "provenance": [],
      "include_colab_link": true
    },
    "kernelspec": {
      "name": "python3",
      "display_name": "Python 3"
    },
    "language_info": {
      "name": "python"
    }
  },
  "cells": [
    {
      "cell_type": "markdown",
      "metadata": {
        "id": "view-in-github",
        "colab_type": "text"
      },
      "source": [
        "<a href=\"https://colab.research.google.com/github/christievanderuit/TM10007_group11/blob/main/TM10007_Group11.ipynb\" target=\"_parent\"><img src=\"https://colab.research.google.com/assets/colab-badge.svg\" alt=\"Open In Colab\"/></a>"
      ]
    },
    {
      "cell_type": "code",
      "source": [
        "!pip install sklearn numpy matplotlib"
      ],
      "metadata": {
        "id": "cWwNaEqJ_iat",
        "outputId": "a2e55732-d36d-4580-88e4-f30d7cc84550",
        "colab": {
          "base_uri": "https://localhost:8080/"
        }
      },
      "execution_count": 1,
      "outputs": [
        {
          "output_type": "stream",
          "name": "stdout",
          "text": [
            "Looking in indexes: https://pypi.org/simple, https://us-python.pkg.dev/colab-wheels/public/simple/\n",
            "Requirement already satisfied: sklearn in /usr/local/lib/python3.9/dist-packages (0.0.post4)\n",
            "Requirement already satisfied: numpy in /usr/local/lib/python3.9/dist-packages (1.22.4)\n",
            "Requirement already satisfied: matplotlib in /usr/local/lib/python3.9/dist-packages (3.7.1)\n",
            "Requirement already satisfied: cycler>=0.10 in /usr/local/lib/python3.9/dist-packages (from matplotlib) (0.11.0)\n",
            "Requirement already satisfied: importlib-resources>=3.2.0 in /usr/local/lib/python3.9/dist-packages (from matplotlib) (5.12.0)\n",
            "Requirement already satisfied: pyparsing>=2.3.1 in /usr/local/lib/python3.9/dist-packages (from matplotlib) (3.0.9)\n",
            "Requirement already satisfied: kiwisolver>=1.0.1 in /usr/local/lib/python3.9/dist-packages (from matplotlib) (1.4.4)\n",
            "Requirement already satisfied: fonttools>=4.22.0 in /usr/local/lib/python3.9/dist-packages (from matplotlib) (4.39.3)\n",
            "Requirement already satisfied: contourpy>=1.0.1 in /usr/local/lib/python3.9/dist-packages (from matplotlib) (1.0.7)\n",
            "Requirement already satisfied: pillow>=6.2.0 in /usr/local/lib/python3.9/dist-packages (from matplotlib) (8.4.0)\n",
            "Requirement already satisfied: python-dateutil>=2.7 in /usr/local/lib/python3.9/dist-packages (from matplotlib) (2.8.2)\n",
            "Requirement already satisfied: packaging>=20.0 in /usr/local/lib/python3.9/dist-packages (from matplotlib) (23.0)\n",
            "Requirement already satisfied: zipp>=3.1.0 in /usr/local/lib/python3.9/dist-packages (from importlib-resources>=3.2.0->matplotlib) (3.15.0)\n",
            "Requirement already satisfied: six>=1.5 in /usr/local/lib/python3.9/dist-packages (from python-dateutil>=2.7->matplotlib) (1.16.0)\n"
          ]
        }
      ]
    },
    {
      "cell_type": "markdown",
      "source": [
        "**Inladen van Packages**"
      ],
      "metadata": {
        "id": "TFqBhJfI1n0P"
      }
    },
    {
      "cell_type": "code",
      "source": [
        "# General packages\n",
        "import numpy as np \n",
        "import pandas as pd\n",
        "import os\n",
        "import matplotlib.pyplot as plt\n",
        "from sklearn import datasets as ds\n",
        "import seaborn\n",
        "from scipy.stats import shapiro\n",
        "\n",
        "# Classifiers\n",
        "from sklearn import model_selection\n",
        "from sklearn.model_selection import train_test_split\n",
        "from sklearn.model_selection import cross_val_score\n",
        "from sklearn.model_selection import GridSearchCV \n",
        "from sklearn.model_selection import StratifiedKFold\n",
        "from sklearn.model_selection import learning_curve\n",
        "from sklearn import metrics\n",
        "from sklearn import feature_selection \n",
        "from sklearn.feature_selection import SelectKBest\n",
        "from sklearn.feature_selection import f_regression\n",
        "from sklearn.feature_selection import f_classif\n",
        "from sklearn.feature_selection import RFE\n",
        "from sklearn.feature_selection import SelectFromModel\n",
        "from sklearn import preprocessing\n",
        "from sklearn.preprocessing import LabelEncoder\n",
        "from sklearn import neighbors\n",
        "from sklearn.neighbors import LocalOutlierFactor\n",
        "from sklearn.neighbors import KNeighborsClassifier\n",
        "from sklearn.svm import SVC\n",
        "from sklearn.svm import LinearSVC\n",
        "\n",
        "from sklearn.decomposition import PCA\n",
        "from sklearn.linear_model import LinearRegression\n",
        "from sklearn.linear_model import Lasso\n",
        "from sklearn.ensemble import RandomForestClassifier\n",
        "from sklearn.ensemble import BaggingClassifier\n",
        "from sklearn.ensemble import VotingClassifier\n",
        "\n",
        "from sklearn.model_selection import GridSearchCV, KFold, cross_val_predict\n",
        "from sklearn.metrics import roc_curve, auc, roc_auc_score\n"
      ],
      "metadata": {
        "id": "oS9eMkou8yR_"
      },
      "execution_count": 2,
      "outputs": []
    },
    {
      "cell_type": "markdown",
      "source": [
        "**Run from the colab enviroment**"
      ],
      "metadata": {
        "id": "zrjl8Mx91vlx"
      }
    },
    {
      "cell_type": "code",
      "source": [
        "# Run this to use from colab environment\n",
        "!git clone https://github.com/jveenland/tm10007_ml.git\n",
        "data = pd.read_csv('/content/tm10007_ml/worcgist/GIST_radiomicFeatures.csv', index_col=0)\n",
        "print(f'The number of samples: {len(data.index)}')\n",
        "print(f'The number of columns: {len(data.columns)}')"
      ],
      "metadata": {
        "id": "qX1LjCmltopI",
        "colab": {
          "base_uri": "https://localhost:8080/"
        },
        "outputId": "58501c23-7c39-4f31-fd20-6d7fed1542b7"
      },
      "execution_count": 3,
      "outputs": [
        {
          "output_type": "stream",
          "name": "stdout",
          "text": [
            "fatal: destination path 'tm10007_ml' already exists and is not an empty directory.\n",
            "The number of samples: 246\n",
            "The number of columns: 494\n"
          ]
        }
      ]
    },
    {
      "cell_type": "markdown",
      "source": [
        "**Preprocessing of data**\n",
        "\n",
        "Remove NaN, drop features if only 0"
      ],
      "metadata": {
        "id": "-u7u1l451-rE"
      }
    },
    {
      "cell_type": "code",
      "source": [
        "#search van NaN \n",
        "x_data = data.drop(\"label\", axis='columns')\n",
        "np.where(np.asanyarray(np.isnan(x_data))) \n",
        "\n",
        "# Find all entries that are not a number\n",
        "x_data = x_data.apply(lambda x: pd.to_numeric(x, errors='coerce'))\n",
        "nan_b = pd.isna(x_data)\n",
        "n_nan = nan_b.sum().sum()\n",
        "if n_nan > 0:\n",
        "  nan = np.where(nan_b == \"True\")\n",
        "else:\n",
        "  nan = 0\n",
        "\n",
        "#Drop features with only zeros \n",
        "df1 = x_data.mask(x_data != 0).dropna(axis=1)\n",
        "\n",
        "df2 = x_data.copy()\n",
        "for col in df1:\n",
        "    df2 = df2.drop(col, axis=1)\n"
      ],
      "metadata": {
        "id": "X4w4SMYwvTtm"
      },
      "execution_count": 4,
      "outputs": []
    },
    {
      "cell_type": "markdown",
      "source": [
        "**Split in train and test set**"
      ],
      "metadata": {
        "id": "d3dwZjx-2V_c"
      }
    },
    {
      "cell_type": "code",
      "source": [
        "#Splits in train and testset \n",
        "\n",
        "#Waarbij x = features, y = label\n",
        "y = data['label']\n",
        "x = df2\n",
        "x_train, x_test, y_train, y_test = train_test_split(x,y,test_size=0.2, random_state=1, stratify=y)\n"
      ],
      "metadata": {
        "id": "akTrzKpG86zA"
      },
      "execution_count": 5,
      "outputs": []
    },
    {
      "cell_type": "markdown",
      "source": [
        "**Exploring Dataset**\n",
        "\n",
        "Outliers, normal distribution"
      ],
      "metadata": {
        "id": "ZV5Go21U3DiJ"
      }
    },
    {
      "cell_type": "code",
      "source": [
        "# testen of er outliers zijn dmv LOF\n",
        "\n",
        "lof = LocalOutlierFactor()\n",
        "x_lof = lof.fit(x_train)\n",
        "outlier_scores = x_lof.negative_outlier_factor_\n",
        "threshold = np.mean(outlier_scores)\n",
        "outliers = x_train[outlier_scores < threshold]\n",
        "outlier_percentage = (len(outliers) / len(x_train)) * 100\n",
        "\n",
        "print(\"Number of outliers:\", len(outliers))\n",
        "print(\"Percentage of outliers:\", outlier_percentage)"
      ],
      "metadata": {
        "id": "sR_vwqT-JiEi",
        "outputId": "7c56cb17-5728-4beb-9ab7-ce051dae26ca",
        "colab": {
          "base_uri": "https://localhost:8080/"
        }
      },
      "execution_count": 6,
      "outputs": [
        {
          "output_type": "stream",
          "name": "stdout",
          "text": [
            "Number of outliers: 9\n",
            "Percentage of outliers: 4.591836734693878\n"
          ]
        }
      ]
    },
    {
      "cell_type": "code",
      "source": [
        "# Test whether the data is normally distributed or not\n",
        "\n",
        "# define a function to test for normality using the Shapiro-Wilk test\n",
        "def test_normality(column):\n",
        "    stat, p = shapiro(column)\n",
        "    alpha = 0.05\n",
        "    if p > alpha:\n",
        "        return 1\n",
        "    else:\n",
        "        return 0\n",
        "\n",
        "# apply the test_normality function to each column of the DataFrame\n",
        "normality_results = x_train.apply(test_normality)"
      ],
      "metadata": {
        "id": "SUq8vAe8isP4",
        "colab": {
          "base_uri": "https://localhost:8080/"
        },
        "outputId": "827a7013-1b4b-48c0-8b42-9f8a24ee651b"
      },
      "execution_count": 7,
      "outputs": [
        {
          "output_type": "stream",
          "name": "stderr",
          "text": [
            "/usr/local/lib/python3.9/dist-packages/scipy/stats/_morestats.py:1813: UserWarning: Input data for shapiro has range zero. The results may not be accurate.\n",
            "  warnings.warn(\"Input data for shapiro has range zero. The results \"\n"
          ]
        }
      ]
    },
    {
      "cell_type": "markdown",
      "source": [
        "**Preprocessing: scaling**"
      ],
      "metadata": {
        "id": "UgdGYFzY3PVt"
      }
    },
    {
      "cell_type": "code",
      "source": [
        "# combine the normalized and non-normalized data\n",
        "scaler = preprocessing.RobustScaler()\n",
        "scaler.fit(x_train)\n",
        "x_scaled = pd.DataFrame(scaler.transform(x_train))"
      ],
      "metadata": {
        "id": "S89DW6tD3NRB"
      },
      "execution_count": 8,
      "outputs": []
    },
    {
      "cell_type": "markdown",
      "source": [
        "**Feature extraction / feature selection**"
      ],
      "metadata": {
        "id": "WZ9dxbqA3YT5"
      }
    },
    {
      "cell_type": "markdown",
      "source": [
        "Defining functions for different feature extraction/selection methods"
      ],
      "metadata": {
        "id": "MJsCQ9aC07MM"
      }
    },
    {
      "cell_type": "code",
      "source": [
        "# PCA\n",
        "\n",
        "def pca_func(X,n):\n",
        "  # create PCA object with 2 components\n",
        "  pca = PCA(n_components=n)\n",
        "\n",
        "  # fit and transform the data\n",
        "  df_pca = pca.fit_transform(X)\n",
        "  return df_pca"
      ],
      "metadata": {
        "id": "Ndqro_rJkWD8"
      },
      "execution_count": 9,
      "outputs": []
    },
    {
      "cell_type": "code",
      "source": [
        "\n",
        "def kbest_func(X, k):\n",
        "    \"\"\"\n",
        "    Select the top k features using the f_regression score as the evaluation metric\n",
        "    \"\"\"\n",
        "    # define the feature selector\n",
        "    selector = SelectKBest(f_classif, k=k)\n",
        "    \n",
        "    # fit the selector to the training data and transform the data\n",
        "    x_train_kbest = selector.fit_transform(X, y_train)\n",
        "    return x_train_kbest"
      ],
      "metadata": {
        "id": "1btbKWNlLvc3"
      },
      "execution_count": 10,
      "outputs": []
    },
    {
      "cell_type": "code",
      "source": [
        "def rfe_func(X,k): \n",
        "    # Create a LabelEncoder object \n",
        "    le = LabelEncoder()\n",
        "\n",
        "    # Fit the LabelEncoder object on the target variable (dit wordt gedaan omdat y_train uit alleen maar strings bestaat en dan kan je niet RFE gebruiken)\n",
        "    y_train_encoded = le.fit_transform(y_train)\n",
        "\n",
        "    # Create a logistic regression object\n",
        "    lr = LinearRegression()\n",
        "\n",
        "    # Create an RFE object and fit it on the training data\n",
        "    rfe = RFE(estimator=lr, n_features_to_select=k)\n",
        "    x_train_rfe = rfe.fit_transform(X, y_train_encoded)\n",
        "    return x_train_rfe"
      ],
      "metadata": {
        "id": "gIICUveAPhUC"
      },
      "execution_count": 11,
      "outputs": []
    },
    {
      "cell_type": "code",
      "source": [
        "# L1 regularization (Lasso regression)\n",
        "\n",
        "def lasso_func(X,k):   \n",
        "    # Create a LabelEncoder object\n",
        "    le = LabelEncoder()\n",
        "\n",
        "    # Fit the LabelEncoder object on the target variable\n",
        "    y_train_encoded = le.fit_transform(y_train)\n",
        "\n",
        "    # Lasso regression\n",
        "    lasso = Lasso(alpha=k)\n",
        "    \n",
        "    # Create a SelectFromModel object and fit it on the training data\n",
        "    selector = SelectFromModel(estimator=lasso)\n",
        "    selector.fit(X, y_train_encoded)\n",
        "\n",
        "    # Use the selector object to transform the data\n",
        "    x_train_lasso = selector.transform(X)\n",
        "    return x_train_lasso"
      ],
      "metadata": {
        "id": "UFsohvQ1URR2"
      },
      "execution_count": 12,
      "outputs": []
    },
    {
      "cell_type": "markdown",
      "source": [
        "Making y_train binary"
      ],
      "metadata": {
        "id": "p5QVzCTT30O3"
      }
    },
    {
      "cell_type": "code",
      "source": [
        "y_gist = pd.Series([1 if label == \"GIST\" else 0 for label in y_train], index=y_train.index)  "
      ],
      "metadata": {
        "id": "uAD0y2Xh3wt6"
      },
      "execution_count": 13,
      "outputs": []
    },
    {
      "cell_type": "markdown",
      "source": [
        "Choosing a k for kNN to use this as a classifier to select the right feature extraction / selection method for this dataset"
      ],
      "metadata": {
        "id": "R7X1Jn0Q3fL6"
      }
    },
    {
      "cell_type": "code",
      "source": [
        "# Pick k for KNN without feature extraction/selection\n",
        "\n",
        "# Define a list of k values to test\n",
        "k_values = list(range(1, 50, 2))\n",
        "\n",
        "# Train a KNN classifier for each k value and record the test set accuracy\n",
        "errors = []\n",
        "for k in k_values:\n",
        "    knn = KNeighborsClassifier(n_neighbors=k)\n",
        "    scores = cross_val_score(knn, x_scaled, y_gist, cv=5)\n",
        "    errors.append(1-scores.mean())\n",
        "\n",
        "# Create a line plot of k vs. test set accuracy\n",
        "plt.plot(k_values, errors)\n",
        "plt.xlabel('k')\n",
        "plt.ylabel('Test Set Error')\n",
        "plt.title('KNN Classifier Performance')\n",
        "plt.show()\n",
        "print(k_values)"
      ],
      "metadata": {
        "id": "k6Oo6NoDk9_A",
        "colab": {
          "base_uri": "https://localhost:8080/",
          "height": 489
        },
        "outputId": "bd9b036d-ed60-406c-9a7e-960ba529ce03"
      },
      "execution_count": 14,
      "outputs": [
        {
          "output_type": "display_data",
          "data": {
            "text/plain": [
              "<Figure size 640x480 with 1 Axes>"
            ],
            "image/png": "[encoded data removed]"
          },
          "metadata": {}
        },
        {
          "output_type": "stream",
          "name": "stdout",
          "text": [
            "[1, 3, 5, 7, 9, 11, 13, 15, 17, 19, 21, 23, 25, 27, 29, 31, 33, 35, 37, 39, 41, 43, 45, 47, 49]\n"
          ]
        }
      ]
    },
    {
      "cell_type": "markdown",
      "source": [
        "Testing which feature selection method works best using KNN. Hyperparameters: CV = 5, n_neighbours = 15, n/k = [5 10 20 50 100]."
      ],
      "metadata": {
        "id": "1xl1ErUOkcJA"
      }
    },
    {
      "cell_type": "markdown",
      "source": [
        "**Feature extraction method testing 1: PCA**"
      ],
      "metadata": {
        "id": "PE3ht1vS3_uW"
      }
    },
    {
      "cell_type": "code",
      "source": [
        "# KNN  - PCA\n",
        "n = 100\n",
        "x_pca = pca_func(x_scaled,n)\n",
        "\n",
        "# Assume X_train, y_train are numpy arrays or pandas dataframes\n",
        "# Create a k-NN classifier object with k=5\n",
        "knn = KNeighborsClassifier(n_neighbors=15)\n",
        "\n",
        "# Use 5-fold cross-validation to evaluate the performance of the k-NN classifier on the training set\n",
        "scores = cross_val_score(knn, x_pca, y_gist, cv=5)\n",
        "\n",
        "# Print the cross-validation scores and their mean\n",
        "print(\"Accuracy: {:.2f}% (+/- {:.2f}%)\".format(scores.mean()*100, scores.std()*100))\n"
      ],
      "metadata": {
        "id": "jjfT4toUuRbu",
        "outputId": "716f2d2f-971f-47f4-e607-fe64ce71b30b",
        "colab": {
          "base_uri": "https://localhost:8080/"
        }
      },
      "execution_count": 15,
      "outputs": [
        {
          "output_type": "stream",
          "name": "stdout",
          "text": [
            "Accuracy: 56.13% (+/- 3.29%)\n"
          ]
        }
      ]
    },
    {
      "cell_type": "markdown",
      "source": [
        "**Feature selection method testing 2: SelectKBest**"
      ],
      "metadata": {
        "id": "7gZKRH_A4L_7"
      }
    },
    {
      "cell_type": "code",
      "source": [
        "# KNN  - selectKBest\n",
        "\n",
        "k = 5\n",
        "x_kbest = kbest_func(x_scaled,k)\n",
        "\n",
        "# Assume X_train, y_train are numpy arrays or pandas dataframes\n",
        "# Create a k-NN classifier object with k=5\n",
        "knn = KNeighborsClassifier(n_neighbors=15)\n",
        "\n",
        "# Use 5-fold cross-validation to evaluate the performance of the k-NN classifier on the training set\n",
        "knn_select_scores = cross_val_score(knn, x_kbest, y_gist, cv=5)\n",
        "\n",
        "# Print the cross-validation scores and their mean\n",
        "print(\"Accuracy: {:.2f}% (+/- {:.2f}%)\".format(knn_select_scores.mean()*100, knn_select_scores.std()*100))"
      ],
      "metadata": {
        "id": "aqx1AjZsTW3d",
        "outputId": "bebdb6b5-142b-409c-bd87-bf463b215799",
        "colab": {
          "base_uri": "https://localhost:8080/"
        }
      },
      "execution_count": 16,
      "outputs": [
        {
          "output_type": "stream",
          "name": "stdout",
          "text": [
            "Accuracy: 65.35% (+/- 5.67%)\n"
          ]
        },
        {
          "output_type": "stream",
          "name": "stderr",
          "text": [
            "/usr/local/lib/python3.9/dist-packages/sklearn/feature_selection/_univariate_selection.py:112: UserWarning: Features [ 77  83  84  90  97 103 110] are constant.\n",
            "  warnings.warn(\"Features %s are constant.\" % constant_features_idx, UserWarning)\n",
            "/usr/local/lib/python3.9/dist-packages/sklearn/feature_selection/_univariate_selection.py:113: RuntimeWarning: invalid value encountered in true_divide\n",
            "  f = msb / msw\n"
          ]
        }
      ]
    },
    {
      "cell_type": "markdown",
      "source": [
        "**Feature selection method testing 3: RFE**"
      ],
      "metadata": {
        "id": "br73uslt4Kow"
      }
    },
    {
      "cell_type": "code",
      "source": [
        "# KNN  - RFE\n",
        "\n",
        "k = 100\n",
        "x_rfe = rfe_func(x_scaled,k)\n",
        "\n",
        "# Assume X_train, y_train are numpy arrays or pandas dataframes\n",
        "# Create a k-NN classifier object with k=5\n",
        "knn = KNeighborsClassifier(n_neighbors=15)\n",
        "\n",
        "# Use 5-fold cross-validation to evaluate the performance of the k-NN classifier on the training set\n",
        "scores = cross_val_score(knn, x_rfe, y_gist, cv=5)\n",
        "\n",
        "# Print the cross-validation scores and their mean\n",
        "print(\"Accuracy: {:.2f}% (+/- {:.2f}%)\".format(scores.mean()*100, scores.std()*100))"
      ],
      "metadata": {
        "id": "5VXKQLHwo0Sc",
        "outputId": "7cc5bdbb-632e-4172-ac88-349b909d652e",
        "colab": {
          "base_uri": "https://localhost:8080/"
        }
      },
      "execution_count": 17,
      "outputs": [
        {
          "output_type": "stream",
          "name": "stdout",
          "text": [
            "Accuracy: 59.72% (+/- 4.44%)\n"
          ]
        }
      ]
    },
    {
      "cell_type": "markdown",
      "source": [
        "**Feature selection method testing 4: LASSO**"
      ],
      "metadata": {
        "id": "Jd_Z8KPI4YEN"
      }
    },
    {
      "cell_type": "code",
      "source": [
        "# KNN - lasso\n",
        "\n",
        "k = 10\n",
        "x_lasso = lasso_func(x_scaled, k)\n",
        "\n",
        "# Assume X_train, y_train are numpy arrays or pandas dataframes\n",
        "# Create a k-NN classifier object with k=5\n",
        "knn = KNeighborsClassifier(n_neighbors=15)\n",
        "\n",
        "# Use 5-fold cross-validation to evaluate the performance of the k-NN classifier on the training set\n",
        "scores = cross_val_score(knn, x_lasso, y_gist, cv=5)\n",
        "\n",
        "# Print the cross-validation scores and their mean\n",
        "print(\"Accuracy: {:.2f}% (+/- {:.2f}%)\".format(scores.mean()*100, scores.std()*100))"
      ],
      "metadata": {
        "id": "UurZYnzVq89W",
        "outputId": "5b91cd73-225e-4665-8959-03913a43cef4",
        "colab": {
          "base_uri": "https://localhost:8080/"
        }
      },
      "execution_count": 18,
      "outputs": [
        {
          "output_type": "stream",
          "name": "stdout",
          "text": [
            "Accuracy: 53.08% (+/- 4.26%)\n"
          ]
        }
      ]
    },
    {
      "cell_type": "markdown",
      "source": [
        "Results of the best feature selection/extraction combined with KNN, Non-linear SVM and Random Forrest. Also hyperparameter optimilization."
      ],
      "metadata": {
        "id": "DxoZzJwSnGv7"
      }
    },
    {
      "cell_type": "markdown",
      "source": [
        "**SelectKBest as best feature selection thus using this as a method for testing the classifiers**"
      ],
      "metadata": {
        "id": "yDMahJSVAbe0"
      }
    },
    {
      "cell_type": "markdown",
      "source": [
        "Method 1: Hyperparametrisering of kNN and showing results "
      ],
      "metadata": {
        "id": "0Up-mB-l5DxU"
      }
    },
    {
      "cell_type": "code",
      "source": [
        "# Create a k-nearest neighbors classifier object\n",
        "knn = KNeighborsClassifier()\n",
        "\n",
        "# Define the parameter grid to search over\n",
        "param_grid = {\n",
        "    'n_neighbors': list(range(1, 100, 2)),\n",
        "    'weights': ['uniform', 'distance'],\n",
        "    'metric': ['euclidean', 'manhattan']\n",
        "}\n",
        "\n",
        "# Define the cross-validation object with a random state of 42\n",
        "cv = KFold(n_splits=5, shuffle=True, random_state=1)\n",
        "\n",
        "# Perform grid search with cross-validation and a random state of 1\n",
        "\n",
        "# Perform grid search cross-validation to find the optimal hyperparameters\n",
        "# Create a GridSearchCV object to search over the parameter grid using accuracy and ROC AUC score\n",
        "scoring = {'accuracy': 'accuracy', 'roc_auc': 'roc_auc'}\n",
        "grid_search = GridSearchCV(knn, param_grid, cv=5, scoring=scoring, refit='roc_auc')\n",
        "grid_search.fit(x_kbest, y_gist)\n",
        "\n",
        "# Print the best hyperparameters and both accuracy and ROC AUC score found by GridSearchCV\n",
        "print(\"Best parameters:\", grid_search.best_params_)\n",
        "print(\"Best accuracy:\", grid_search.cv_results_['mean_test_accuracy'][grid_search.best_index_])\n",
        "print(\"Best ROC AUC score:\", grid_search.cv_results_['mean_test_roc_auc'][grid_search.best_index_])\n",
        "\n",
        "# train the model with best hyperparameters\n",
        "best_model = grid_search.best_estimator_\n",
        "\n",
        "# generate predicted labels or scores using cross-validation\n",
        "y_pred = cross_val_predict(best_model, x_kbest, y_gist, cv=5, method='predict')\n",
        "y_pred_proba = cross_val_predict(best_model, x_kbest, y_gist, cv=5, method='predict_proba')[:, 1]\n",
        "\n",
        "# calculate false positive rate and true positive rate at different thresholds\n",
        "fpr, tpr, thresholds = roc_curve(y_gist, y_pred_proba)\n",
        "\n",
        "# plot the ROC curve\n",
        "plt.plot(fpr, tpr, label='ROC curve (AUC = %0.2f)' % auc(fpr, tpr))\n",
        "plt.plot([0, 1], [0, 1], 'k--')\n",
        "plt.xlim([0.0, 1.0])\n",
        "plt.ylim([0.0, 1.0])\n",
        "plt.xlabel('False Positive Rate')\n",
        "plt.ylabel('True Positive Rate')\n",
        "plt.title('Receiver operating characteristic')\n",
        "plt.legend(loc=\"lower right\")\n",
        "plt.show()"
      ],
      "metadata": {
        "colab": {
          "base_uri": "https://localhost:8080/",
          "height": 524
        },
        "id": "cDvrw4NyAlmG",
        "outputId": "66f684f1-0d3d-4592-d744-acb7268c9db7"
      },
      "execution_count": 19,
      "outputs": [
        {
          "output_type": "stream",
          "name": "stdout",
          "text": [
            "Best parameters: {'metric': 'euclidean', 'n_neighbors': 69, 'weights': 'distance'}\n",
            "Best accuracy: 0.6278205128205128\n",
            "Best ROC AUC score: 0.7058684210526316\n"
          ]
        },
        {
          "output_type": "display_data",
          "data": {
            "text/plain": [
              "<Figure size 640x480 with 1 Axes>"
            ],
            "image/png": "[encoded data removed]"
          },
          "metadata": {}
        }
      ]
    },
    {
      "cell_type": "markdown",
      "source": [
        "Choose weights and metrics. Find k based on error curve "
      ],
      "metadata": {
        "id": "MMoTwj7X23zg"
      }
    },
    {
      "cell_type": "code",
      "source": [
        "# Pick k for KNN without feature extraction/selection\n",
        "\n",
        "# Define a list of k values to test\n",
        "k_values = list(range(1, 100, 2))\n",
        "\n",
        "# Train a KNN classifier for each k value and record the test set accuracy\n",
        "errors = []\n",
        "for k in k_values:\n",
        "    knn = KNeighborsClassifier(n_neighbors=k, metric='euclidean', weights='uniform')\n",
        "    scores = cross_val_score(knn, x_kbest, y_gist, cv=cv)\n",
        "    errors.append(1-scores.mean())\n",
        "\n",
        "# Create a line plot of k vs. test set accuracy\n",
        "plt.plot(k_values, errors)\n",
        "plt.xlabel('k')\n",
        "plt.ylabel('Test Set Error')\n",
        "plt.title('KNN Classifier Performance')\n",
        "plt.show()\n",
        "print(k_values)"
      ],
      "metadata": {
        "colab": {
          "base_uri": "https://localhost:8080/",
          "height": 489
        },
        "id": "BC63YP13tlrt",
        "outputId": "646a05b3-68cf-44cf-f249-8e8ce5e29204"
      },
      "execution_count": 20,
      "outputs": [
        {
          "output_type": "display_data",
          "data": {
            "text/plain": [
              "<Figure size 640x480 with 1 Axes>"
            ],
            "image/png": "[encoded data removed]"
          },
          "metadata": {}
        },
        {
          "output_type": "stream",
          "name": "stdout",
          "text": [
            "[1, 3, 5, 7, 9, 11, 13, 15, 17, 19, 21, 23, 25, 27, 29, 31, 33, 35, 37, 39, 41, 43, 45, 47, 49, 51, 53, 55, 57, 59, 61, 63, 65, 67, 69, 71, 73, 75, 77, 79, 81, 83, 85, 87, 89, 91, 93, 95, 97, 99]\n"
          ]
        }
      ]
    },
    {
      "cell_type": "markdown",
      "source": [
        "Results of kNN classifier with chosen value of kneighbours based on error-plot"
      ],
      "metadata": {
        "id": "VPZu-1nLEBLj"
      }
    },
    {
      "cell_type": "code",
      "source": [
        "# Create a k-nearest neighbors classifier object\n",
        "k = 5 #based on error plot\n",
        "knn = KNeighborsClassifier(n_neighbors=k, metric='euclidean', weights='uniform')\n",
        "cv = KFold(n_splits=5, shuffle=True, random_state=1)\n",
        "\n",
        "# Train the classifier on the training data\n",
        "knn.fit(x_kbest, y_gist)\n",
        "\n",
        "# Use 5-fold cross-validation to evaluate the performance of the k-NN classifier on the training set\n",
        "knn_select_scores = cross_val_score(knn, x_kbest, y_gist, cv=cv)\n",
        "\n",
        "# Print the cross-validation scores and their mean\n",
        "print(\"Accuracy: {:.2f}% (+/- {:.2f}%)\".format(knn_select_scores.mean()*100, knn_select_scores.std()*100))\n",
        "\n",
        "y_pred = cross_val_predict(best_model, x_kbest, y_gist, cv=cv, method='predict')\n",
        "y_pred_proba = cross_val_predict(best_model, x_kbest, y_gist, cv=cv, method='predict_proba')[:, 1]\n",
        "\n",
        "# Calculate the ROC AUC score\n",
        "roc_auc = roc_auc_score(y_gist, y_pred_proba)\n",
        "print(\"ROC AUC score:\", roc_auc)\n",
        "\n",
        "# Get the false positive rate, true positive rate, and thresholds\n",
        "fpr, tpr, thresholds = roc_curve(y_gist, y_pred_proba)\n",
        "\n",
        "# plot the ROC curve\n",
        "plt.plot(fpr, tpr, label='ROC curve (AUC = %0.2f)' % auc(fpr, tpr))\n",
        "plt.plot([0, 1], [0, 1], 'k--')\n",
        "plt.xlim([0.0, 1.0])\n",
        "plt.ylim([0.0, 1.0])\n",
        "plt.xlabel('False Positive Rate')\n",
        "plt.ylabel('True Positive Rate')\n",
        "plt.title('Receiver operating characteristic')\n",
        "plt.legend(loc=\"lower right\")\n",
        "plt.show()"
      ],
      "metadata": {
        "id": "KMHH4c94EKBS",
        "outputId": "12c4cd8e-fe95-4a7b-ea54-86b882cb0730",
        "colab": {
          "base_uri": "https://localhost:8080/",
          "height": 507
        }
      },
      "execution_count": 21,
      "outputs": [
        {
          "output_type": "stream",
          "name": "stdout",
          "text": [
            "Accuracy: 61.22% (+/- 5.74%)\n",
            "ROC AUC score: 0.6573958333333334\n"
          ]
        },
        {
          "output_type": "display_data",
          "data": {
            "text/plain": [
              "<Figure size 640x480 with 1 Axes>"
            ],
            "image/png": "[encoded data removed]"
          },
          "metadata": {}
        }
      ]
    },
    {
      "cell_type": "markdown",
      "source": [
        "Method 2: Hyperparametrisering of Non-Linear SVM and showing results"
      ],
      "metadata": {
        "id": "QObSuerr5OQM"
      }
    },
    {
      "cell_type": "code",
      "source": [
        "#Hyperparameter optimalization - Non linear SVM - SelectKBest \n",
        "\n",
        "#parameter grid --> gridsearch\n",
        "param_grid = {\n",
        "    'C': [0.1, 1, 10],\n",
        "    'kernel': ['rbf', 'poly', 'sigmoid'],\n",
        "    'gamma': ['scale', 'auto', 0.1, 1, 10],\n",
        "    'degree': [2, 3, 4],\n",
        "    'coef0': [0, 1, 2]\n",
        "}\n",
        "\n",
        "# Initialize an instance of the SVC class with initial hyperparameters\n",
        "svc = SVC(probability=True)\n",
        "\n",
        "# Perform grid search cross-validation to find the optimal hyperparameters\n",
        "# Create a GridSearchCV object to search over the parameter grid using accuracy and ROC AUC score\n",
        "scoring = {'accuracy': 'accuracy', 'roc_auc': 'roc_auc'}\n",
        "grid_search = GridSearchCV(svc, param_grid, cv=5, scoring=scoring, refit='roc_auc')\n",
        "grid_search.fit(x_kbest, y_gist)\n",
        "\n",
        "# Print the best hyperparameters and both accuracy and ROC AUC score found by GridSearchCV\n",
        "print(\"Best parameters:\", grid_search.best_params_)\n",
        "print(\"Best accuracy:\", grid_search.cv_results_['mean_test_accuracy'][grid_search.best_index_])\n",
        "print(\"Standard deviation of accuracy scores:\", grid_search.cv_results_['std_test_accuracy'][grid_search.best_index_])\n",
        "print(\"Best ROC AUC score:\", grid_search.cv_results_['mean_test_roc_auc'][grid_search.best_index_])\n",
        "\n",
        "# train the model with best hyperparameters\n",
        "best_model = grid_search.best_estimator_\n",
        "\n",
        "# generate predicted labels or scores using cross-validation\n",
        "y_pred = cross_val_predict(best_model, x_kbest, y_gist, cv=5, method='predict')\n",
        "y_pred_proba = cross_val_predict(best_model, x_kbest, y_gist, cv=5, method='predict_proba')[:, 1]\n",
        "\n",
        "# calculate false positive rate and true positive rate at different thresholds\n",
        "fpr, tpr, thresholds = roc_curve(y_gist, y_pred_proba)\n",
        "\n",
        "# plot the ROC curve\n",
        "plt.plot(fpr, tpr, label='ROC curve (AUC = %0.2f)' % auc(fpr, tpr))\n",
        "plt.plot([0, 1], [0, 1], 'k--')\n",
        "plt.xlim([0.0, 1.0])\n",
        "plt.ylim([0.0, 1.0])\n",
        "plt.xlabel('False Positive Rate')\n",
        "plt.ylabel('True Positive Rate')\n",
        "plt.title('Receiver operating characteristic')\n",
        "plt.legend(loc=\"lower right\")\n",
        "plt.show()"
      ],
      "metadata": {
        "id": "ranxr4dhpVv6"
      },
      "execution_count": null,
      "outputs": []
    },
    {
      "cell_type": "markdown",
      "source": [
        "Method 3: Hyperparametrisering of Random Forest and showing results "
      ],
      "metadata": {
        "id": "Xcjy1UpG5r2D"
      }
    },
    {
      "cell_type": "code",
      "source": [
        "# Define the hyperparameter grid to search over\n",
        "param_grid = {\n",
        "    'n_estimators': list(range(1, 200, 20)),\n",
        "}\n",
        "\n",
        "# Random forest\n",
        "rf = RandomForestClassifier()\n",
        "\n",
        "# Create a GridSearchCV object to search over the parameter grid using accuracy and ROC AUC score\n",
        "scoring = {'accuracy': 'accuracy', 'roc_auc': 'roc_auc'}\n",
        "grid_search = GridSearchCV(rf, param_grid, cv=5, scoring=scoring, refit='roc_auc')\n",
        "\n",
        "# Fit the GridSearchCV object to the data\n",
        "grid_search.fit(x_kbest, y_gist)\n",
        "\n",
        "# Print the best hyperparameters and both accuracy and ROC AUC score found by GridSearchCV\n",
        "print(\"Best parameters:\", grid_search.best_params_)\n",
        "print(\"Best accuracy:\", grid_search.cv_results_['mean_test_accuracy'][grid_search.best_index_])\n",
        "print(\"Standard deviation of accuracy scores:\", grid_search.cv_results_['std_test_accuracy'][grid_search.best_index_])\n",
        "print(\"Best ROC AUC score:\", grid_search.cv_results_['mean_test_roc_auc'][grid_search.best_index_])\n",
        "\n",
        "# train the model with best hyperparameters\n",
        "best_model = grid_search.best_estimator_\n",
        "\n",
        "# generate predicted labels or scores using cross-validation\n",
        "y_pred = cross_val_predict(best_model, x_kbest, y_gist, cv=5, method='predict')\n",
        "y_pred_proba = cross_val_predict(best_model, x_kbest, y_gist, cv=5, method='predict_proba')[:, 1]\n",
        "\n",
        "# calculate false positive rate and true positive rate at different thresholds\n",
        "fpr, tpr, thresholds = roc_curve(y_gist, y_pred_proba)\n",
        "\n",
        "# plot the ROC curve\n",
        "plt.plot(fpr, tpr, label='ROC curve (AUC = %0.2f)' % auc(fpr, tpr))\n",
        "plt.plot([0, 1], [0, 1], 'k--')\n",
        "plt.xlim([0.0, 1.0])\n",
        "plt.ylim([0.0, 1.0])\n",
        "plt.xlabel('False Positive Rate')\n",
        "plt.ylabel('True Positive Rate')\n",
        "plt.title('Receiver operating characteristic')\n",
        "plt.legend(loc=\"lower right\")\n",
        "plt.show()"
      ],
      "metadata": {
        "id": "Mp6pHTvYXr0p"
      },
      "execution_count": null,
      "outputs": []
    },
    {
      "cell_type": "code",
      "source": [],
      "metadata": {
        "id": "75Su_9yzD2-H"
      },
      "execution_count": null,
      "outputs": []
    },
    {
      "cell_type": "markdown",
      "source": [
        "**Results of chosen classifier on testset**"
      ],
      "metadata": {
        "id": "v8ZyfTcrD2Ap"
      }
    },
    {
      "cell_type": "code",
      "source": [
        "# #x test scalen \n",
        "# #x test in k best zetten \n",
        "# #daarna de grid search gebruiken van scv\n",
        "\n",
        "# svc.fit(x_kbest, y_gist)svc = SVC(C=0.1, coef0=1, degree=2, gamma=0.1, kernel='sigmoid')\n",
        "\n",
        "\n",
        "# # Get the predicted probabilities for the test set\n",
        "# y_pred_proba = knn.predict_proba(X_test)[:, 1]\n",
        "\n",
        "# # Calculate the ROC AUC score\n",
        "# roc_auc = roc_auc_score(y_test, y_pred_proba)\n",
        "\n",
        "# # Get the false positive rate, true positive rate, and thresholds\n",
        "# fpr, tpr, thresholds = roc_curve(y_test, y_pred_proba)\n",
        "\n",
        "# # Plot the ROC curve\n",
        "# plt.plot(fpr, tpr)\n",
        "# plt.xlabel(\"False Positive Rate\")\n",
        "# plt.ylabel(\"True Positive Rate\")\n",
        "# plt.title(\"ROC Curve (AUC = {:.2f})\".format(roc_auc))\n",
        "# plt.show()\n",
        "\n",
        "# # Use 5-fold cross-validation to evaluate the performance of the k-NN classifier on the training set\n",
        "# knn_select_scores = cross_val_score(knn, x_kbest, y_gist, cv=cv)\n",
        "\n",
        "# # Print the cross-validation scores and their mean\n",
        "# print(\"Accuracy: {:.2f}% (+/- {:.2f}%)\".format(knn_select_scores.mean()*100, knn_select_scores.std()*100))\n",
        "\n",
        "# y_pred = cross_val_predict(best_model, x_kbest, y_gist, cv=cv, method='predict')\n",
        "# y_pred_proba = cross_val_predict(best_model, x_kbest, y_gist, cv=cv, method='predict_proba')[:, 1]\n",
        "\n",
        "# # Calculate the ROC AUC score\n",
        "# roc_auc = roc_auc_score(y_gist, y_pred_proba)\n",
        "# print(\"ROC AUC score:\", roc_auc)\n",
        "\n",
        "# # Get the false positive rate, true positive rate, and thresholds\n",
        "# fpr, tpr, thresholds = roc_curve(y_gist, y_pred_proba)\n",
        "\n",
        "# # plot the ROC curve\n",
        "# plt.plot(fpr, tpr, label='ROC curve (AUC = %0.2f)' % auc(fpr, tpr))\n",
        "# plt.plot([0, 1], [0, 1], 'k--')\n",
        "# plt.xlim([0.0, 1.0])\n",
        "# plt.ylim([0.0, 1.0])\n",
        "# plt.xlabel('False Positive Rate')\n",
        "# plt.ylabel('True Positive Rate')\n",
        "# plt.title('Receiver operating characteristic')\n",
        "# plt.legend(loc=\"lower right\")\n",
        "# plt.show()"
      ],
      "metadata": {
        "id": "PZ5VCzh9D9A8"
      },
      "execution_count": null,
      "outputs": []
    },
    {
      "cell_type": "markdown",
      "source": [
        "**Using outer Cross Validation**"
      ],
      "metadata": {
        "id": "YJXu-wI55yda"
      }
    },
    {
      "cell_type": "code",
      "source": [
        "# #Evaluatie van het model uiteindelijk met outer cross validatie \n",
        "# from sklearn.model_selection import KFold \n",
        "# from sklearn.metrics import accuracy_score \n",
        "\n",
        "# #dit moet helemaal bovenaan de code \n",
        "# from sklearn.model_selection import train_test_split, KFold, GridSearchCV \n",
        "\n",
        "# y = data['label']\n",
        "# x = df2\n",
        "# # Define outer cross-validation\n",
        "# outer_cv = KFold(n_splits=5, shuffle=True, random_state=42)\n",
        "# outer_scores = []\n",
        "\n",
        "# for train_index, test_index in outer_cv.split(x):\n",
        "#     # Split data into outer training and test sets\n",
        "#     X_train_outer, X_test = x[train_index], x[test_index] # dit zorgt ervoor dat hij hem splitst in outer in een train en test set \n",
        "#     y_train_outer, y_test = y[train_index], y[test_index]\n",
        "\n",
        "#     # Define inner cross-validation\n",
        "#     inner_cv = KFold(n_splits=5, shuffle=True, random_state=42)\n",
        "#     inner_scores = []\n",
        "\n",
        "#     for inner_train_index, inner_test_index in inner_cv.split(X_train_outer):\n",
        "#         # Split data into inner training and validation sets      \n",
        "#         X_train_inner, X_val = X_train_outer[inner_train_index], X_train_outer[inner_test_index]\n",
        "#         y_train_inner, y_val = y_train_outer[inner_train_index], y_train_outer[inner_test_index]\n",
        "\n",
        "#         # Split inner training set into training and validation sets\n",
        "#         X_train, X_test_inner, y_train, y_test_inner = train_test_split(X_train_inner, y_train_inner, test_size=0.2, random_state=42)\n",
        "\n",
        "#         # scale data\n",
        "#         scaler = preprocessing.RobustScaler()\n",
        "#         scaler.fit(x_train)\n",
        "#         x_scaled = pd.DataFrame(scaler.transform(x_train))\n",
        "\n",
        "# svc = SVC(C=0.1, coef0=1, degree=2, gamma=0.1, kernel='sigmoid') \n",
        "\n",
        "# svc.fit(X_train, y_train)\n",
        "# y_pred = svc.predict(X_test)\n",
        "\n",
        "\n",
        "# #parameter grid --> gridsearch\n",
        "# param_grid = {\n",
        "#     'C': [0.1, 1, 10],\n",
        "#     'kernel': ['rbf', 'poly', 'sigmoid'],\n",
        "#     'gamma': ['scale', 'auto', 0.1, 1, 10],\n",
        "#     'degree': [2, 3, 4],\n",
        "#     'coef0': [0, 1, 2]\n",
        "# }\n",
        "\n",
        "# # Initialize an instance of the SVC class with initial hyperparameters\n",
        "# svc = SVC(probability=True)\n",
        "\n",
        "# # Perform grid search cross-validation to find the optimal hyperparameters\n",
        "# # Create a GridSearchCV object to search over the parameter grid using accuracy and ROC AUC score\n",
        "# scoring = {'accuracy': 'accuracy', 'roc_auc': 'roc_auc'}\n",
        "# grid_search = GridSearchCV(svc, param_grid, cv=5, scoring=scoring, refit='roc_auc')\n",
        "# grid_search.fit(x_kbest, y_gist)\n",
        "\n",
        "\n",
        "#       #HIER MOET DE CODE KOMEN DIE UITEINDELIJK GEKOZEN IS VOOR DE CLASSIFIER \n",
        "#         # Evaluate model on inner validation set\n",
        "#         inner_score = grid_search.score(X_val, y_val)\n",
        "#         inner_scores.append(inner_score)\n",
        "\n",
        "#     # Train model on outer training set with best hyperparameters\n",
        "#     best_params = grid_search.best_params_\n",
        "#     model = SVC(**best_params)\n",
        "#     model.fit(X_train_outer, y_train_outer)\n",
        "\n",
        "#     # Evaluate model on outer test set\n",
        "#     outer_score = model.score(X_test, y_test)\n",
        "#     outer_scores.append(outer_score)\n",
        "\n",
        "# # Print average outer cross-validation score\n",
        "# print('Outer CV score:', np.mean(outer_scores))"
      ],
      "metadata": {
        "id": "JDWNzzpo4qXa"
      },
      "execution_count": null,
      "outputs": []
    },
    {
      "cell_type": "code",
      "source": [
        "def plot_learning_curve(estimator, title, X, y, axes, ylim=None, cv=None,\n",
        "                        n_jobs=None, train_sizes=np.linspace(.1, 1.0, 5)):\n",
        "    \"\"\"\n",
        "    Generate 3 plots: the test and training learning curve, the training\n",
        "    samples vs fit times curve, the fit times vs score curve.\n",
        "\n",
        "    Parameters\n",
        "    ----------\n",
        "    estimator : object type that implements the \"fit\" and \"predict\" methods\n",
        "        An object of that type which is cloned for each validation.\n",
        "\n",
        "    title : string\n",
        "        Title for the chart.\n",
        "\n",
        "    X : array-like, shape (n_samples, n_features)\n",
        "        Training vector, where n_samples is the number of samples and\n",
        "        n_features is the number of features.\n",
        "\n",
        "    y : array-like, shape (n_samples) or (n_samples, n_features), optional\n",
        "        Target relative to X for classification or regression;\n",
        "        None for unsupervised learning.\n",
        "\n",
        "    axes : array of 3 axes, optional (default=None)\n",
        "        Axes to use for plotting the curves.\n",
        "\n",
        "    ylim : tuple, shape (ymin, ymax), optional\n",
        "        Defines minimum and maximum yvalues plotted.\n",
        "\n",
        "    cv : int, cross-validation generator or an iterable, optional\n",
        "        Determines the cross-validation splitting strategy.\n",
        "        Possible inputs for cv are:\n",
        "          - None, to use the default 5-fold cross-validation,\n",
        "          - integer, to specify the number of folds.\n",
        "          - :term:`CV splitter`,\n",
        "          - An iterable yielding (train, test) splits as arrays of indices.\n",
        "\n",
        "        For integer/None inputs, if ``y`` is binary or multiclass,\n",
        "        :class:`StratifiedKFold` used. If the estimator is not a classifier\n",
        "        or if ``y`` is neither binary nor multiclass, :class:`KFold` is used.\n",
        "\n",
        "        Refer :ref:`User Guide <cross_validation>` for the various\n",
        "        cross-validators that can be used here.\n",
        "\n",
        "    n_jobs : int or None, optional (default=None)\n",
        "        Number of jobs to run in parallel.\n",
        "        ``None`` means 1 unless in a :obj:`joblib.parallel_backend` context.\n",
        "        ``-1`` means using all processors. See :term:`Glossary <n_jobs>`\n",
        "        for more details.\n",
        "\n",
        "    train_sizes : array-like, shape (n_ticks,), dtype float or int\n",
        "        Relative or absolute numbers of training examples that will be used to\n",
        "        generate the learning curve. If the dtype is float, it is regarded as a\n",
        "        fraction of the maximum size of the training set (that is determined\n",
        "        by the selected validation method), i.e. it has to be within (0, 1].\n",
        "        Otherwise it is interpreted as absolute sizes of the training sets.\n",
        "        Note that for classification the number of samples usually have to\n",
        "        be big enough to contain at least one sample from each class.\n",
        "        (default: np.linspace(0.1, 1.0, 5))\n",
        "    \"\"\"\n",
        "\n",
        "    axes.set_title(title)\n",
        "    if ylim is not None:\n",
        "        axes.set_ylim(*ylim)\n",
        "    axes.set_xlabel(\"Training examples\")\n",
        "    axes.set_ylabel(\"Score\")\n",
        "\n",
        "    train_sizes, train_scores, test_scores  = learning_curve(estimator, X, y, cv=cv, n_jobs=n_jobs, train_sizes=train_sizes)\n",
        "    train_scores_mean = np.mean(train_scores, axis=1)\n",
        "    train_scores_std = np.std(train_scores, axis=1)\n",
        "    test_scores_mean = np.mean(test_scores, axis=1)\n",
        "    test_scores_std = np.std(test_scores, axis=1)\n",
        "\n",
        "    # Plot learning curve\n",
        "    axes.grid()\n",
        "    axes.fill_between(train_sizes, train_scores_mean - train_scores_std,\n",
        "                         train_scores_mean + train_scores_std, alpha=0.1,\n",
        "                         color=\"r\")\n",
        "    axes.fill_between(train_sizes, test_scores_mean - test_scores_std,\n",
        "                         test_scores_mean + test_scores_std, alpha=0.1,\n",
        "                         color=\"g\")\n",
        "    axes.plot(train_sizes, train_scores_mean, 'o-', color=\"r\",\n",
        "                 label=\"Training score\")\n",
        "    axes.plot(train_sizes, test_scores_mean, 'o-', color=\"g\",\n",
        "                 label=\"Cross-validation score\")\n",
        "    axes.legend(loc=\"best\")\n",
        "\n",
        "    return plt\n",
        "\n",
        "#knn gebruiken als een classifier \n",
        "from sklearn.neighbors import KNeighborsClassifier\n",
        "\n",
        "knn = KNeighborsClassifier(n_neighbors=9)\n",
        "\n",
        "fig = plt.figure(figsize=(8, 8))\n",
        "ax = fig.add_subplot(1, 1, 1) \n",
        "clf = knn\n",
        "title = \"knn\"\n",
        "plot_learning_curve(clf, title, x, y, ax, ylim=(0.3, 1.01), cv=10)\n",
        "\n",
        "\n",
        "from sklearn.tree import DecisionTreeClassifier\n",
        "clf = DecisionTreeClassifier()\n",
        "\n",
        "fig = plt.figure(figsize=(8, 8))\n",
        "ax = fig.add_subplot(1, 1, 1) \n",
        "title = \"descision tree\"\n",
        "plot_learning_curve(clf, title, x, y, ax, ylim=(0.3, 1.01), cv=10)\n",
        "\n",
        "\n",
        "from sklearn.naive_bayes import GaussianNB\n",
        "clf = GaussianNB()\n",
        "fig = plt.figure(figsize=(8, 8))\n",
        "ax = fig.add_subplot(1, 1, 1) \n",
        "title = \"Gaussian NB\"\n",
        "plot_learning_curve(clf, title, x, y, ax, ylim=(0.3, 1.01), cv=10)\n"
      ],
      "metadata": {
        "id": "sXiHbITgiFu3"
      },
      "execution_count": null,
      "outputs": []
    }
  ]
}