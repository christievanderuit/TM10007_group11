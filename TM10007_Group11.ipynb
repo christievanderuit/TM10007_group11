{
  "nbformat": 4,
  "nbformat_minor": 0,
  "metadata": {
    "colab": {
      "provenance": [],
      "include_colab_link": true
    },
    "kernelspec": {
      "name": "python3",
      "display_name": "Python 3"
    },
    "language_info": {
      "name": "python"
    }
  },
  "cells": [
    {
      "cell_type": "markdown",
      "metadata": {
        "id": "view-in-github",
        "colab_type": "text"
      },
      "source": [
        "<a href=\"https://colab.research.google.com/github/christievanderuit/TM10007_group11/blob/main/TM10007_Group11.ipynb\" target=\"_parent\"><img src=\"https://colab.research.google.com/assets/colab-badge.svg\" alt=\"Open In Colab\"/></a>"
      ]
    },
    {
      "cell_type": "code",
      "source": [
        "!pip install sklearn numpy matplotlib"
      ],
      "metadata": {
        "id": "cWwNaEqJ_iat",
        "outputId": "f281f90d-ca68-4ff5-95a1-cd2e9f8293eb",
        "colab": {
          "base_uri": "https://localhost:8080/"
        }
      },
      "execution_count": 1,
      "outputs": [
        {
          "output_type": "stream",
          "name": "stdout",
          "text": [
            "Looking in indexes: https://pypi.org/simple, https://us-python.pkg.dev/colab-wheels/public/simple/\n",
            "Collecting sklearn\n",
            "  Downloading sklearn-0.0.post1.tar.gz (3.6 kB)\n",
            "  Preparing metadata (setup.py) ... \u001b[?25l\u001b[?25hdone\n",
            "Requirement already satisfied: numpy in /usr/local/lib/python3.9/dist-packages (1.22.4)\n",
            "Requirement already satisfied: matplotlib in /usr/local/lib/python3.9/dist-packages (3.7.1)\n",
            "Requirement already satisfied: pyparsing>=2.3.1 in /usr/local/lib/python3.9/dist-packages (from matplotlib) (3.0.9)\n",
            "Requirement already satisfied: cycler>=0.10 in /usr/local/lib/python3.9/dist-packages (from matplotlib) (0.11.0)\n",
            "Requirement already satisfied: contourpy>=1.0.1 in /usr/local/lib/python3.9/dist-packages (from matplotlib) (1.0.7)\n",
            "Requirement already satisfied: python-dateutil>=2.7 in /usr/local/lib/python3.9/dist-packages (from matplotlib) (2.8.2)\n",
            "Requirement already satisfied: pillow>=6.2.0 in /usr/local/lib/python3.9/dist-packages (from matplotlib) (8.4.0)\n",
            "Requirement already satisfied: importlib-resources>=3.2.0 in /usr/local/lib/python3.9/dist-packages (from matplotlib) (5.12.0)\n",
            "Requirement already satisfied: packaging>=20.0 in /usr/local/lib/python3.9/dist-packages (from matplotlib) (23.0)\n",
            "Requirement already satisfied: fonttools>=4.22.0 in /usr/local/lib/python3.9/dist-packages (from matplotlib) (4.39.3)\n",
            "Requirement already satisfied: kiwisolver>=1.0.1 in /usr/local/lib/python3.9/dist-packages (from matplotlib) (1.4.4)\n",
            "Requirement already satisfied: zipp>=3.1.0 in /usr/local/lib/python3.9/dist-packages (from importlib-resources>=3.2.0->matplotlib) (3.15.0)\n",
            "Requirement already satisfied: six>=1.5 in /usr/local/lib/python3.9/dist-packages (from python-dateutil>=2.7->matplotlib) (1.16.0)\n",
            "Building wheels for collected packages: sklearn\n",
            "  Building wheel for sklearn (setup.py) ... \u001b[?25l\u001b[?25hdone\n",
            "  Created wheel for sklearn: filename=sklearn-0.0.post1-py3-none-any.whl size=2955 sha256=efbbc134c7a7c4f0e2210a50573734d4e6855636ab06a4609ee28000f9474f2f\n",
            "  Stored in directory: /root/.cache/pip/wheels/f8/e0/3d/9d0c2020c44a519b9f02ab4fa6d2a4a996c98d79ab2f569fa1\n",
            "Successfully built sklearn\n",
            "Installing collected packages: sklearn\n",
            "Successfully installed sklearn-0.0.post1\n"
          ]
        }
      ]
    },
    {
      "cell_type": "code",
      "source": [
        "# General packages\n",
        "import numpy as np \n",
        "import pandas as pd\n",
        "import os\n",
        "import matplotlib.pyplot as plt\n",
        "from sklearn import datasets as ds\n",
        "import seaborn\n",
        "from scipy.stats import shapiro\n",
        "\n",
        "\n",
        "\n",
        "# Classifiers\n",
        "from sklearn import model_selection\n",
        "from sklearn.model_selection import train_test_split\n",
        "from sklearn.model_selection import cross_val_score\n",
        "from sklearn.model_selection import GridSearchCV \n",
        "from sklearn.model_selection import StratifiedKFold\n",
        "from sklearn.model_selection import learning_curve\n",
        "from sklearn import metrics\n",
        "from sklearn import feature_selection \n",
        "from sklearn.feature_selection import SelectKBest\n",
        "from sklearn.feature_selection import f_regression\n",
        "from sklearn.feature_selection import f_classif\n",
        "from sklearn.feature_selection import RFE\n",
        "from sklearn.feature_selection import SelectFromModel\n",
        "from sklearn import preprocessing\n",
        "from sklearn.preprocessing import LabelEncoder\n",
        "from sklearn import neighbors\n",
        "from sklearn.neighbors import LocalOutlierFactor\n",
        "from sklearn.neighbors import KNeighborsClassifier\n",
        "from sklearn.svm import SVC\n",
        "from sklearn.svm import LinearSVC\n",
        "\n",
        "from sklearn.decomposition import PCA\n",
        "from sklearn.linear_model import LinearRegression\n",
        "from sklearn.linear_model import Lasso\n",
        "from sklearn.ensemble import RandomForestClassifier\n",
        "from sklearn.ensemble import BaggingClassifier\n",
        "from sklearn.ensemble import VotingClassifier\n",
        "\n",
        "\n"
      ],
      "metadata": {
        "id": "oS9eMkou8yR_"
      },
      "execution_count": 11,
      "outputs": []
    },
    {
      "cell_type": "code",
      "source": [
        "# Some functions we will use\n",
        "def colorplot(clf, ax, x, y, h=100):\n",
        "    '''\n",
        "    Overlay the decision areas as colors in an axes.\n",
        "    \n",
        "    Input:\n",
        "        clf: trained classifier\n",
        "        ax: axis to overlay color mesh on\n",
        "        x: feature on x-axis\n",
        "        y: feature on y-axis\n",
        "        h(optional): steps in the mesh\n",
        "    '''\n",
        "    # Create a meshgrid the size of the axis\n",
        "    xstep = (x.max() - x.min() ) / 20.0\n",
        "    ystep = (y.max() - y.min() ) / 20.0\n",
        "    x_min, x_max = x.min() - xstep, x.max() + xstep\n",
        "    y_min, y_max = y.min() - ystep, y.max() + ystep\n",
        "    h = max((x_max - x_min, y_max - y_min))/h\n",
        "    xx, yy = np.meshgrid(np.arange(x_min, x_max, h),\n",
        "                         np.arange(y_min, y_max, h))\n",
        "    \n",
        "    # Plot the decision boundary. For that, we will assign a color to each\n",
        "    # point in the mesh [x_min, x_max]x[y_min, y_max].\n",
        "    if hasattr(clf, \"decision_function\"):\n",
        "        Z = clf.decision_function(np.c_[xx.ravel(), yy.ravel()])\n",
        "    else:\n",
        "        Z = clf.predict_proba(np.c_[xx.ravel(), yy.ravel()])\n",
        "    if len(Z.shape) > 1:\n",
        "        Z = Z[:, 1]\n",
        "    \n",
        "    # Put the result into a color plot\n",
        "    cm = plt.cm.RdBu_r\n",
        "    Z = Z.reshape(xx.shape)\n",
        "    ax.contourf(xx, yy, Z, cmap=cm, alpha=.8)\n",
        "    del xx, yy, x_min, x_max, y_min, y_max, Z, cm"
      ],
      "metadata": {
        "id": "Y8zNyBBH9BCh"
      },
      "execution_count": 3,
      "outputs": []
    },
    {
      "cell_type": "code",
      "source": [
        "# Run this to use from colab environment\n",
        "!git clone https://github.com/jveenland/tm10007_ml.git\n",
        "data = pd.read_csv('/content/tm10007_ml/worcgist/GIST_radiomicFeatures.csv', index_col=0)\n",
        "print(f'The number of samples: {len(data.index)}')\n",
        "print(f'The number of columns: {len(data.columns)}')"
      ],
      "metadata": {
        "id": "qX1LjCmltopI",
        "colab": {
          "base_uri": "https://localhost:8080/"
        },
        "outputId": "23cf0a8c-24dc-4d69-de9c-05684919a7d3"
      },
      "execution_count": 4,
      "outputs": [
        {
          "output_type": "stream",
          "name": "stdout",
          "text": [
            "Cloning into 'tm10007_ml'...\n",
            "remote: Enumerating objects: 83, done.\u001b[K\n",
            "remote: Counting objects: 100% (22/22), done.\u001b[K\n",
            "remote: Compressing objects: 100% (10/10), done.\u001b[K\n",
            "remote: Total 83 (delta 13), reused 12 (delta 12), pack-reused 61\u001b[K\n",
            "Unpacking objects: 100% (83/83), 67.93 MiB | 5.42 MiB/s, done.\n",
            "The number of samples: 246\n",
            "The number of columns: 494\n"
          ]
        }
      ]
    },
    {
      "cell_type": "code",
      "source": [
        "#zorgen dat verschillende functies uit de files aangeroepen kunnen worden \n",
        "from tm10007_ml.worcgist.load_data import *   #misschien dat dit nog op een nettere manier kan \n",
        "dataset = load_data(); "
      ],
      "metadata": {
        "id": "bG7AZdOO5cDq"
      },
      "execution_count": 5,
      "outputs": []
    },
    {
      "cell_type": "code",
      "source": [
        "#zoeken van NaN --> want duidelijk dat deze erin zitten - ook voor de nu geplotte in de eerste figuur \n",
        "x_data = data.drop(\"label\", axis='columns')\n",
        "\n",
        "\n",
        "np.where(np.asanyarray(np.isnan(x_data))) \n",
        "\n",
        "# # Find all entries that are not a number\n",
        "x_data = x_data.apply(lambda x: pd.to_numeric(x, errors='coerce'))\n",
        "nan_b = pd.isna(x_data)\n",
        "n_nan = nan_b.sum().sum()\n",
        "if n_nan > 0:\n",
        "  nan = np.where(nan_b == \"True\")\n",
        "else:\n",
        "  nan = 0\n",
        "# # Replace all NaN with 0\n",
        "# x_train_nieuw = x_train.fillna(0)\n",
        "\n",
        "#0'en zijn, dus deze droppen - dit zijn 6 kolommen \n",
        "df1 = x_data.mask(x_data != 0).dropna(axis=1)\n",
        "\n",
        "df2 = x_data.copy()\n",
        "for col in df1:\n",
        "    df2 = df2.drop(col, axis=1)\n"
      ],
      "metadata": {
        "id": "X4w4SMYwvTtm"
      },
      "execution_count": 6,
      "outputs": []
    },
    {
      "cell_type": "code",
      "source": [
        "#Splitsen in een train en in een testset \n",
        "\n",
        "#Waarbij x = features, y = label\n",
        "y = data['label']\n",
        "x = df2\n",
        "x_train, x_test, y_train, y_test = train_test_split(x,y,test_size=0.2, random_state=1, stratify=y)\n",
        "#AFBLIJVEN VAN TESTDATA!!! :) \n",
        "\n",
        "\n",
        "\n"
      ],
      "metadata": {
        "id": "akTrzKpG86zA"
      },
      "execution_count": 7,
      "outputs": []
    },
    {
      "cell_type": "code",
      "source": [
        "def plot_learning_curve(estimator, title, X, y, axes, ylim=None, cv=None,\n",
        "                        n_jobs=None, train_sizes=np.linspace(.1, 1.0, 5)):\n",
        "    \"\"\"\n",
        "    Generate 3 plots: the test and training learning curve, the training\n",
        "    samples vs fit times curve, the fit times vs score curve.\n",
        "\n",
        "    Parameters\n",
        "    ----------\n",
        "    estimator : object type that implements the \"fit\" and \"predict\" methods\n",
        "        An object of that type which is cloned for each validation.\n",
        "\n",
        "    title : string\n",
        "        Title for the chart.\n",
        "\n",
        "    X : array-like, shape (n_samples, n_features)\n",
        "        Training vector, where n_samples is the number of samples and\n",
        "        n_features is the number of features.\n",
        "\n",
        "    y : array-like, shape (n_samples) or (n_samples, n_features), optional\n",
        "        Target relative to X for classification or regression;\n",
        "        None for unsupervised learning.\n",
        "\n",
        "    axes : array of 3 axes, optional (default=None)\n",
        "        Axes to use for plotting the curves.\n",
        "\n",
        "    ylim : tuple, shape (ymin, ymax), optional\n",
        "        Defines minimum and maximum yvalues plotted.\n",
        "\n",
        "    cv : int, cross-validation generator or an iterable, optional\n",
        "        Determines the cross-validation splitting strategy.\n",
        "        Possible inputs for cv are:\n",
        "          - None, to use the default 5-fold cross-validation,\n",
        "          - integer, to specify the number of folds.\n",
        "          - :term:`CV splitter`,\n",
        "          - An iterable yielding (train, test) splits as arrays of indices.\n",
        "\n",
        "        For integer/None inputs, if ``y`` is binary or multiclass,\n",
        "        :class:`StratifiedKFold` used. If the estimator is not a classifier\n",
        "        or if ``y`` is neither binary nor multiclass, :class:`KFold` is used.\n",
        "\n",
        "        Refer :ref:`User Guide <cross_validation>` for the various\n",
        "        cross-validators that can be used here.\n",
        "\n",
        "    n_jobs : int or None, optional (default=None)\n",
        "        Number of jobs to run in parallel.\n",
        "        ``None`` means 1 unless in a :obj:`joblib.parallel_backend` context.\n",
        "        ``-1`` means using all processors. See :term:`Glossary <n_jobs>`\n",
        "        for more details.\n",
        "\n",
        "    train_sizes : array-like, shape (n_ticks,), dtype float or int\n",
        "        Relative or absolute numbers of training examples that will be used to\n",
        "        generate the learning curve. If the dtype is float, it is regarded as a\n",
        "        fraction of the maximum size of the training set (that is determined\n",
        "        by the selected validation method), i.e. it has to be within (0, 1].\n",
        "        Otherwise it is interpreted as absolute sizes of the training sets.\n",
        "        Note that for classification the number of samples usually have to\n",
        "        be big enough to contain at least one sample from each class.\n",
        "        (default: np.linspace(0.1, 1.0, 5))\n",
        "    \"\"\"\n",
        "\n",
        "    axes.set_title(title)\n",
        "    if ylim is not None:\n",
        "        axes.set_ylim(*ylim)\n",
        "    axes.set_xlabel(\"Training examples\")\n",
        "    axes.set_ylabel(\"Score\")\n",
        "\n",
        "    train_sizes, train_scores, test_scores  = learning_curve(estimator, X, y, cv=cv, n_jobs=n_jobs, train_sizes=train_sizes)\n",
        "    train_scores_mean = np.mean(train_scores, axis=1)\n",
        "    train_scores_std = np.std(train_scores, axis=1)\n",
        "    test_scores_mean = np.mean(test_scores, axis=1)\n",
        "    test_scores_std = np.std(test_scores, axis=1)\n",
        "\n",
        "    # Plot learning curve\n",
        "    axes.grid()\n",
        "    axes.fill_between(train_sizes, train_scores_mean - train_scores_std,\n",
        "                         train_scores_mean + train_scores_std, alpha=0.1,\n",
        "                         color=\"r\")\n",
        "    axes.fill_between(train_sizes, test_scores_mean - test_scores_std,\n",
        "                         test_scores_mean + test_scores_std, alpha=0.1,\n",
        "                         color=\"g\")\n",
        "    axes.plot(train_sizes, train_scores_mean, 'o-', color=\"r\",\n",
        "                 label=\"Training score\")\n",
        "    axes.plot(train_sizes, test_scores_mean, 'o-', color=\"g\",\n",
        "                 label=\"Cross-validation score\")\n",
        "    axes.legend(loc=\"best\")\n",
        "\n",
        "    return plt\n",
        "\n",
        "#knn gebruiken als een classifier \n",
        "from sklearn.neighbors import KNeighborsClassifier\n",
        "\n",
        "knn = KNeighborsClassifier(n_neighbors=9)\n",
        "\n",
        "fig = plt.figure(figsize=(8, 8))\n",
        "ax = fig.add_subplot(1, 1, 1) \n",
        "clf = knn\n",
        "title = \"knn\"\n",
        "plot_learning_curve(clf, title, x, y, ax, ylim=(0.3, 1.01), cv=10)\n",
        "\n",
        "\n",
        "from sklearn.tree import DecisionTreeClassifier\n",
        "clf = DecisionTreeClassifier()\n",
        "\n",
        "fig = plt.figure(figsize=(8, 8))\n",
        "ax = fig.add_subplot(1, 1, 1) \n",
        "title = \"descision tree\"\n",
        "plot_learning_curve(clf, title, x, y, ax, ylim=(0.3, 1.01), cv=10)\n",
        "\n",
        "\n",
        "from sklearn.naive_bayes import GaussianNB\n",
        "clf = GaussianNB()\n",
        "fig = plt.figure(figsize=(8, 8))\n",
        "ax = fig.add_subplot(1, 1, 1) \n",
        "title = \"Gaussian NB\"\n",
        "plot_learning_curve(clf, title, x, y, ax, ylim=(0.3, 1.01), cv=10)\n"
      ],
      "metadata": {
        "id": "sXiHbITgiFu3",
        "colab": {
          "base_uri": "https://localhost:8080/",
          "height": 1000
        },
        "outputId": "5f77aebf-90cb-4777-fdf4-42a389c1c974"
      },
      "execution_count": 12,
      "outputs": [
        {
          "output_type": "execute_result",
          "data": {
            "text/plain": [
              "<module 'matplotlib.pyplot' from '/usr/local/lib/python3.9/dist-packages/matplotlib/pyplot.py'>"
            ]
          },
          "metadata": {},
          "execution_count": 12
        },
        {
          "output_type": "display_data",
          "data": {
            "text/plain": [
              "<Figure size 800x800 with 1 Axes>"
            ],
            "image/png": "[encoded data removed]"
          },
          "metadata": {}
        },
        {
          "output_type": "display_data",
          "data": {
            "text/plain": [
              "<Figure size 800x800 with 1 Axes>"
            ],
            "image/png": "[encoded data removed]"
          },
          "metadata": {}
        },
        {
          "output_type": "display_data",
          "data": {
            "text/plain": [
              "<Figure size 800x800 with 1 Axes>"
            ],
            "image/png": "[encoded data removed]"
          },
          "metadata": {}
        }
      ]
    },
    {
      "cell_type": "code",
      "source": [
        "# testen of er outliers zijn dmv LOF\n",
        "\n",
        "lof = LocalOutlierFactor()\n",
        "x_lof = lof.fit(x_train)\n",
        "outlier_scores = x_lof.negative_outlier_factor_\n",
        "threshold = np.mean(outlier_scores)\n",
        "outliers = x_train[outlier_scores < threshold]\n",
        "outlier_percentage = (len(outliers) / len(x_train)) * 100\n",
        "\n",
        "print(\"Number of outliers:\", len(outliers))\n",
        "print(\"Percentage of outliers:\", outlier_percentage)"
      ],
      "metadata": {
        "id": "sR_vwqT-JiEi",
        "outputId": "983057c3-9b36-469a-d2b2-b179952f58ff",
        "colab": {
          "base_uri": "https://localhost:8080/"
        }
      },
      "execution_count": null,
      "outputs": [
        {
          "output_type": "stream",
          "name": "stdout",
          "text": [
            "Number of outliers: 9\n",
            "Percentage of outliers: 4.591836734693878\n"
          ]
        }
      ]
    },
    {
      "cell_type": "code",
      "source": [
        "# Test whether the data is normally distributed or not\n",
        "\n",
        "# define a function to test for normality using the Shapiro-Wilk test\n",
        "def test_normality(column):\n",
        "    stat, p = shapiro(column)\n",
        "    alpha = 0.05\n",
        "    if p > alpha:\n",
        "        return 1\n",
        "    else:\n",
        "        return 0\n",
        "\n",
        "# apply the test_normality function to each column of the DataFrame\n",
        "normality_results = x_train.apply(test_normality)\n",
        "\n",
        "# print the results\n",
        "print(normality_results)\n",
        "\n",
        "# separate the data into normalized and non-normalized DataFrames using concat\n",
        "normalized = pd.DataFrame()\n",
        "non_normalized = pd.DataFrame()\n",
        "for ind, elem in zip(x_train.columns, normality_results):\n",
        "    if elem == 0:\n",
        "        non_normalized = pd.concat([non_normalized, x_train[ind]], axis=1)\n",
        "    else:\n",
        "        normalized = pd.concat([normalized, x_train[ind]], axis=1)\n",
        "\n",
        "# scale the non-normalized data\n",
        "scaler = preprocessing.RobustScaler()\n",
        "scaler.fit(non_normalized)\n",
        "non_normalized = pd.DataFrame(scaler.transform(non_normalized))\n",
        "\n",
        "# scale the normalized data\n",
        "scaler_norm = preprocessing.StandardScaler()\n",
        "scaler_norm.fit(normalized)\n",
        "normalized = pd.DataFrame(scaler_norm.transform(normalized))\n",
        "\n",
        "# combine the normalized and non-normalized data\n",
        "x_scaled = pd.concat([non_normalized, normalized], axis=1)\n"
      ],
      "metadata": {
        "id": "Lmhiy0kOuuh1",
        "outputId": "8265770c-3ab1-4ed5-dce0-2bbe626ab5fb",
        "colab": {
          "base_uri": "https://localhost:8080/"
        }
      },
      "execution_count": null,
      "outputs": [
        {
          "output_type": "stream",
          "name": "stdout",
          "text": [
            "PREDICT_original_sf_compactness_avg_2.5D                  0\n",
            "PREDICT_original_sf_compactness_std_2.5D                  0\n",
            "PREDICT_original_sf_rad_dist_avg_2.5D                     0\n",
            "PREDICT_original_sf_rad_dist_std_2.5D                     0\n",
            "PREDICT_original_sf_roughness_avg_2.5D                    0\n",
            "                                                         ..\n",
            "PREDICT_original_phasef_phasesym_kurtosis_WL3_N5          0\n",
            "PREDICT_original_phasef_phasesym_range_WL3_N5             0\n",
            "PREDICT_original_phasef_phasesym_energy_WL3_N5            0\n",
            "PREDICT_original_phasef_phasesym_quartile_range_WL3_N5    0\n",
            "PREDICT_original_phasef_phasesym_entropy_WL3_N5           1\n",
            "Length: 487, dtype: int64\n"
          ]
        },
        {
          "output_type": "stream",
          "name": "stderr",
          "text": [
            "/usr/local/lib/python3.9/dist-packages/scipy/stats/_morestats.py:1813: UserWarning: Input data for shapiro has range zero. The results may not be accurate.\n",
            "  warnings.warn(\"Input data for shapiro has range zero. The results \"\n"
          ]
        }
      ]
    },
    {
      "cell_type": "code",
      "source": [
        "#plotten \n",
        "\n",
        "fig = plt.figure(figsize=(8, 8))\n",
        "ax = fig.add_subplot(1, 1, 1)\n",
        "plt.scatter(x_train['PREDICT_original_sf_compactness_avg_2.5D'], x_train['PREDICT_original_sf_roughness_std_2.5D'])\n",
        "\n",
        "#Testen met een andere variabele \n",
        "fig = plt.figure(figsize=(8, 8))\n",
        "ax = fig.add_subplot(1, 1, 1)\n",
        "plt.scatter(x_train['PREDICT_original_sf_convexity_avg_2.5D'], x_train['PREDICT_original_phasef_phasesym_range_WL3_N5'])\n"
      ],
      "metadata": {
        "id": "DV4adj_J8qWX",
        "outputId": "c5fe57cc-e32d-4c9b-f814-fecb3e3ae8a7",
        "colab": {
          "base_uri": "https://localhost:8080/",
          "height": 1000
        }
      },
      "execution_count": null,
      "outputs": [
        {
          "output_type": "execute_result",
          "data": {
            "text/plain": [
              "<matplotlib.collections.PathCollection at 0x7f543946c3d0>"
            ]
          },
          "metadata": {},
          "execution_count": 130
        },
        {
          "output_type": "display_data",
          "data": {
            "text/plain": [
              "<Figure size 800x800 with 1 Axes>"
            ],
            "image/png": "[encoded data removed]"
          },
          "metadata": {}
        },
        {
          "output_type": "display_data",
          "data": {
            "text/plain": [
              "<Figure size 800x800 with 1 Axes>"
            ],
            "image/png": "[encoded data removed]"
          },
          "metadata": {}
        }
      ]
    },
    {
      "cell_type": "code",
      "source": [
        "# Attempt at PCA\n",
        "\n",
        "def pca_func(X,n):\n",
        "  # create PCA object with 2 components\n",
        "  pca = PCA(n_components=n)\n",
        "\n",
        "  # fit and transform the data\n",
        "  df_pca = pca.fit_transform(X)\n",
        "  return df_pca"
      ],
      "metadata": {
        "id": "Ndqro_rJkWD8"
      },
      "execution_count": null,
      "outputs": []
    },
    {
      "cell_type": "code",
      "source": [
        "\n",
        "def kbest_func(X, k):\n",
        "    \"\"\"\n",
        "    Select the top k features using the f_regression score as the evaluation metric\n",
        "    \"\"\"\n",
        "    # define the feature selector\n",
        "    selector = SelectKBest(f_classif, k=k)\n",
        "    \n",
        "    # fit the selector to the training data and transform the data\n",
        "    x_train_kbest = selector.fit_transform(X, y_train)\n",
        "    return x_train_kbest"
      ],
      "metadata": {
        "id": "1btbKWNlLvc3"
      },
      "execution_count": null,
      "outputs": []
    },
    {
      "cell_type": "code",
      "source": [
        "def rfe_func(X,k): \n",
        "    # Create a LabelEncoder object \n",
        "    le = LabelEncoder()\n",
        "\n",
        "    # Fit the LabelEncoder object on the target variable (dit wordt gedaan omdat y_train uit alleen maar strings bestaat en dan kan je niet RFE gebruiken)\n",
        "    y_train_encoded = le.fit_transform(y_train)\n",
        "\n",
        "    # Create a logistic regression object\n",
        "    lr = LinearRegression()\n",
        "\n",
        "    # Create an RFE object and fit it on the training data\n",
        "    rfe = RFE(estimator=lr, n_features_to_select=k)\n",
        "    x_train_rfe = rfe.fit_transform(X, y_train_encoded)\n",
        "    return x_train_rfe"
      ],
      "metadata": {
        "id": "gIICUveAPhUC"
      },
      "execution_count": null,
      "outputs": []
    },
    {
      "cell_type": "code",
      "source": [
        "# L1 regularization (Lasso regression)\n",
        "\n",
        "def lasso_func(X,k):   \n",
        "    # Create a LabelEncoder object\n",
        "    le = LabelEncoder()\n",
        "\n",
        "    # Fit the LabelEncoder object on the target variable\n",
        "    y_train_encoded = le.fit_transform(y_train)\n",
        "\n",
        "    # Lasso regression\n",
        "    lasso = Lasso(alpha=k)\n",
        "    \n",
        "    # Create a SelectFromModel object and fit it on the training data\n",
        "    selector = SelectFromModel(estimator=lasso)\n",
        "    selector.fit(X, y_train_encoded)\n",
        "\n",
        "    # Use the selector object to transform the data\n",
        "    x_train_lasso = selector.transform(X)\n",
        "    return x_train_lasso"
      ],
      "metadata": {
        "id": "UFsohvQ1URR2"
      },
      "execution_count": null,
      "outputs": []
    },
    {
      "cell_type": "code",
      "source": [
        "# SVM with cross vallidation\n",
        "\n",
        "n = 50\n",
        "x_pca = pca_func(x_scaled,n)\n",
        "\n",
        "y_gist = pd.Series([1 if label == \"GIST\" else 0 for label in y_train], index=y_train.index)\n",
        "\n",
        "\n",
        "# Create a linear SVM object\n",
        "svm = LinearSVC(max_iter=1000)\n",
        "\n",
        "# Perform 5-fold cross-validation on the training data\n",
        "scores = cross_val_score(svm, x_pca, y_gist, cv=50)\n",
        "\n",
        "# Print the average accuracy and standard deviation of the cross-validation scores\n",
        "print(\"Accuracy: {:.2f}% (+/- {:.2f}%)\".format(scores.mean()*100, scores.std()*100))\n"
      ],
      "metadata": {
        "id": "G7QNF2o9rY_2",
        "outputId": "c4fb3851-0224-4420-8856-dad4f8582fba",
        "colab": {
          "base_uri": "https://localhost:8080/"
        }
      },
      "execution_count": null,
      "outputs": [
        {
          "output_type": "stream",
          "name": "stdout",
          "text": [
            "Accuracy: 50.17% (+/- 16.71%)\n"
          ]
        },
        {
          "output_type": "stream",
          "name": "stderr",
          "text": [
            "/usr/local/lib/python3.9/dist-packages/sklearn/svm/_base.py:1244: ConvergenceWarning: Liblinear failed to converge, increase the number of iterations.\n",
            "  warnings.warn(\n",
            "/usr/local/lib/python3.9/dist-packages/sklearn/svm/_base.py:1244: ConvergenceWarning: Liblinear failed to converge, increase the number of iterations.\n",
            "  warnings.warn(\n",
            "/usr/local/lib/python3.9/dist-packages/sklearn/svm/_base.py:1244: ConvergenceWarning: Liblinear failed to converge, increase the number of iterations.\n",
            "  warnings.warn(\n",
            "/usr/local/lib/python3.9/dist-packages/sklearn/svm/_base.py:1244: ConvergenceWarning: Liblinear failed to converge, increase the number of iterations.\n",
            "  warnings.warn(\n",
            "/usr/local/lib/python3.9/dist-packages/sklearn/svm/_base.py:1244: ConvergenceWarning: Liblinear failed to converge, increase the number of iterations.\n",
            "  warnings.warn(\n",
            "/usr/local/lib/python3.9/dist-packages/sklearn/svm/_base.py:1244: ConvergenceWarning: Liblinear failed to converge, increase the number of iterations.\n",
            "  warnings.warn(\n",
            "/usr/local/lib/python3.9/dist-packages/sklearn/svm/_base.py:1244: ConvergenceWarning: Liblinear failed to converge, increase the number of iterations.\n",
            "  warnings.warn(\n",
            "/usr/local/lib/python3.9/dist-packages/sklearn/svm/_base.py:1244: ConvergenceWarning: Liblinear failed to converge, increase the number of iterations.\n",
            "  warnings.warn(\n",
            "/usr/local/lib/python3.9/dist-packages/sklearn/svm/_base.py:1244: ConvergenceWarning: Liblinear failed to converge, increase the number of iterations.\n",
            "  warnings.warn(\n",
            "/usr/local/lib/python3.9/dist-packages/sklearn/svm/_base.py:1244: ConvergenceWarning: Liblinear failed to converge, increase the number of iterations.\n",
            "  warnings.warn(\n",
            "/usr/local/lib/python3.9/dist-packages/sklearn/svm/_base.py:1244: ConvergenceWarning: Liblinear failed to converge, increase the number of iterations.\n",
            "  warnings.warn(\n",
            "/usr/local/lib/python3.9/dist-packages/sklearn/svm/_base.py:1244: ConvergenceWarning: Liblinear failed to converge, increase the number of iterations.\n",
            "  warnings.warn(\n",
            "/usr/local/lib/python3.9/dist-packages/sklearn/svm/_base.py:1244: ConvergenceWarning: Liblinear failed to converge, increase the number of iterations.\n",
            "  warnings.warn(\n",
            "/usr/local/lib/python3.9/dist-packages/sklearn/svm/_base.py:1244: ConvergenceWarning: Liblinear failed to converge, increase the number of iterations.\n",
            "  warnings.warn(\n",
            "/usr/local/lib/python3.9/dist-packages/sklearn/svm/_base.py:1244: ConvergenceWarning: Liblinear failed to converge, increase the number of iterations.\n",
            "  warnings.warn(\n",
            "/usr/local/lib/python3.9/dist-packages/sklearn/svm/_base.py:1244: ConvergenceWarning: Liblinear failed to converge, increase the number of iterations.\n",
            "  warnings.warn(\n",
            "/usr/local/lib/python3.9/dist-packages/sklearn/svm/_base.py:1244: ConvergenceWarning: Liblinear failed to converge, increase the number of iterations.\n",
            "  warnings.warn(\n",
            "/usr/local/lib/python3.9/dist-packages/sklearn/svm/_base.py:1244: ConvergenceWarning: Liblinear failed to converge, increase the number of iterations.\n",
            "  warnings.warn(\n",
            "/usr/local/lib/python3.9/dist-packages/sklearn/svm/_base.py:1244: ConvergenceWarning: Liblinear failed to converge, increase the number of iterations.\n",
            "  warnings.warn(\n",
            "/usr/local/lib/python3.9/dist-packages/sklearn/svm/_base.py:1244: ConvergenceWarning: Liblinear failed to converge, increase the number of iterations.\n",
            "  warnings.warn(\n",
            "/usr/local/lib/python3.9/dist-packages/sklearn/svm/_base.py:1244: ConvergenceWarning: Liblinear failed to converge, increase the number of iterations.\n",
            "  warnings.warn(\n",
            "/usr/local/lib/python3.9/dist-packages/sklearn/svm/_base.py:1244: ConvergenceWarning: Liblinear failed to converge, increase the number of iterations.\n",
            "  warnings.warn(\n",
            "/usr/local/lib/python3.9/dist-packages/sklearn/svm/_base.py:1244: ConvergenceWarning: Liblinear failed to converge, increase the number of iterations.\n",
            "  warnings.warn(\n",
            "/usr/local/lib/python3.9/dist-packages/sklearn/svm/_base.py:1244: ConvergenceWarning: Liblinear failed to converge, increase the number of iterations.\n",
            "  warnings.warn(\n",
            "/usr/local/lib/python3.9/dist-packages/sklearn/svm/_base.py:1244: ConvergenceWarning: Liblinear failed to converge, increase the number of iterations.\n",
            "  warnings.warn(\n",
            "/usr/local/lib/python3.9/dist-packages/sklearn/svm/_base.py:1244: ConvergenceWarning: Liblinear failed to converge, increase the number of iterations.\n",
            "  warnings.warn(\n",
            "/usr/local/lib/python3.9/dist-packages/sklearn/svm/_base.py:1244: ConvergenceWarning: Liblinear failed to converge, increase the number of iterations.\n",
            "  warnings.warn(\n",
            "/usr/local/lib/python3.9/dist-packages/sklearn/svm/_base.py:1244: ConvergenceWarning: Liblinear failed to converge, increase the number of iterations.\n",
            "  warnings.warn(\n",
            "/usr/local/lib/python3.9/dist-packages/sklearn/svm/_base.py:1244: ConvergenceWarning: Liblinear failed to converge, increase the number of iterations.\n",
            "  warnings.warn(\n",
            "/usr/local/lib/python3.9/dist-packages/sklearn/svm/_base.py:1244: ConvergenceWarning: Liblinear failed to converge, increase the number of iterations.\n",
            "  warnings.warn(\n",
            "/usr/local/lib/python3.9/dist-packages/sklearn/svm/_base.py:1244: ConvergenceWarning: Liblinear failed to converge, increase the number of iterations.\n",
            "  warnings.warn(\n",
            "/usr/local/lib/python3.9/dist-packages/sklearn/svm/_base.py:1244: ConvergenceWarning: Liblinear failed to converge, increase the number of iterations.\n",
            "  warnings.warn(\n",
            "/usr/local/lib/python3.9/dist-packages/sklearn/svm/_base.py:1244: ConvergenceWarning: Liblinear failed to converge, increase the number of iterations.\n",
            "  warnings.warn(\n",
            "/usr/local/lib/python3.9/dist-packages/sklearn/svm/_base.py:1244: ConvergenceWarning: Liblinear failed to converge, increase the number of iterations.\n",
            "  warnings.warn(\n",
            "/usr/local/lib/python3.9/dist-packages/sklearn/svm/_base.py:1244: ConvergenceWarning: Liblinear failed to converge, increase the number of iterations.\n",
            "  warnings.warn(\n",
            "/usr/local/lib/python3.9/dist-packages/sklearn/svm/_base.py:1244: ConvergenceWarning: Liblinear failed to converge, increase the number of iterations.\n",
            "  warnings.warn(\n",
            "/usr/local/lib/python3.9/dist-packages/sklearn/svm/_base.py:1244: ConvergenceWarning: Liblinear failed to converge, increase the number of iterations.\n",
            "  warnings.warn(\n",
            "/usr/local/lib/python3.9/dist-packages/sklearn/svm/_base.py:1244: ConvergenceWarning: Liblinear failed to converge, increase the number of iterations.\n",
            "  warnings.warn(\n",
            "/usr/local/lib/python3.9/dist-packages/sklearn/svm/_base.py:1244: ConvergenceWarning: Liblinear failed to converge, increase the number of iterations.\n",
            "  warnings.warn(\n",
            "/usr/local/lib/python3.9/dist-packages/sklearn/svm/_base.py:1244: ConvergenceWarning: Liblinear failed to converge, increase the number of iterations.\n",
            "  warnings.warn(\n",
            "/usr/local/lib/python3.9/dist-packages/sklearn/svm/_base.py:1244: ConvergenceWarning: Liblinear failed to converge, increase the number of iterations.\n",
            "  warnings.warn(\n",
            "/usr/local/lib/python3.9/dist-packages/sklearn/svm/_base.py:1244: ConvergenceWarning: Liblinear failed to converge, increase the number of iterations.\n",
            "  warnings.warn(\n",
            "/usr/local/lib/python3.9/dist-packages/sklearn/svm/_base.py:1244: ConvergenceWarning: Liblinear failed to converge, increase the number of iterations.\n",
            "  warnings.warn(\n",
            "/usr/local/lib/python3.9/dist-packages/sklearn/svm/_base.py:1244: ConvergenceWarning: Liblinear failed to converge, increase the number of iterations.\n",
            "  warnings.warn(\n",
            "/usr/local/lib/python3.9/dist-packages/sklearn/svm/_base.py:1244: ConvergenceWarning: Liblinear failed to converge, increase the number of iterations.\n",
            "  warnings.warn(\n",
            "/usr/local/lib/python3.9/dist-packages/sklearn/svm/_base.py:1244: ConvergenceWarning: Liblinear failed to converge, increase the number of iterations.\n",
            "  warnings.warn(\n",
            "/usr/local/lib/python3.9/dist-packages/sklearn/svm/_base.py:1244: ConvergenceWarning: Liblinear failed to converge, increase the number of iterations.\n",
            "  warnings.warn(\n",
            "/usr/local/lib/python3.9/dist-packages/sklearn/svm/_base.py:1244: ConvergenceWarning: Liblinear failed to converge, increase the number of iterations.\n",
            "  warnings.warn(\n",
            "/usr/local/lib/python3.9/dist-packages/sklearn/svm/_base.py:1244: ConvergenceWarning: Liblinear failed to converge, increase the number of iterations.\n",
            "  warnings.warn(\n",
            "/usr/local/lib/python3.9/dist-packages/sklearn/svm/_base.py:1244: ConvergenceWarning: Liblinear failed to converge, increase the number of iterations.\n",
            "  warnings.warn(\n"
          ]
        }
      ]
    },
    {
      "cell_type": "code",
      "source": [
        "# KNN poging - PCA\n",
        "\n",
        "\n",
        "n = 50\n",
        "x_pca = pca_func(x_scaled,n)\n",
        "\n",
        "# Assume X_train, y_train are numpy arrays or pandas dataframes\n",
        "# Create a k-NN classifier object with k=5\n",
        "knn = KNeighborsClassifier(n_neighbors=9)\n",
        "\n",
        "# Use 5-fold cross-validation to evaluate the performance of the k-NN classifier on the training set\n",
        "scores = cross_val_score(knn, x_pca, y_gist, cv=100)\n",
        "\n",
        "# Print the cross-validation scores and their mean\n",
        "print(\"Accuracy: {:.2f}% (+/- {:.2f}%)\".format(scores.mean()*100, scores.std()*100))\n"
      ],
      "metadata": {
        "id": "jjfT4toUuRbu",
        "outputId": "2471708a-fe8b-4e2f-b010-3ba4bede6dcb",
        "colab": {
          "base_uri": "https://localhost:8080/"
        }
      },
      "execution_count": null,
      "outputs": [
        {
          "output_type": "stream",
          "name": "stderr",
          "text": [
            "/usr/local/lib/python3.9/dist-packages/sklearn/model_selection/_split.py:700: UserWarning: The least populated class in y has only 96 members, which is less than n_splits=100.\n",
            "  warnings.warn(\n"
          ]
        },
        {
          "output_type": "stream",
          "name": "stdout",
          "text": [
            "Accuracy: 49.00% (+/- 35.34%)\n"
          ]
        }
      ]
    },
    {
      "cell_type": "code",
      "source": [
        "# KNN poging - selectKBest\n",
        "\n",
        "k = 100\n",
        "x_kbest = kbest_func(x_scaled,k)\n",
        "\n",
        "# Assume X_train, y_train are numpy arrays or pandas dataframes\n",
        "# Create a k-NN classifier object with k=5\n",
        "knn = KNeighborsClassifier(n_neighbors=9)\n",
        "\n",
        "# Use 5-fold cross-validation to evaluate the performance of the k-NN classifier on the training set\n",
        "scores = cross_val_score(knn, x_kbest, y_gist, cv=100)\n",
        "\n",
        "# Print the cross-validation scores and their mean\n",
        "print(\"Accuracy: {:.2f}% (+/- {:.2f}%)\".format(scores.mean()*100, scores.std()*100))"
      ],
      "metadata": {
        "id": "aqx1AjZsTW3d",
        "outputId": "b263501b-6077-4506-bfb5-6dfc068ad633",
        "colab": {
          "base_uri": "https://localhost:8080/"
        }
      },
      "execution_count": null,
      "outputs": [
        {
          "output_type": "stream",
          "name": "stderr",
          "text": [
            "/usr/local/lib/python3.9/dist-packages/sklearn/feature_selection/_univariate_selection.py:112: UserWarning: Features [438 439 440 442 443 445 446] are constant.\n",
            "  warnings.warn(\"Features %s are constant.\" % constant_features_idx, UserWarning)\n",
            "/usr/local/lib/python3.9/dist-packages/sklearn/feature_selection/_univariate_selection.py:113: RuntimeWarning: invalid value encountered in true_divide\n",
            "  f = msb / msw\n",
            "/usr/local/lib/python3.9/dist-packages/sklearn/model_selection/_split.py:700: UserWarning: The least populated class in y has only 96 members, which is less than n_splits=100.\n",
            "  warnings.warn(\n"
          ]
        },
        {
          "output_type": "stream",
          "name": "stdout",
          "text": [
            "Accuracy: 62.50% (+/- 33.45%)\n"
          ]
        }
      ]
    },
    {
      "cell_type": "code",
      "source": [
        "# KNN poging - RFE\n",
        "\n",
        "k = 100\n",
        "x_rfe = rfe_func(x_scaled,k)\n",
        "\n",
        "# Assume X_train, y_train are numpy arrays or pandas dataframes\n",
        "# Create a k-NN classifier object with k=5\n",
        "knn = KNeighborsClassifier(n_neighbors=9)\n",
        "\n",
        "# Use 5-fold cross-validation to evaluate the performance of the k-NN classifier on the training set\n",
        "scores = cross_val_score(knn, x_rfe, y_gist, cv=100)\n",
        "\n",
        "# Print the cross-validation scores and their mean\n",
        "print(\"Accuracy: {:.2f}% (+/- {:.2f}%)\".format(scores.mean()*100, scores.std()*100))"
      ],
      "metadata": {
        "id": "5VXKQLHwo0Sc",
        "outputId": "a029adea-213d-48e3-874b-417135484f5f",
        "colab": {
          "base_uri": "https://localhost:8080/"
        }
      },
      "execution_count": null,
      "outputs": [
        {
          "output_type": "stream",
          "name": "stdout",
          "text": [
            "Accuracy: 54.50% (+/- 35.42%)\n"
          ]
        },
        {
          "output_type": "stream",
          "name": "stderr",
          "text": [
            "/usr/local/lib/python3.9/dist-packages/sklearn/model_selection/_split.py:700: UserWarning: The least populated class in y has only 96 members, which is less than n_splits=100.\n",
            "  warnings.warn(\n"
          ]
        }
      ]
    },
    {
      "cell_type": "code",
      "source": [
        "# KNN poging - lasso\n",
        "\n",
        "k = 0.099\n",
        "x_lasso = lasso_func(x_scaled, k)\n",
        "\n",
        "# Assume X_train, y_train are numpy arrays or pandas dataframes\n",
        "# Create a k-NN classifier object with k=5\n",
        "knn = KNeighborsClassifier(n_neighbors=9)\n",
        "\n",
        "# Use 5-fold cross-validation to evaluate the performance of the k-NN classifier on the training set\n",
        "scores = cross_val_score(knn, x_lasso, y_gist, cv=100)\n",
        "\n",
        "# Print the cross-validation scores and their mean\n",
        "print(\"Accuracy: {:.2f}% (+/- {:.2f}%)\".format(scores.mean()*100, scores.std()*100))"
      ],
      "metadata": {
        "id": "UurZYnzVq89W",
        "outputId": "8bba9c8a-ecb6-4b1d-a41c-f26c9ac9f19a",
        "colab": {
          "base_uri": "https://localhost:8080/"
        }
      },
      "execution_count": null,
      "outputs": [
        {
          "output_type": "stream",
          "name": "stderr",
          "text": [
            "/usr/local/lib/python3.9/dist-packages/sklearn/model_selection/_split.py:700: UserWarning: The least populated class in y has only 96 members, which is less than n_splits=100.\n",
            "  warnings.warn(\n"
          ]
        },
        {
          "output_type": "stream",
          "name": "stdout",
          "text": [
            "Accuracy: 60.50% (+/- 35.56%)\n"
          ]
        }
      ]
    },
    {
      "cell_type": "code",
      "source": [
        "# Non linear SVM - PCA\n",
        "\n",
        "n = 100\n",
        "x_pca = pca_func(x_scaled,n)\n",
        "\n",
        "# Train non-linear SVM with cross-validation\n",
        "clf = SVC(kernel='poly',degree=3, C=1.0)\n",
        "scores = cross_val_score(clf, x_pca, y_train, cv=100)\n",
        "\n",
        "# Print cross-validation scores\n",
        "print(\"Accuracy: {:.2f}% (+/- {:.2f}%)\".format(scores.mean()*100, scores.std()*100))\n"
      ],
      "metadata": {
        "id": "KuCb4wFaAyCd",
        "outputId": "8fd00c16-e29b-42a5-eecf-290189f74a34",
        "colab": {
          "base_uri": "https://localhost:8080/"
        }
      },
      "execution_count": null,
      "outputs": [
        {
          "output_type": "stream",
          "name": "stderr",
          "text": [
            "/usr/local/lib/python3.9/dist-packages/sklearn/model_selection/_split.py:700: UserWarning: The least populated class in y has only 96 members, which is less than n_splits=100.\n",
            "  warnings.warn(\n"
          ]
        },
        {
          "output_type": "stream",
          "name": "stdout",
          "text": [
            "Accuracy: 52.00% (+/- 12.08%)\n"
          ]
        }
      ]
    },
    {
      "cell_type": "code",
      "source": [
        "# Non linear SVM - SelectKBest\n",
        "\n",
        "k = 100\n",
        "x_kbest = kbest_func(x_scaled,k)\n",
        "\n",
        "# Train non-linear SVM with cross-validation\n",
        "clf = SVC(kernel='poly',degree=3, C=1.0)\n",
        "scores = cross_val_score(clf, x_kbest, y_train, cv=100)\n",
        "\n",
        "# Print cross-validation scores\n",
        "print(\"Accuracy: {:.2f}% (+/- {:.2f}%)\".format(scores.mean()*100, scores.std()*100))"
      ],
      "metadata": {
        "id": "awaeXO3lz7Jt",
        "outputId": "2beb1314-7e63-4c6e-f3aa-033ec4f25e04",
        "colab": {
          "base_uri": "https://localhost:8080/"
        }
      },
      "execution_count": null,
      "outputs": [
        {
          "output_type": "stream",
          "name": "stderr",
          "text": [
            "/usr/local/lib/python3.9/dist-packages/sklearn/feature_selection/_univariate_selection.py:112: UserWarning: Features [438 439 440 442 443 445 446] are constant.\n",
            "  warnings.warn(\"Features %s are constant.\" % constant_features_idx, UserWarning)\n",
            "/usr/local/lib/python3.9/dist-packages/sklearn/feature_selection/_univariate_selection.py:113: RuntimeWarning: invalid value encountered in true_divide\n",
            "  f = msb / msw\n",
            "/usr/local/lib/python3.9/dist-packages/sklearn/model_selection/_split.py:700: UserWarning: The least populated class in y has only 96 members, which is less than n_splits=100.\n",
            "  warnings.warn(\n"
          ]
        },
        {
          "output_type": "stream",
          "name": "stdout",
          "text": [
            "Accuracy: 54.00% (+/- 24.17%)\n"
          ]
        }
      ]
    },
    {
      "cell_type": "code",
      "source": [
        "# Non linear SVM - RFE\n",
        "\n",
        "k = 100\n",
        "x_rfe = rfe_func(x_scaled,k)\n",
        "\n",
        "# Train non-linear SVM with cross-validation\n",
        "clf = SVC(kernel='poly',degree=3, C=1.0)\n",
        "scores = cross_val_score(clf, x_rfe, y_train, cv=100)\n",
        "\n",
        "# Print cross-validation scores\n",
        "print(\"Accuracy: {:.2f}% (+/- {:.2f}%)\".format(scores.mean()*100, scores.std()*100))"
      ],
      "metadata": {
        "id": "PgWJfEmK0YEZ",
        "outputId": "83e4ead8-e884-480b-d0e8-a54543723eef",
        "colab": {
          "base_uri": "https://localhost:8080/"
        }
      },
      "execution_count": null,
      "outputs": [
        {
          "output_type": "stream",
          "name": "stderr",
          "text": [
            "/usr/local/lib/python3.9/dist-packages/sklearn/model_selection/_split.py:700: UserWarning: The least populated class in y has only 96 members, which is less than n_splits=100.\n",
            "  warnings.warn(\n"
          ]
        },
        {
          "output_type": "stream",
          "name": "stdout",
          "text": [
            "Accuracy: 50.50% (+/- 26.92%)\n"
          ]
        }
      ]
    },
    {
      "cell_type": "code",
      "source": [
        "# Non linear SVM - Lasso\n",
        "\n",
        "k = 0.01\n",
        "x_lasso = lasso_func(x_scaled,k)\n",
        "\n",
        "# Train non-linear SVM with cross-validation\n",
        "clf = SVC(kernel='poly',degree=3, C=1.0)\n",
        "scores = cross_val_score(clf, x_lasso, y_train, cv=100)\n",
        "\n",
        "# Print cross-validation scores\n",
        "print(\"Accuracy: {:.2f}% (+/- {:.2f}%)\".format(scores.mean()*100, scores.std()*100))"
      ],
      "metadata": {
        "id": "5AhsUsRm1JX2",
        "outputId": "6712e579-80bb-48af-d588-d75317e75520",
        "colab": {
          "base_uri": "https://localhost:8080/"
        }
      },
      "execution_count": null,
      "outputs": [
        {
          "output_type": "stream",
          "name": "stderr",
          "text": [
            "/usr/local/lib/python3.9/dist-packages/sklearn/linear_model/_coordinate_descent.py:631: ConvergenceWarning: Objective did not converge. You might want to increase the number of iterations, check the scale of the features or consider increasing regularisation. Duality gap: 1.166e+01, tolerance: 4.898e-03\n",
            "  model = cd_fast.enet_coordinate_descent(\n",
            "/usr/local/lib/python3.9/dist-packages/sklearn/model_selection/_split.py:700: UserWarning: The least populated class in y has only 96 members, which is less than n_splits=100.\n",
            "  warnings.warn(\n"
          ]
        },
        {
          "output_type": "stream",
          "name": "stdout",
          "text": [
            "Accuracy: 52.00% (+/- 12.08%)\n"
          ]
        }
      ]
    },
    {
      "cell_type": "code",
      "source": [
        "# RandomForest ensemble with cross_val - selectKBest\n",
        "\n",
        "k = 100\n",
        "x_kbest = kbest_func(x_scaled,k)\n",
        "\n",
        "params = {'n_estimators': [1, 2, 5, 10, 20, 30, 40, 50, 100]}\n",
        "\n",
        "# Run grid search with 50 fold cross validation on forest classifier\n",
        "grid = GridSearchCV(estimator=RandomForestClassifier(), param_grid=params, cv=50)\n",
        "grid = grid.fit(x_kbest, y_train)\n",
        "\n",
        "print(grid.cv_results_)\n",
        "print(grid.best_estimator_)\n",
        "print(grid.best_score_)\n",
        "print(grid.best_params_)"
      ],
      "metadata": {
        "id": "qoVQZQ1b4GLS",
        "outputId": "9e869629-3988-4c6d-ed7a-30903fadee48",
        "colab": {
          "base_uri": "https://localhost:8080/"
        }
      },
      "execution_count": null,
      "outputs": [
        {
          "output_type": "stream",
          "name": "stderr",
          "text": [
            "/usr/local/lib/python3.9/dist-packages/sklearn/feature_selection/_univariate_selection.py:112: UserWarning: Features [438 439 440 442 443 445 446] are constant.\n",
            "  warnings.warn(\"Features %s are constant.\" % constant_features_idx, UserWarning)\n",
            "/usr/local/lib/python3.9/dist-packages/sklearn/feature_selection/_univariate_selection.py:113: RuntimeWarning: invalid value encountered in true_divide\n",
            "  f = msb / msw\n"
          ]
        },
        {
          "output_type": "stream",
          "name": "stdout",
          "text": [
            "{'mean_fit_time': array([0.00449647, 0.01265924, 0.01723376, 0.03312448, 0.08083714,\n",
            "       0.10565093, 0.14223605, 0.17641996, 0.3683897 ]), 'std_fit_time': array([0.0009935 , 0.01887318, 0.00199817, 0.01848286, 0.03857714,\n",
            "       0.04329638, 0.05361467, 0.06923531, 0.09955663]), 'mean_score_time': array([0.00144831, 0.00225281, 0.00233435, 0.00295966, 0.00501493,\n",
            "       0.00564054, 0.00697974, 0.0084774 , 0.01602794]), 'std_score_time': array([0.00036815, 0.00095295, 0.00055714, 0.00081899, 0.00203481,\n",
            "       0.00171291, 0.00241249, 0.00346962, 0.00701179]), 'param_n_estimators': masked_array(data=[1, 2, 5, 10, 20, 30, 40, 50, 100],\n",
            "             mask=[False, False, False, False, False, False, False, False,\n",
            "                   False],\n",
            "       fill_value='?',\n",
            "            dtype=object), 'params': [{'n_estimators': 1}, {'n_estimators': 2}, {'n_estimators': 5}, {'n_estimators': 10}, {'n_estimators': 20}, {'n_estimators': 30}, {'n_estimators': 40}, {'n_estimators': 50}, {'n_estimators': 100}], 'split0_test_score': array([0.  , 0.5 , 0.5 , 0.5 , 0.5 , 0.75, 0.75, 0.5 , 0.75]), 'split1_test_score': array([0.5 , 0.25, 0.5 , 0.5 , 0.25, 0.25, 0.25, 0.25, 0.25]), 'split2_test_score': array([0.  , 0.25, 0.5 , 0.5 , 0.25, 0.5 , 0.5 , 0.5 , 0.5 ]), 'split3_test_score': array([0.25, 0.5 , 0.5 , 1.  , 0.75, 0.5 , 0.5 , 0.5 , 0.5 ]), 'split4_test_score': array([0.25, 0.25, 0.5 , 0.5 , 0.75, 0.5 , 0.75, 0.75, 0.75]), 'split5_test_score': array([0.75, 0.75, 0.25, 0.75, 0.75, 0.5 , 0.5 , 0.5 , 0.5 ]), 'split6_test_score': array([0.5 , 0.5 , 0.5 , 0.5 , 0.5 , 0.75, 0.5 , 0.5 , 0.75]), 'split7_test_score': array([0.75, 0.5 , 1.  , 0.25, 0.5 , 0.5 , 0.75, 0.75, 0.5 ]), 'split8_test_score': array([1.  , 0.25, 0.75, 1.  , 1.  , 1.  , 1.  , 1.  , 1.  ]), 'split9_test_score': array([0.75, 0.25, 0.5 , 0.75, 0.5 , 0.5 , 0.5 , 0.5 , 0.5 ]), 'split10_test_score': array([0.75, 0.5 , 1.  , 1.  , 0.75, 1.  , 1.  , 1.  , 1.  ]), 'split11_test_score': array([0.75, 0.75, 0.75, 0.75, 0.75, 0.75, 0.75, 0.75, 0.75]), 'split12_test_score': array([0.5 , 0.25, 0.75, 0.5 , 0.75, 0.25, 0.5 , 0.75, 0.75]), 'split13_test_score': array([0.5 , 0.75, 0.5 , 0.5 , 0.75, 0.75, 0.5 , 0.75, 0.75]), 'split14_test_score': array([0.5 , 0.5 , 1.  , 0.5 , 1.  , 0.5 , 0.5 , 0.5 , 0.75]), 'split15_test_score': array([0.75, 0.5 , 0.75, 0.75, 0.75, 0.75, 0.75, 0.75, 0.75]), 'split16_test_score': array([0.5 , 0.5 , 0.5 , 0.5 , 0.75, 0.5 , 1.  , 1.  , 1.  ]), 'split17_test_score': array([0.5 , 0.25, 0.25, 0.75, 0.75, 0.25, 0.75, 0.5 , 0.5 ]), 'split18_test_score': array([0.25, 0.75, 0.75, 0.75, 0.5 , 0.75, 0.75, 0.75, 0.75]), 'split19_test_score': array([0.5 , 0.5 , 0.75, 0.5 , 1.  , 0.5 , 1.  , 0.5 , 1.  ]), 'split20_test_score': array([0.75, 0.5 , 0.25, 0.75, 1.  , 0.75, 0.75, 1.  , 0.75]), 'split21_test_score': array([0.5 , 0.5 , 1.  , 0.75, 0.75, 0.5 , 0.75, 0.5 , 0.5 ]), 'split22_test_score': array([0.75, 0.  , 0.5 , 0.5 , 0.75, 0.5 , 0.75, 0.75, 0.5 ]), 'split23_test_score': array([0.25, 1.  , 0.75, 0.5 , 0.75, 0.5 , 0.5 , 0.5 , 0.5 ]), 'split24_test_score': array([0.75, 0.  , 0.5 , 0.75, 0.75, 0.5 , 0.75, 0.75, 0.75]), 'split25_test_score': array([0.75, 0.5 , 0.75, 1.  , 0.5 , 0.75, 0.5 , 0.75, 0.75]), 'split26_test_score': array([0.5 , 0.5 , 0.5 , 0.5 , 0.75, 0.5 , 0.25, 0.5 , 0.5 ]), 'split27_test_score': array([0.5 , 0.5 , 0.25, 0.  , 0.5 , 0.5 , 0.5 , 0.  , 0.  ]), 'split28_test_score': array([0.75, 0.75, 0.75, 0.75, 0.5 , 1.  , 1.  , 1.  , 1.  ]), 'split29_test_score': array([0.25, 0.  , 0.75, 0.5 , 0.5 , 0.25, 0.25, 0.25, 0.25]), 'split30_test_score': array([0.75, 0.75, 0.25, 0.75, 0.25, 0.5 , 0.5 , 0.5 , 0.5 ]), 'split31_test_score': array([0.5 , 0.5 , 0.75, 0.5 , 0.25, 0.5 , 0.5 , 0.5 , 0.5 ]), 'split32_test_score': array([0.5 , 0.5 , 0.25, 0.5 , 0.75, 0.5 , 0.75, 0.75, 0.75]), 'split33_test_score': array([0.75, 0.5 , 0.25, 0.5 , 0.5 , 0.5 , 0.5 , 0.5 , 0.5 ]), 'split34_test_score': array([0.25, 0.75, 1.  , 0.5 , 0.5 , 0.75, 0.75, 0.5 , 0.5 ]), 'split35_test_score': array([0.75, 0.75, 0.5 , 0.75, 0.25, 0.75, 0.5 , 0.75, 0.5 ]), 'split36_test_score': array([0.5 , 0.75, 0.75, 0.75, 0.25, 0.75, 0.75, 1.  , 0.75]), 'split37_test_score': array([0.25, 0.25, 0.25, 0.25, 0.5 , 0.  , 0.5 , 0.25, 0.5 ]), 'split38_test_score': array([0.25, 0.5 , 0.75, 0.5 , 0.75, 0.75, 0.75, 0.75, 0.75]), 'split39_test_score': array([0.5 , 0.5 , 0.5 , 0.5 , 0.5 , 0.5 , 0.5 , 0.25, 0.25]), 'split40_test_score': array([0.25, 0.5 , 0.75, 0.25, 0.75, 0.5 , 0.5 , 0.75, 0.75]), 'split41_test_score': array([0.5 , 0.25, 0.  , 0.5 , 0.5 , 0.5 , 0.5 , 0.75, 0.5 ]), 'split42_test_score': array([0.5 , 0.5 , 0.25, 1.  , 0.5 , 0.75, 0.5 , 0.75, 0.5 ]), 'split43_test_score': array([0.75, 1.  , 1.  , 0.75, 0.75, 0.75, 0.75, 1.  , 1.  ]), 'split44_test_score': array([0.5 , 0.5 , 0.5 , 0.25, 0.75, 0.5 , 0.5 , 0.75, 0.5 ]), 'split45_test_score': array([0.75, 0.  , 0.5 , 0.5 , 0.75, 0.5 , 1.  , 1.  , 1.  ]), 'split46_test_score': array([0.33333333, 1.        , 0.66666667, 0.        , 0.33333333,\n",
            "       0.66666667, 0.66666667, 0.66666667, 0.66666667]), 'split47_test_score': array([0.33333333, 1.        , 1.        , 1.        , 1.        ,\n",
            "       1.        , 1.        , 1.        , 1.        ]), 'split48_test_score': array([0.33333333, 1.        , 0.66666667, 0.33333333, 0.33333333,\n",
            "       0.66666667, 0.33333333, 0.33333333, 0.66666667]), 'split49_test_score': array([0.66666667, 0.66666667, 0.33333333, 0.66666667, 0.33333333,\n",
            "       0.66666667, 0.66666667, 1.        , 0.66666667]), 'mean_test_score': array([0.51833333, 0.51333333, 0.58833333, 0.59      , 0.615     ,\n",
            "       0.59      , 0.63833333, 0.655     , 0.645     ]), 'std_test_score': array([0.21939943, 0.26053364, 0.25022767, 0.23560796, 0.21723643,\n",
            "       0.20264912, 0.20317617, 0.2415287 , 0.22224236]), 'rank_test_score': array([8, 9, 7, 5, 4, 5, 3, 1, 2], dtype=int32)}\n",
            "RandomForestClassifier(n_estimators=50)\n",
            "0.655\n",
            "{'n_estimators': 50}\n"
          ]
        }
      ]
    },
    {
      "cell_type": "code",
      "source": [
        "# Random forest ensemble with bagging - SelectKBest\n",
        "\n",
        "k = 100\n",
        "x_kbest = kbest_func(x_scaled,k)\n",
        "\n",
        "# Assume X_train, y_train are numpy arrays or pandas dataframes\n",
        "\n",
        "# Create a Random Forest classifier object with n=100 as the base estimator\n",
        "base_estimator = RandomForestClassifier(n_estimators=100)\n",
        "\n",
        "# Create a BaggingClassifier with the Random Forest classifier as the base estimator\n",
        "bagging_classifier = BaggingClassifier(estimator=base_estimator)  # Use \"estimator\" instead of \"base_estimator\"\n",
        "\n",
        "# Use 5-fold cross-validation to evaluate the performance of the BaggingClassifier on the training set\n",
        "scores = cross_val_score(bagging_classifier, x_kbest, y_train, cv=5)\n",
        "\n",
        "# Print the cross-validation scores and their mean\n",
        "print(\"Accuracy: {:.2f}% (+/- {:.2f}%)\".format(scores.mean()*100, scores.std()*100))\n",
        "\n",
        "# Perform GridSearchCV with BaggingClassifier\n",
        "params = {'estimator__n_estimators': [1, 2, 5, 10, 20, 30, 40, 50, 100]} # Use \"estimator\" instead of \"base_estimator\"\n",
        "cv = StratifiedKFold(n_splits=50) # Use StratifiedKFold for cross-validation\n",
        "grid = GridSearchCV(estimator=bagging_classifier, param_grid=params, cv=cv)\n",
        "grid.fit(x_kbest, y_train)\n",
        "\n",
        "# Print the results of grid search\n",
        "print(grid.cv_results_)\n",
        "print(grid.best_estimator_)\n",
        "print(grid.best_score_)\n",
        "print(grid.best_params_)\n"
      ],
      "metadata": {
        "id": "gr-joBU2PtV6",
        "outputId": "d2fabee8-ba16-454e-f1fc-51d934b3629a",
        "colab": {
          "base_uri": "https://localhost:8080/"
        }
      },
      "execution_count": null,
      "outputs": [
        {
          "output_type": "stream",
          "name": "stderr",
          "text": [
            "/usr/local/lib/python3.9/dist-packages/sklearn/feature_selection/_univariate_selection.py:112: UserWarning: Features [438 439 440 442 443 445 446] are constant.\n",
            "  warnings.warn(\"Features %s are constant.\" % constant_features_idx, UserWarning)\n",
            "/usr/local/lib/python3.9/dist-packages/sklearn/feature_selection/_univariate_selection.py:113: RuntimeWarning: invalid value encountered in true_divide\n",
            "  f = msb / msw\n"
          ]
        },
        {
          "output_type": "stream",
          "name": "stdout",
          "text": [
            "Accuracy: 63.29% (+/- 3.83%)\n",
            "{'mean_fit_time': array([0.08372828, 0.10755827, 0.20723818, 0.34455941, 0.61535769,\n",
            "       0.90343663, 1.16901668, 1.45103061, 2.85811377]), 'std_fit_time': array([0.04444257, 0.05575245, 0.07298648, 0.09519851, 0.1278764 ,\n",
            "       0.16299718, 0.18705745, 0.20094067, 0.33488913]), 'mean_score_time': array([0.01018068, 0.00928073, 0.01600325, 0.02204756, 0.03301045,\n",
            "       0.04808423, 0.06043792, 0.07207747, 0.13142357]), 'std_score_time': array([0.007563  , 0.00200488, 0.00716144, 0.00809538, 0.00871452,\n",
            "       0.01563833, 0.0165141 , 0.01702812, 0.0282536 ]), 'param_estimator__n_estimators': masked_array(data=[1, 2, 5, 10, 20, 30, 40, 50, 100],\n",
            "             mask=[False, False, False, False, False, False, False, False,\n",
            "                   False],\n",
            "       fill_value='?',\n",
            "            dtype=object), 'params': [{'estimator__n_estimators': 1}, {'estimator__n_estimators': 2}, {'estimator__n_estimators': 5}, {'estimator__n_estimators': 10}, {'estimator__n_estimators': 20}, {'estimator__n_estimators': 30}, {'estimator__n_estimators': 40}, {'estimator__n_estimators': 50}, {'estimator__n_estimators': 100}], 'split0_test_score': array([0.  , 0.75, 0.75, 0.5 , 0.75, 0.75, 0.75, 0.75, 0.75]), 'split1_test_score': array([0.5 , 0.5 , 0.25, 0.25, 0.25, 0.25, 0.25, 0.25, 0.25]), 'split2_test_score': array([0.5 , 0.75, 0.25, 0.5 , 0.5 , 0.5 , 0.75, 0.5 , 0.5 ]), 'split3_test_score': array([0.25, 0.75, 0.5 , 0.5 , 0.5 , 0.5 , 0.5 , 0.5 , 0.5 ]), 'split4_test_score': array([0.5 , 0.75, 0.75, 0.75, 0.75, 0.75, 0.75, 0.75, 0.75]), 'split5_test_score': array([0.5 , 0.25, 0.5 , 1.  , 0.5 , 0.25, 0.5 , 0.5 , 0.5 ]), 'split6_test_score': array([0.5 , 0.75, 0.75, 0.75, 0.25, 0.75, 0.5 , 0.5 , 0.5 ]), 'split7_test_score': array([0.75, 0.5 , 0.5 , 0.5 , 0.5 , 0.5 , 0.5 , 0.5 , 0.5 ]), 'split8_test_score': array([1.  , 1.  , 1.  , 1.  , 1.  , 1.  , 0.75, 1.  , 1.  ]), 'split9_test_score': array([0.5, 0.5, 0.5, 0.5, 0.5, 0.5, 0.5, 0.5, 0.5]), 'split10_test_score': array([1.  , 0.75, 1.  , 1.  , 1.  , 1.  , 1.  , 1.  , 1.  ]), 'split11_test_score': array([0.5 , 0.75, 0.75, 0.75, 0.75, 0.75, 0.75, 0.75, 0.75]), 'split12_test_score': array([0.75, 0.25, 0.5 , 0.5 , 0.75, 0.75, 0.75, 0.5 , 0.5 ]), 'split13_test_score': array([0.5 , 0.5 , 0.75, 0.75, 0.75, 0.75, 0.75, 0.75, 0.75]), 'split14_test_score': array([1.  , 1.  , 0.75, 1.  , 0.75, 0.5 , 0.75, 0.75, 0.75]), 'split15_test_score': array([0.5 , 1.  , 0.75, 0.75, 0.75, 0.75, 0.75, 0.75, 0.75]), 'split16_test_score': array([0.75, 0.75, 1.  , 1.  , 1.  , 1.  , 1.  , 1.  , 1.  ]), 'split17_test_score': array([0.5 , 0.5 , 0.25, 0.5 , 0.5 , 0.25, 0.5 , 0.25, 0.5 ]), 'split18_test_score': array([0.5 , 0.75, 0.75, 0.5 , 0.75, 0.75, 0.75, 0.75, 0.75]), 'split19_test_score': array([0.25, 0.5 , 0.5 , 0.5 , 0.75, 1.  , 0.5 , 0.75, 0.75]), 'split20_test_score': array([0.75, 0.75, 0.75, 1.  , 1.  , 0.75, 0.75, 0.75, 0.75]), 'split21_test_score': array([0.25, 0.75, 0.5 , 0.5 , 0.75, 0.5 , 0.75, 0.5 , 0.75]), 'split22_test_score': array([0.5 , 0.5 , 0.5 , 0.5 , 0.25, 0.25, 0.5 , 0.25, 0.5 ]), 'split23_test_score': array([0.75, 0.5 , 0.75, 0.5 , 0.5 , 0.5 , 0.5 , 0.5 , 0.75]), 'split24_test_score': array([0.75, 0.75, 0.75, 0.75, 0.75, 0.5 , 0.75, 0.75, 0.75]), 'split25_test_score': array([0.75, 0.75, 0.75, 0.75, 0.75, 0.75, 0.75, 0.75, 0.75]), 'split26_test_score': array([0.75, 0.5 , 0.75, 0.5 , 0.5 , 0.5 , 0.75, 0.5 , 0.5 ]), 'split27_test_score': array([0.25, 0.5 , 0.5 , 0.25, 0.5 , 0.  , 0.25, 0.25, 0.5 ]), 'split28_test_score': array([0.75, 0.75, 0.75, 0.75, 1.  , 0.75, 1.  , 1.  , 1.  ]), 'split29_test_score': array([1.  , 0.5 , 0.75, 0.5 , 0.25, 0.5 , 0.25, 0.5 , 0.5 ]), 'split30_test_score': array([0.75, 0.25, 0.5 , 0.25, 0.5 , 0.5 , 0.5 , 0.5 , 0.5 ]), 'split31_test_score': array([0.5 , 0.75, 0.5 , 0.5 , 0.5 , 0.5 , 0.5 , 0.5 , 0.5 ]), 'split32_test_score': array([0.75, 0.5 , 0.75, 0.75, 0.25, 1.  , 0.75, 1.  , 0.75]), 'split33_test_score': array([0.5, 0.5, 0.5, 0.5, 0.5, 0.5, 0.5, 0.5, 0.5]), 'split34_test_score': array([0.75, 0.75, 0.75, 0.75, 0.75, 0.5 , 0.5 , 0.75, 0.75]), 'split35_test_score': array([0.25, 0.75, 0.5 , 0.75, 0.5 , 0.5 , 0.5 , 0.5 , 0.75]), 'split36_test_score': array([1.  , 1.  , 0.5 , 0.75, 0.75, 0.75, 0.75, 0.75, 0.75]), 'split37_test_score': array([0.5 , 0.5 , 0.  , 0.  , 0.25, 0.5 , 0.5 , 0.5 , 0.5 ]), 'split38_test_score': array([0.75, 0.75, 0.75, 0.75, 0.75, 0.75, 0.75, 0.75, 0.75]), 'split39_test_score': array([0.75, 0.25, 0.25, 0.25, 0.25, 0.25, 0.25, 0.25, 0.25]), 'split40_test_score': array([0.75, 0.75, 0.75, 0.75, 0.75, 0.75, 0.75, 0.75, 0.75]), 'split41_test_score': array([0.5 , 0.75, 0.5 , 0.5 , 0.5 , 0.5 , 0.5 , 0.5 , 0.5 ]), 'split42_test_score': array([0.5 , 0.75, 0.75, 0.75, 0.75, 0.75, 0.75, 0.75, 0.75]), 'split43_test_score': array([0.25, 1.  , 0.75, 0.75, 1.  , 0.75, 1.  , 0.75, 1.  ]), 'split44_test_score': array([0.75, 1.  , 0.5 , 0.5 , 0.5 , 0.75, 0.75, 0.75, 0.75]), 'split45_test_score': array([0.75, 0.75, 1.  , 0.75, 0.75, 0.5 , 0.75, 0.75, 0.75]), 'split46_test_score': array([0.66666667, 1.        , 0.33333333, 0.66666667, 0.66666667,\n",
            "       0.66666667, 0.66666667, 0.66666667, 0.66666667]), 'split47_test_score': array([1., 1., 1., 1., 1., 1., 1., 1., 1.]), 'split48_test_score': array([0.66666667, 0.33333333, 0.66666667, 0.66666667, 0.33333333,\n",
            "       0.66666667, 0.33333333, 0.66666667, 0.66666667]), 'split49_test_score': array([1.        , 0.66666667, 0.66666667, 0.66666667, 1.        ,\n",
            "       1.        , 0.66666667, 0.66666667, 1.        ]), 'mean_test_score': array([0.62166667, 0.67      , 0.62833333, 0.635     , 0.635     ,\n",
            "       0.62666667, 0.64333333, 0.64      , 0.67666667]), 'std_test_score': array([0.23464512, 0.21145002, 0.21551618, 0.22291628, 0.23267168,\n",
            "       0.22927422, 0.19652537, 0.2051016 , 0.18681542]), 'rank_test_score': array([9, 2, 7, 5, 6, 8, 3, 4, 1], dtype=int32)}\n",
            "BaggingClassifier(estimator=RandomForestClassifier())\n",
            "0.6766666666666665\n",
            "{'estimator__n_estimators': 100}\n"
          ]
        }
      ]
    },
    {
      "cell_type": "code",
      "source": [
        "# Non linear SVM with KNN - SelectKBest (cross_val)\n",
        "\n",
        "# SelectKBest feature selection\n",
        "k = 100\n",
        "x_kbest = kbest_func(x_scaled, k)\n",
        "\n",
        "# Train non-linear SVM with cross-validation\n",
        "svm = SVC(kernel='poly', degree=3, C=1.0)\n",
        "svm_scores = cross_val_score(svm, x_kbest, y_train, cv=100)\n",
        "\n",
        "# Train KNN with cross-validation\n",
        "knn = KNeighborsClassifier(n_neighbors=9)\n",
        "knn_scores = cross_val_score(knn, x_kbest, y_gist, cv=100)\n",
        "\n",
        "# Ensemble by averaging the scores\n",
        "ensemble_scores = (svm_scores + knn_scores) / 2\n",
        "\n",
        "# Print the cross-validation scores and their mean for SVM, KNN, and the ensemble\n",
        "print(\"SVM Accuracy: {:.2f}% (+/- {:.2f}%)\".format(svm_scores.mean()*100, svm_scores.std()*100))\n",
        "print(\"KNN Accuracy: {:.2f}% (+/- {:.2f}%)\".format(knn_scores.mean()*100, knn_scores.std()*100))\n",
        "print(\"Ensemble Accuracy: {:.2f}% (+/- {:.2f}%)\".format(ensemble_scores.mean()*100, ensemble_scores.std()*100))"
      ],
      "metadata": {
        "id": "JKhHnoCmUV4w",
        "outputId": "aef1423d-74d0-40a4-df48-884cf93ee72d",
        "colab": {
          "base_uri": "https://localhost:8080/"
        }
      },
      "execution_count": null,
      "outputs": [
        {
          "output_type": "stream",
          "name": "stdout",
          "text": [
            "SVM Accuracy: 54.00% (+/- 24.17%)\n",
            "KNN Accuracy: 62.50% (+/- 33.45%)\n",
            "Ensemble Accuracy: 58.25% (+/- 24.76%)\n"
          ]
        }
      ]
    },
    {
      "cell_type": "code",
      "source": [
        "# non-linear SVM and KNN - SelectKbest with bagging\n",
        "\n",
        "# SelectKBest feature selection\n",
        "k = 100\n",
        "x_kbest = kbest_func(x_scaled, k)\n",
        "\n",
        "# Train non-linear SVM with cross-validation\n",
        "svm = SVC(kernel='poly', degree=3, C=1.0)\n",
        "# Train KNN with cross-validation\n",
        "knn = KNeighborsClassifier(n_neighbors=9)\n",
        "\n",
        "# Create an ensemble of SVM and KNN classifiers using bagging\n",
        "ensemble_svm = BaggingClassifier(base_estimator=svm, n_estimators=10, random_state=42)\n",
        "ensemble_knn = BaggingClassifier(base_estimator=knn, n_estimators=10, random_state=42)\n",
        "\n",
        "# Compute cross-validation scores for the ensemble classifiers with 5-fold cross-validation\n",
        "svm_scores = cross_val_score(ensemble_svm, x_kbest, y_train, cv=5)\n",
        "knn_scores = cross_val_score(ensemble_knn, x_kbest, y_gist, cv=5)\n",
        "\n",
        "# Ensemble by averaging the scores\n",
        "ensemble_scores_averaging = (svm_scores + knn_scores) / 2\n",
        "\n",
        "# Create an ensemble with voting\n",
        "ensemble_voting = VotingClassifier(estimators=[('svm', ensemble_svm), ('knn', ensemble_knn)], voting='hard')\n",
        "\n",
        "# Compute cross-validation scores for the ensemble classifiers with 5-fold cross-validation\n",
        "ensemble_scores_voting = cross_val_score(ensemble_voting, x_kbest, y_train, cv=5)\n",
        "\n",
        "# Print the cross-validation scores and their mean for SVM, KNN, and the ensemble averaging\n",
        "print(\"SVM Accuracy: {:.2f}% (+/- {:.2f}%)\".format(svm_scores.mean()*100, svm_scores.std()*100))\n",
        "print(\"KNN Accuracy: {:.2f}% (+/- {:.2f}%)\".format(knn_scores.mean()*100, knn_scores.std()*100))\n",
        "print(\"Ensemble Accuracy averaging: {:.2f}% (+/- {:.2f}%)\".format(ensemble_scores_averaging.mean()*100, ensemble_scores_averaging.std()*100))\n",
        "\n",
        "# Print the cross-validation scores and their mean for the ensemble voting \n",
        "print(\"Ensemble Accuracy voting: {:.2f}% (+/- {:.2f}%)\".format(ensemble_scores_voting.mean()*100, ensemble_scores_voting.std()*100))\n"
      ],
      "metadata": {
        "id": "ALXy9OFWVziS",
        "outputId": "b61e0bcd-9d7e-40b2-e587-7a7ff1a90377",
        "colab": {
          "base_uri": "https://localhost:8080/"
        }
      },
      "execution_count": null,
      "outputs": [
        {
          "output_type": "stream",
          "name": "stdout",
          "text": [
            "SVM Accuracy: 54.09% (+/- 3.48%)\n",
            "KNN Accuracy: 62.77% (+/- 6.09%)\n",
            "Ensemble Accuracy averaging: 58.43% (+/- 4.20%)\n",
            "Ensemble Accuracy voting: 63.29% (+/- 8.20%)\n"
          ]
        }
      ]
    },
    {
      "cell_type": "code",
      "source": [
        "\n",
        "\n",
        "# SelectKBest feature selection\n",
        "k = 100\n",
        "x_kbest = kbest_func(x_scaled, k)\n",
        "\n",
        "# Train non-linear SVM with cross-validation\n",
        "svm = SVC(kernel='poly', degree=3, C=1.0)\n",
        "# Train linear SVM with SelectKBest feature selection\n",
        "linear_svm = SelectKBest(k=k).fit_transform(x_scaled, y_train)\n",
        "linear_svm = LinearSVC()\n",
        "\n",
        "# Train KNN with cross-validation\n",
        "knn = KNeighborsClassifier(n_neighbors=9)\n",
        "\n",
        "# Create an ensemble of SVM, Linear SVM, and KNN classifiers using bagging\n",
        "ensemble_svm = BaggingClassifier(base_estimator=svm, n_estimators=10, random_state=42)\n",
        "ensemble_linear_svm = BaggingClassifier(base_estimator=linear_svm, n_estimators=10, random_state=42)\n",
        "ensemble_knn = BaggingClassifier(base_estimator=knn, n_estimators=10, random_state=42)\n",
        "\n",
        "# Compute cross-validation scores for the ensemble classifiers with 5-fold cross-validation\n",
        "svm_scores = cross_val_score(ensemble_svm, x_kbest, y_train, cv=5)\n",
        "linear_svm_scores = cross_val_score(ensemble_linear_svm, x_kbest, y_train, cv=5)\n",
        "knn_scores = cross_val_score(ensemble_knn, x_kbest, y_train, cv=5)\n",
        "\n",
        "# Create an ensemble with voting\n",
        "ensemble_voting = VotingClassifier(estimators=[('svm', ensemble_svm), ('linear_svm', ensemble_linear_svm), ('knn', ensemble_knn)], voting='hard')\n",
        "\n",
        "# Compute cross-validation scores for the ensemble classifiers with 5-fold cross-validation\n",
        "ensemble_scores_voting = cross_val_score(ensemble_voting, x_kbest, y_train, cv=5)\n",
        "\n",
        "# Print the cross-validation scores and their mean for SVM, Linear SVM, KNN, and the ensemble averaging\n",
        "print(\"SVM Accuracy: {:.2f}% (+/- {:.2f}%)\".format(svm_scores.mean()*100, svm_scores.std()*100))\n",
        "print(\"Linear SVM Accuracy: {:.2f}% (+/- {:.2f}%)\".format(linear_svm_scores.mean()*100, linear_svm_scores.std()*100))\n",
        "print(\"KNN Accuracy: {:.2f}% (+/- {:.2f}%)\".format(knn_scores.mean()*100, knn_scores.std()*100))\n",
        "print(\"Ensemble Accuracy averaging: {:.2f}% (+/- {:.2f}%)\".format(ensemble_scores_voting.mean()*100, ensemble_scores_voting.std()*100))"
      ],
      "metadata": {
        "id": "yMnD4fEmc4Sc",
        "outputId": "d6469d95-fa9d-4ac6-e9ac-b657bcb6d45b",
        "colab": {
          "base_uri": "https://localhost:8080/"
        }
      },
      "execution_count": null,
      "outputs": [
        {
          "output_type": "stream",
          "name": "stdout",
          "text": [
            "SVM Accuracy: 54.09% (+/- 3.48%)\n",
            "Linear SVM Accuracy: 57.63% (+/- 4.93%)\n",
            "KNN Accuracy: 63.79% (+/- 6.83%)\n",
            "Ensemble Accuracy averaging: 60.72% (+/- 5.94%)\n"
          ]
        }
      ]
    },
    {
      "cell_type": "code",
      "source": [],
      "metadata": {
        "id": "FzuuDqTT4pgv"
      },
      "execution_count": null,
      "outputs": []
    },
    {
      "cell_type": "code",
      "source": [
        "# Random forrest attempt Harmen\n",
        "\n",
        "# Create a random forest classifier\n",
        "rfc = RandomForestClassifier(n_estimators=100)\n",
        "\n",
        "# Fit the random forest classifier on the training data\n",
        "rfc.fit(x_scaled, y_train)\n",
        "\n",
        "# Evaluate the random forest classifier on the testing data\n",
        "scores = cross_val_score(rfc, x_scaled, y_train, cv=10)\n",
        "\n",
        "print(\"Accuracy: {:.2f}% (+/- {:.2f}%)\".format(scores.mean()*100, scores.std()*100))"
      ],
      "metadata": {
        "id": "9321wESSIajE",
        "outputId": "651c700c-edd0-4b56-9b96-1750520d9823",
        "colab": {
          "base_uri": "https://localhost:8080/"
        }
      },
      "execution_count": null,
      "outputs": [
        {
          "output_type": "stream",
          "name": "stdout",
          "text": [
            "Accuracy: 54.63% (+/- 5.34%)\n"
          ]
        }
      ]
    },
    {
      "cell_type": "code",
      "source": [
        "# Random forrest with grid search Harmen\n",
        "\n",
        "# Define the hyperparameter grid to search over\n",
        "param_grid = {\n",
        "    'max_depth': [5, 10, 15, 20, 50, None],\n",
        "    'min_samples_split': [2, 5, 10, 20, 50]\n",
        "}\n",
        "\n",
        "# Create a grid search object with the RandomForestClassifier and hyperparameter grid\n",
        "grid_search = GridSearchCV(RandomForestClassifier(n_estimators=100), param_grid, cv=5, n_jobs=-1)\n",
        "\n",
        "# Fit the grid search object to the training data\n",
        "grid_search.fit(x_scaled, y_train)\n",
        "\n",
        "# Print the best hyperparameters and the corresponding score on the validation set\n",
        "print(\"Best hyperparameters:\", grid_search.best_params_)\n",
        "print(\"Validation set score:\", grid_search.best_score_)"
      ],
      "metadata": {
        "id": "uiQhaDjsu3Hi",
        "outputId": "cec8ddf6-f3a5-4c86-fc83-8da0bf04cb01",
        "colab": {
          "base_uri": "https://localhost:8080/"
        }
      },
      "execution_count": null,
      "outputs": [
        {
          "output_type": "stream",
          "name": "stdout",
          "text": [
            "Best hyperparameters: {'max_depth': 50, 'min_samples_split': 2}\n",
            "Validation set score: 0.6278205128205128\n"
          ]
        }
      ]
    },
    {
      "cell_type": "code",
      "source": [
        "# #Evaluatie van het model uiteindelijk met outer cross validatie \n",
        "# from sklearn.model_selection import KFold \n",
        "# from sklearn.metrics import accuracy_score \n",
        "\n",
        "# #dit moet helemaal bovenaan de code \n",
        "# from sklearn.model_selection import train_test_split, KFold, GridSearchCV \n",
        "\n",
        "# y = data['label']\n",
        "# x = df2\n",
        "# # Define outer cross-validation\n",
        "# outer_cv = KFold(n_splits=5, shuffle=True, random_state=42)\n",
        "# outer_scores = []\n",
        "\n",
        "# for train_index, test_index in outer_cv.split(x):\n",
        "#     # Split data into outer training and test sets\n",
        "#     X_train_outer, X_test = x[train_index], x[test_index] # dit zorgt ervoor dat hij hem splitst in outer in een train en test set \n",
        "#     y_train_outer, y_test = y[train_index], y[test_index]\n",
        "\n",
        "#     # Define inner cross-validation\n",
        "#     inner_cv = KFold(n_splits=5, shuffle=True, random_state=42)\n",
        "#     inner_scores = []\n",
        "\n",
        "#     for inner_train_index, inner_test_index in inner_cv.split(X_train_outer):\n",
        "#         # Split data into inner training and validation sets      --> hier moet de code komen die we al hebben met de juiste classifier --> kunnen het makkelijk maken door hier gewoon de nieuwe classifier in te plakkken, wel beetje omslachtig maar wel t makkelijkste \n",
        "#         X_train_inner, X_val = X_train_outer[inner_train_index], X_train_outer[inner_test_index]\n",
        "#         y_train_inner, y_val = y_train_outer[inner_train_index], y_train_outer[inner_test_index]\n",
        "\n",
        "#         # Split inner training set into training and validation sets\n",
        "#         X_train, X_test_inner, y_train, y_test_inner = train_test_split(X_train_inner, y_train_inner, test_size=0.2, random_state=42)\n",
        "\n",
        "# # hier komt ons model + scaling en feature selectie \n",
        "       \n",
        "#        #LET OP HIER MOET DE JUISTE SCALING WORDEN AANGEPAST \n",
        "#         # scale the non-normalized data\n",
        "#         scaler = preprocessing.RobustScaler()\n",
        "#         scaler.fit(non_normalized)\n",
        "#         non_normalized = pd.DataFrame(scaler.transform(non_normalized))\n",
        "#         # combine the normalized and non-normalized data\n",
        "#         x_scaled = pd.concat([non_normalized, normalized], axis=1)\n",
        "\n",
        "#       #HIER MOET DE CODE KOMEN DIE UITEINDELIJK GEKOZEN IS VOOR DE CLASSIFIER \n",
        "#         # Evaluate model on inner validation set\n",
        "#         inner_score = grid_search.score(X_val, y_val)\n",
        "#         inner_scores.append(inner_score)\n",
        "\n",
        "#     # Train model on outer training set with best hyperparameters\n",
        "#     best_params = grid_search.best_params_\n",
        "#     model = SVC(**best_params)\n",
        "#     model.fit(X_train_outer, y_train_outer)\n",
        "\n",
        "#     # Evaluate model on outer test set\n",
        "#     outer_score = model.score(X_test, y_test)\n",
        "#     outer_scores.append(outer_score)\n",
        "\n",
        "# # Print average outer cross-validation score\n",
        "# print('Outer CV score:', np.mean(outer_scores))"
      ],
      "metadata": {
        "colab": {
          "base_uri": "https://localhost:8080/",
          "height": 130
        },
        "id": "JDWNzzpo4qXa",
        "outputId": "19afa3b9-0d37-4dd6-fffb-e6a7d6852958"
      },
      "execution_count": 1,
      "outputs": [
        {
          "output_type": "error",
          "ename": "IndentationError",
          "evalue": "ignored",
          "traceback": [
            "\u001b[0;36m  File \u001b[0;32m\"<ipython-input-1-57fc6d7caadd>\"\u001b[0;36m, line \u001b[0;32m8\u001b[0m\n\u001b[0;31m    yhat = best_model.predict(X_test)\u001b[0m\n\u001b[0m    ^\u001b[0m\n\u001b[0;31mIndentationError\u001b[0m\u001b[0;31m:\u001b[0m unexpected indent\n"
          ]
        }
      ]
    },
    {
      "cell_type": "code",
      "source": [],
      "metadata": {
        "id": "7ztRczn5_fCZ"
      },
      "execution_count": null,
      "outputs": []
    },
    {
      "cell_type": "code",
      "source": [
        "#"
      ],
      "metadata": {
        "id": "AhviEHXF5CNQ"
      },
      "execution_count": null,
      "outputs": []
    }
  ]
}