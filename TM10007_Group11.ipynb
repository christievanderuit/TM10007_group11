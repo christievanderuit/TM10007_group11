{
  "nbformat": 4,
  "nbformat_minor": 0,
  "metadata": {
    "colab": {
      "provenance": [],
      "include_colab_link": true
    },
    "kernelspec": {
      "name": "python3",
      "display_name": "Python 3"
    },
    "language_info": {
      "name": "python"
    }
  },
  "cells": [
    {
      "cell_type": "markdown",
      "metadata": {
        "id": "view-in-github",
        "colab_type": "text"
      },
      "source": [
        "<a href=\"https://colab.research.google.com/github/christievanderuit/TM10007_group11/blob/main/TM10007_Group11.ipynb\" target=\"_parent\"><img src=\"https://colab.research.google.com/assets/colab-badge.svg\" alt=\"Open In Colab\"/></a>"
      ]
    },
    {
      "cell_type": "code",
      "source": [
        "!pip install sklearn numpy matplotlib"
      ],
      "metadata": {
        "id": "cWwNaEqJ_iat",
        "outputId": "3be5f0fe-46a2-4978-8b0b-85566dd88fd2",
        "colab": {
          "base_uri": "https://localhost:8080/"
        }
      },
      "execution_count": null,
      "outputs": [
        {
          "output_type": "stream",
          "name": "stdout",
          "text": [
            "Looking in indexes: https://pypi.org/simple, https://us-python.pkg.dev/colab-wheels/public/simple/\n",
            "Requirement already satisfied: sklearn in /usr/local/lib/python3.9/dist-packages (0.0.post1)\n",
            "Requirement already satisfied: numpy in /usr/local/lib/python3.9/dist-packages (1.22.4)\n",
            "Requirement already satisfied: matplotlib in /usr/local/lib/python3.9/dist-packages (3.7.1)\n",
            "Requirement already satisfied: python-dateutil>=2.7 in /usr/local/lib/python3.9/dist-packages (from matplotlib) (2.8.2)\n",
            "Requirement already satisfied: importlib-resources>=3.2.0 in /usr/local/lib/python3.9/dist-packages (from matplotlib) (5.12.0)\n",
            "Requirement already satisfied: fonttools>=4.22.0 in /usr/local/lib/python3.9/dist-packages (from matplotlib) (4.39.3)\n",
            "Requirement already satisfied: packaging>=20.0 in /usr/local/lib/python3.9/dist-packages (from matplotlib) (23.0)\n",
            "Requirement already satisfied: kiwisolver>=1.0.1 in /usr/local/lib/python3.9/dist-packages (from matplotlib) (1.4.4)\n",
            "Requirement already satisfied: contourpy>=1.0.1 in /usr/local/lib/python3.9/dist-packages (from matplotlib) (1.0.7)\n",
            "Requirement already satisfied: cycler>=0.10 in /usr/local/lib/python3.9/dist-packages (from matplotlib) (0.11.0)\n",
            "Requirement already satisfied: pyparsing>=2.3.1 in /usr/local/lib/python3.9/dist-packages (from matplotlib) (3.0.9)\n",
            "Requirement already satisfied: pillow>=6.2.0 in /usr/local/lib/python3.9/dist-packages (from matplotlib) (8.4.0)\n",
            "Requirement already satisfied: zipp>=3.1.0 in /usr/local/lib/python3.9/dist-packages (from importlib-resources>=3.2.0->matplotlib) (3.15.0)\n",
            "Requirement already satisfied: six>=1.5 in /usr/local/lib/python3.9/dist-packages (from python-dateutil>=2.7->matplotlib) (1.16.0)\n"
          ]
        }
      ]
    },
    {
      "cell_type": "code",
      "source": [
        "# General packages\n",
        "import numpy as np \n",
        "import pandas as pd\n",
        "import matplotlib.pyplot as plt\n",
        "from sklearn import datasets as ds\n",
        "import seaborn\n",
        "\n",
        "\n",
        "# Classifiers\n",
        "from sklearn import model_selection\n",
        "from sklearn import metrics\n",
        "from sklearn import feature_selection \n",
        "from sklearn import preprocessing\n",
        "from sklearn import neighbors\n",
        "from sklearn import svm\n",
        "from sklearn.decomposition import PCA\n",
        "from sklearn.feature_selection import SelectKBest\n",
        "from sklearn.feature_selection import chi2\n",
        "from sklearn.feature_selection import RFE\n",
        "from sklearn.linear_model import LinearRegression\n",
        "from sklearn.linear_model import Lasso"
      ],
      "metadata": {
        "id": "oS9eMkou8yR_"
      },
      "execution_count": null,
      "outputs": []
    },
    {
      "cell_type": "code",
      "source": [
        "# Some functions we will use\n",
        "def colorplot(clf, ax, x, y, h=100):\n",
        "    '''\n",
        "    Overlay the decision areas as colors in an axes.\n",
        "    \n",
        "    Input:\n",
        "        clf: trained classifier\n",
        "        ax: axis to overlay color mesh on\n",
        "        x: feature on x-axis\n",
        "        y: feature on y-axis\n",
        "        h(optional): steps in the mesh\n",
        "    '''\n",
        "    # Create a meshgrid the size of the axis\n",
        "    xstep = (x.max() - x.min() ) / 20.0\n",
        "    ystep = (y.max() - y.min() ) / 20.0\n",
        "    x_min, x_max = x.min() - xstep, x.max() + xstep\n",
        "    y_min, y_max = y.min() - ystep, y.max() + ystep\n",
        "    h = max((x_max - x_min, y_max - y_min))/h\n",
        "    xx, yy = np.meshgrid(np.arange(x_min, x_max, h),\n",
        "                         np.arange(y_min, y_max, h))\n",
        "    \n",
        "    # Plot the decision boundary. For that, we will assign a color to each\n",
        "    # point in the mesh [x_min, x_max]x[y_min, y_max].\n",
        "    if hasattr(clf, \"decision_function\"):\n",
        "        Z = clf.decision_function(np.c_[xx.ravel(), yy.ravel()])\n",
        "    else:\n",
        "        Z = clf.predict_proba(np.c_[xx.ravel(), yy.ravel()])\n",
        "    if len(Z.shape) > 1:\n",
        "        Z = Z[:, 1]\n",
        "    \n",
        "    # Put the result into a color plot\n",
        "    cm = plt.cm.RdBu_r\n",
        "    Z = Z.reshape(xx.shape)\n",
        "    ax.contourf(xx, yy, Z, cmap=cm, alpha=.8)\n",
        "    del xx, yy, x_min, x_max, y_min, y_max, Z, cm"
      ],
      "metadata": {
        "id": "Y8zNyBBH9BCh"
      },
      "execution_count": null,
      "outputs": []
    },
    {
      "cell_type": "code",
      "source": [
        "# Run this to use from colab environment\n",
        "!git clone https://github.com/jveenland/tm10007_ml.git\n",
        "import os\n",
        "import pandas as pd\n",
        "data = pd.read_csv('/content/tm10007_ml/worcgist/GIST_radiomicFeatures.csv', index_col=0)\n",
        "print(f'The number of samples: {len(data.index)}')\n",
        "print(f'The number of columns: {len(data.columns)}')"
      ],
      "metadata": {
        "id": "qX1LjCmltopI",
        "colab": {
          "base_uri": "https://localhost:8080/"
        },
        "outputId": "4cdf8d89-7f88-44c9-dd93-caeb6c00ab0b"
      },
      "execution_count": null,
      "outputs": [
        {
          "output_type": "stream",
          "name": "stdout",
          "text": [
            "fatal: destination path 'tm10007_ml' already exists and is not an empty directory.\n",
            "The number of samples: 246\n",
            "The number of columns: 494\n"
          ]
        }
      ]
    },
    {
      "cell_type": "code",
      "source": [
        "#zorgen dat verschillende functies uit de files aangeroepen kunnen worden \n",
        "from tm10007_ml.worcgist.load_data import *   #misschien dat dit nog op een nettere manier kan \n",
        "dataset = load_data(); "
      ],
      "metadata": {
        "id": "bG7AZdOO5cDq"
      },
      "execution_count": null,
      "outputs": []
    },
    {
      "cell_type": "code",
      "source": [
        "#zoeken van NaN --> want duidelijk dat deze erin zitten - ook voor de nu geplotte in de eerste figuur \n",
        "x_data = data.drop(\"label\", axis='columns')\n",
        "\n",
        "\n",
        "np.where(np.asanyarray(np.isnan(x_data))) \n",
        "\n",
        "# # Find all entries that are not a number\n",
        "x_data = x_data.apply(lambda x: pd.to_numeric(x, errors='coerce'))\n",
        "nan_b = pd.isna(x_train)\n",
        "n_nan = nan_b.sum().sum()\n",
        "if n_nan > 0:\n",
        "  nan = np.where(nan_b == \"True\")\n",
        "else:\n",
        "  nan = 0\n",
        "# # Replace all NaN with 0\n",
        "# x_train_nieuw = x_train.fillna(0)\n",
        "print(n_nan)\n",
        "\n",
        "# volgens mij hebben wij dus alleen rijen waarbij er opeens 0'en zijn, maar \n",
        "# hebben wij geen Nan \n",
        "#op deze manier worden in x_train alle kolommen gevonden waarbij er alleen maar \n",
        "#0'en zijn, dus deze droppen - dit zijn 6 kolommen \n",
        "df1 = x_data.mask(x_data != 0).dropna(axis=1)\n",
        "# print(df1)\n",
        "\n",
        "#zorgen dat deze rijen verwijderd worden ? willen we dit ?  NOG NIET GELUKT :)\n",
        "# column_names = list(df1.columns.values)\n",
        "# df2 = x_train.drop('index', inplace=True, axis=1)\n",
        "\n",
        "df1 = x_data.mask(x_data != 0).dropna(axis=1)\n",
        "\n",
        "df2 = x_data.copy()\n",
        "for col in df1:\n",
        "    df2 = df2.drop(col, axis=1)\n",
        "\n",
        "#print(df2)"
      ],
      "metadata": {
        "id": "X4w4SMYwvTtm",
        "outputId": "c3668976-d7d8-4aa2-989e-4dbbe1f672a7",
        "colab": {
          "base_uri": "https://localhost:8080/"
        }
      },
      "execution_count": null,
      "outputs": [
        {
          "output_type": "stream",
          "name": "stdout",
          "text": [
            "0\n"
          ]
        }
      ]
    },
    {
      "cell_type": "code",
      "source": [
        "#Splitsen in een train en in een testset \n",
        "\n",
        "# Classifiers\n",
        "from sklearn.model_selection import train_test_split\n",
        "\n",
        "#Waarbij x = features, y = label\n",
        "#vraag: doet ie dit elke keer op een andere manier? want dan toch lastig conclusies te trekken? --> daarom achter random state een getal - maakt niet uit zolang integer is\n",
        "y = data['label']\n",
        "x = df2\n",
        "# df_train, df_test = train_test_split(data, test_size=0.2, random_state=1)\n",
        "x_train, x_test, y_train, y_test = train_test_split(x,y,test_size=0.2, random_state=1, stratify=y)\n",
        "#AFBLIJVEN VAN TESTDATA!! :) \n",
        "\n",
        "\n",
        "\n"
      ],
      "metadata": {
        "id": "akTrzKpG86zA"
      },
      "execution_count": null,
      "outputs": []
    },
    {
      "cell_type": "code",
      "source": [
        "# testen of er outliers zijn dmv LOF\n",
        "from sklearn.neighbors import LocalOutlierFactor\n",
        "\n",
        "lof = LocalOutlierFactor()\n",
        "x_lof = lof.fit(x_train)\n",
        "outlier_scores = x_lof.negative_outlier_factor_\n",
        "threshold = np.mean(outlier_scores)\n",
        "outliers = x_train[outlier_scores < threshold]\n",
        "outlier_percentage = (len(outliers) / len(x_train)) * 100\n",
        "\n",
        "print(\"Number of outliers:\", len(outliers))\n",
        "print(\"Percentage of outliers:\", outlier_percentage)"
      ],
      "metadata": {
        "id": "sR_vwqT-JiEi"
      },
      "execution_count": null,
      "outputs": []
    },
    {
      "cell_type": "code",
      "source": [
        "#Testen of de data normaal verdeeld is of niet \n",
        "from scipy.stats import shapiro\n",
        "  \n",
        "# define a function to test for normality using the Shapiro-Wilk test\n",
        "def test_normality(column):\n",
        "    stat, p = shapiro(column)\n",
        "    alpha = 0.05\n",
        "    if p > alpha:\n",
        "        return 1\n",
        "    else:\n",
        "        return 0\n",
        "\n",
        "# apply the test_normality function to each column of the DataFrame\n",
        "normality_results = x_train.apply(test_normality)\n",
        "\n",
        "# print the results\n",
        "print(normality_results)\n",
        "# sum = sum(normality_results)\n",
        "print(sum)\n",
        "\n",
        "#dus meeste data is niet normaal verdeeld voor 60 van de gevallen --> dus voor deze wil je \n",
        "#een andere schaling gaan toepassen \n",
        "\n",
        "# losse dataframes maken \n",
        "normalized = pd.DataFrame()\n",
        "non_normalized = pd.DataFrame()\n",
        "for ind, elem in zip(x_train.columns, normality_results): \n",
        "  if elem == 0: \n",
        "    non_normalized = non_normalized.append(x_train[ind])\n",
        "  else: \n",
        "    normalized = normalized.append(x_train[ind])\n",
        "\n",
        "  \n",
        "\n",
        "#los scalen \n",
        "scaler = preprocessing.RobustScaler()\n",
        "scaler.fit(non_normalized)\n",
        "non_normalized = pd.DataFrame(scaler.transform(non_normalized))\n",
        "\n",
        "scaler_norm = preprocessing.StandardScaler()\n",
        "scaler_norm.fit(normalized)\n",
        "normalized = pd.DataFrame(scaler_norm.transform(normalized))\n",
        "\n",
        "#non_normalized en normalized gecombineerd in een nieuwe dataframe\n",
        "# x_train_scaled = pd.concat([non_normalized, normalized])\n",
        "# scaler_tot = preprocessing.MinMaxScaler()\n",
        "# scaler_tot.fit(x_train_scaled)\n",
        "# x_train_scaled = pd.DataFrame(scaler_tot.transform(x_train_scaled))\n",
        "# x_train_scaled = x_train_scaled.transpose()\n",
        "scaler.fit(x_train)\n",
        "x_scaled = pd.DataFrame(scaler.transform(x_train))\n",
        "\n",
        "#x_train_scaled = normalized.append(non_normalized)\n",
        "# 1. losse df voor normalized en non normalized \n",
        "# 2. scaling met Robust en Standard \n",
        "# 3. Samenvoegen en alles met Min max normalizeren \n"
      ],
      "metadata": {
        "id": "Lmhiy0kOuuh1",
        "outputId": "3c39a4a9-f976-49fc-9570-a4b3a487c020",
        "colab": {
          "base_uri": "https://localhost:8080/"
        }
      },
      "execution_count": null,
      "outputs": [
        {
          "output_type": "stream",
          "name": "stdout",
          "text": [
            "PREDICT_original_sf_compactness_avg_2.5D                  0\n",
            "PREDICT_original_sf_compactness_std_2.5D                  0\n",
            "PREDICT_original_sf_rad_dist_avg_2.5D                     0\n",
            "PREDICT_original_sf_rad_dist_std_2.5D                     0\n",
            "PREDICT_original_sf_roughness_avg_2.5D                    0\n",
            "                                                         ..\n",
            "PREDICT_original_phasef_phasesym_kurtosis_WL3_N5          0\n",
            "PREDICT_original_phasef_phasesym_range_WL3_N5             0\n",
            "PREDICT_original_phasef_phasesym_energy_WL3_N5            0\n",
            "PREDICT_original_phasef_phasesym_quartile_range_WL3_N5    0\n",
            "PREDICT_original_phasef_phasesym_entropy_WL3_N5           1\n",
            "Length: 487, dtype: int64\n",
            "<built-in function sum>\n"
          ]
        }
      ]
    },
    {
      "cell_type": "code",
      "source": [
        "#plotten \n",
        "\n",
        "fig = plt.figure(figsize=(8, 8))\n",
        "ax = fig.add_subplot(1, 1, 1)\n",
        "print(type(x_train['PREDICT_original_hf_min']))\n",
        "plt.scatter(x_train['PREDICT_original_sf_compactness_avg_2.5D'], x_train['PREDICT_original_sf_roughness_std_2.5D'])\n",
        "# plt.show()\n",
        "\n",
        "#Testen met een andere variabele \n",
        "fig = plt.figure(figsize=(8, 8))\n",
        "ax = fig.add_subplot(1, 1, 1)\n",
        "print(type(x_train['PREDICT_original_hf_min']))\n",
        "plt.scatter(x_train['PREDICT_original_sf_convexity_avg_2.5D'], x_train['PREDICT_original_phasef_phasesym_range_WL3_N5'])\n",
        "# plt.show()\n",
        "\n",
        "print(x_train)"
      ],
      "metadata": {
        "id": "DV4adj_J8qWX",
        "outputId": "6c735ced-d4e0-4c84-b194-1447655c1efa",
        "colab": {
          "base_uri": "https://localhost:8080/",
          "height": 1000
        }
      },
      "execution_count": null,
      "outputs": [
        {
          "output_type": "stream",
          "name": "stdout",
          "text": [
            "<class 'pandas.core.series.Series'>\n",
            "<class 'pandas.core.series.Series'>\n",
            "            PREDICT_original_sf_compactness_avg_2.5D  \\\n",
            "ID                                                     \n",
            "GIST-083_0                                  0.371705   \n",
            "GIST-133_0                                  0.796716   \n",
            "GIST-145_0                                  0.826348   \n",
            "GIST-001_0                                  0.797427   \n",
            "GIST-139_0                                  0.894811   \n",
            "...                                              ...   \n",
            "GIST-185_0                                  0.814293   \n",
            "GIST-032_0                                  0.868296   \n",
            "GIST-080_0                                  0.689300   \n",
            "GIST-089_0                                  0.859021   \n",
            "GIST-211_0                                  0.562105   \n",
            "\n",
            "            PREDICT_original_sf_compactness_std_2.5D  \\\n",
            "ID                                                     \n",
            "GIST-083_0                                  0.316183   \n",
            "GIST-133_0                                  0.118745   \n",
            "GIST-145_0                                  0.065400   \n",
            "GIST-001_0                                  0.120594   \n",
            "GIST-139_0                                  0.049648   \n",
            "...                                              ...   \n",
            "GIST-185_0                                  0.063864   \n",
            "GIST-032_0                                  0.037218   \n",
            "GIST-080_0                                  0.167670   \n",
            "GIST-089_0                                  0.060170   \n",
            "GIST-211_0                                  0.209889   \n",
            "\n",
            "            PREDICT_original_sf_rad_dist_avg_2.5D  \\\n",
            "ID                                                  \n",
            "GIST-083_0                              29.371701   \n",
            "GIST-133_0                              24.223771   \n",
            "GIST-145_0                              54.400641   \n",
            "GIST-001_0                              80.192445   \n",
            "GIST-139_0                              14.791211   \n",
            "...                                           ...   \n",
            "GIST-185_0                              31.262951   \n",
            "GIST-032_0                              15.420416   \n",
            "GIST-080_0                              91.820259   \n",
            "GIST-089_0                              13.297123   \n",
            "GIST-211_0                              30.444289   \n",
            "\n",
            "            PREDICT_original_sf_rad_dist_std_2.5D  \\\n",
            "ID                                                  \n",
            "GIST-083_0                               7.230227   \n",
            "GIST-133_0                               3.292009   \n",
            "GIST-145_0                               5.874646   \n",
            "GIST-001_0                               9.445741   \n",
            "GIST-139_0                               1.391724   \n",
            "...                                           ...   \n",
            "GIST-185_0                               3.452940   \n",
            "GIST-032_0                               1.976136   \n",
            "GIST-080_0                              18.644418   \n",
            "GIST-089_0                               1.436875   \n",
            "GIST-211_0                               4.764044   \n",
            "\n",
            "            PREDICT_original_sf_roughness_avg_2.5D  \\\n",
            "ID                                                   \n",
            "GIST-083_0                               31.483753   \n",
            "GIST-133_0                                7.280143   \n",
            "GIST-145_0                                9.785794   \n",
            "GIST-001_0                                7.102210   \n",
            "GIST-139_0                                4.572405   \n",
            "...                                            ...   \n",
            "GIST-185_0                                7.101788   \n",
            "GIST-032_0                                3.752895   \n",
            "GIST-080_0                               10.130855   \n",
            "GIST-089_0                                5.671238   \n",
            "GIST-211_0                               13.351386   \n",
            "\n",
            "            PREDICT_original_sf_roughness_std_2.5D  \\\n",
            "ID                                                   \n",
            "GIST-083_0                               21.348493   \n",
            "GIST-133_0                                2.218002   \n",
            "GIST-145_0                                4.602796   \n",
            "GIST-001_0                                3.876595   \n",
            "GIST-139_0                                1.070768   \n",
            "...                                            ...   \n",
            "GIST-185_0                                3.414663   \n",
            "GIST-032_0                                1.307586   \n",
            "GIST-080_0                                7.470849   \n",
            "GIST-089_0                                1.143034   \n",
            "GIST-211_0                                8.418359   \n",
            "\n",
            "            PREDICT_original_sf_convexity_avg_2.5D  \\\n",
            "ID                                                   \n",
            "GIST-083_0                                0.613260   \n",
            "GIST-133_0                                0.944122   \n",
            "GIST-145_0                                0.951249   \n",
            "GIST-001_0                                0.927623   \n",
            "GIST-139_0                                0.974014   \n",
            "...                                            ...   \n",
            "GIST-185_0                                0.947922   \n",
            "GIST-032_0                                0.973568   \n",
            "GIST-080_0                                0.900376   \n",
            "GIST-089_0                                0.968770   \n",
            "GIST-211_0                                0.809239   \n",
            "\n",
            "            PREDICT_original_sf_convexity_std_2.5D  \\\n",
            "ID                                                   \n",
            "GIST-083_0                                0.295654   \n",
            "GIST-133_0                                0.036944   \n",
            "GIST-145_0                                0.027560   \n",
            "GIST-001_0                                0.081385   \n",
            "GIST-139_0                                0.023404   \n",
            "...                                            ...   \n",
            "GIST-185_0                                0.029899   \n",
            "GIST-032_0                                0.017194   \n",
            "GIST-080_0                                0.120795   \n",
            "GIST-089_0                                0.019908   \n",
            "GIST-211_0                                0.129720   \n",
            "\n",
            "            PREDICT_original_sf_cvar_avg_2.5D  \\\n",
            "ID                                              \n",
            "GIST-083_0                           0.063806   \n",
            "GIST-133_0                           0.025965   \n",
            "GIST-145_0                           0.012536   \n",
            "GIST-001_0                           0.015227   \n",
            "GIST-139_0                           0.009377   \n",
            "...                                       ...   \n",
            "GIST-185_0                           0.015996   \n",
            "GIST-032_0                           0.017032   \n",
            "GIST-080_0                           0.044765   \n",
            "GIST-089_0                           0.013375   \n",
            "GIST-211_0                           0.033302   \n",
            "\n",
            "            PREDICT_original_sf_cvar_std_2.5D  ...  \\\n",
            "ID                                             ...   \n",
            "GIST-083_0                           0.018558  ...   \n",
            "GIST-133_0                           0.027626  ...   \n",
            "GIST-145_0                           0.006411  ...   \n",
            "GIST-001_0                           0.010465  ...   \n",
            "GIST-139_0                           0.004588  ...   \n",
            "...                                       ...  ...   \n",
            "GIST-185_0                           0.015205  ...   \n",
            "GIST-032_0                           0.007053  ...   \n",
            "GIST-080_0                           0.038482  ...   \n",
            "GIST-089_0                           0.008310  ...   \n",
            "GIST-211_0                           0.030811  ...   \n",
            "\n",
            "            PREDICT_original_phasef_phasesym_max_WL3_N5  \\\n",
            "ID                                                        \n",
            "GIST-083_0                                     0.156862   \n",
            "GIST-133_0                                     0.000000   \n",
            "GIST-145_0                                     0.147774   \n",
            "GIST-001_0                                     0.123189   \n",
            "GIST-139_0                                     0.180723   \n",
            "...                                                 ...   \n",
            "GIST-185_0                                     0.207331   \n",
            "GIST-032_0                                     0.201982   \n",
            "GIST-080_0                                     0.215951   \n",
            "GIST-089_0                                     0.292762   \n",
            "GIST-211_0                                     0.044446   \n",
            "\n",
            "            PREDICT_original_phasef_phasesym_mean_WL3_N5  \\\n",
            "ID                                                         \n",
            "GIST-083_0                                      0.008041   \n",
            "GIST-133_0                                      0.000091   \n",
            "GIST-145_0                                      0.007134   \n",
            "GIST-001_0                                      0.005697   \n",
            "GIST-139_0                                      0.011891   \n",
            "...                                                  ...   \n",
            "GIST-185_0                                      0.011966   \n",
            "GIST-032_0                                      0.013160   \n",
            "GIST-080_0                                      0.011971   \n",
            "GIST-089_0                                      0.029132   \n",
            "GIST-211_0                                      0.002802   \n",
            "\n",
            "            PREDICT_original_phasef_phasesym_median_WL3_N5  \\\n",
            "ID                                                           \n",
            "GIST-083_0                                             0.0   \n",
            "GIST-133_0                                             0.0   \n",
            "GIST-145_0                                             0.0   \n",
            "GIST-001_0                                             0.0   \n",
            "GIST-139_0                                             0.0   \n",
            "...                                                    ...   \n",
            "GIST-185_0                                             0.0   \n",
            "GIST-032_0                                             0.0   \n",
            "GIST-080_0                                             0.0   \n",
            "GIST-089_0                                             0.0   \n",
            "GIST-211_0                                             0.0   \n",
            "\n",
            "            PREDICT_original_phasef_phasesym_std_WL3_N5  \\\n",
            "ID                                                        \n",
            "GIST-083_0                                     0.044665   \n",
            "GIST-133_0                                     0.002660   \n",
            "GIST-145_0                                     0.037730   \n",
            "GIST-001_0                                     0.032461   \n",
            "GIST-139_0                                     0.041621   \n",
            "...                                                 ...   \n",
            "GIST-185_0                                     0.048500   \n",
            "GIST-032_0                                     0.047450   \n",
            "GIST-080_0                                     0.051099   \n",
            "GIST-089_0                                     0.072221   \n",
            "GIST-211_0                                     0.022397   \n",
            "\n",
            "            PREDICT_original_phasef_phasesym_skewness_WL3_N5  \\\n",
            "ID                                                             \n",
            "GIST-083_0                                          8.313125   \n",
            "GIST-133_0                                         34.592459   \n",
            "GIST-145_0                                          7.240191   \n",
            "GIST-001_0                                          7.353902   \n",
            "GIST-139_0                                          4.240659   \n",
            "...                                                      ...   \n",
            "GIST-185_0                                          5.272746   \n",
            "GIST-032_0                                          4.549167   \n",
            "GIST-080_0                                          5.487740   \n",
            "GIST-089_0                                          3.145506   \n",
            "GIST-211_0                                         11.355709   \n",
            "\n",
            "            PREDICT_original_phasef_phasesym_kurtosis_WL3_N5  \\\n",
            "ID                                                             \n",
            "GIST-083_0                                         89.740196   \n",
            "GIST-133_0                                       1332.959758   \n",
            "GIST-145_0                                         66.311915   \n",
            "GIST-001_0                                         63.183181   \n",
            "GIST-139_0                                         19.605196   \n",
            "...                                                      ...   \n",
            "GIST-185_0                                         32.944918   \n",
            "GIST-032_0                                         23.222153   \n",
            "GIST-080_0                                         34.852476   \n",
            "GIST-089_0                                         11.105960   \n",
            "GIST-211_0                                        166.468485   \n",
            "\n",
            "            PREDICT_original_phasef_phasesym_range_WL3_N5  \\\n",
            "ID                                                          \n",
            "GIST-083_0                                       0.156862   \n",
            "GIST-133_0                                       0.000000   \n",
            "GIST-145_0                                       0.147774   \n",
            "GIST-001_0                                       0.123189   \n",
            "GIST-139_0                                       0.180723   \n",
            "...                                                   ...   \n",
            "GIST-185_0                                       0.207331   \n",
            "GIST-032_0                                       0.201982   \n",
            "GIST-080_0                                       0.215951   \n",
            "GIST-089_0                                       0.292762   \n",
            "GIST-211_0                                       0.044446   \n",
            "\n",
            "            PREDICT_original_phasef_phasesym_energy_WL3_N5  \\\n",
            "ID                                                           \n",
            "GIST-083_0                                       42.758619   \n",
            "GIST-133_0                                        0.188208   \n",
            "GIST-145_0                                      262.916742   \n",
            "GIST-001_0                                     1591.133826   \n",
            "GIST-139_0                                       15.261694   \n",
            "...                                                    ...   \n",
            "GIST-185_0                                      153.672033   \n",
            "GIST-032_0                                       18.987793   \n",
            "GIST-080_0                                     3861.736991   \n",
            "GIST-089_0                                       40.147566   \n",
            "GIST-211_0                                       18.013127   \n",
            "\n",
            "            PREDICT_original_phasef_phasesym_quartile_range_WL3_N5  \\\n",
            "ID                                                                   \n",
            "GIST-083_0                                           0.000000        \n",
            "GIST-133_0                                           0.000000        \n",
            "GIST-145_0                                           0.000000        \n",
            "GIST-001_0                                           0.000000        \n",
            "GIST-139_0                                           0.000000        \n",
            "...                                                       ...        \n",
            "GIST-185_0                                           0.000000        \n",
            "GIST-032_0                                           0.000000        \n",
            "GIST-080_0                                           0.000000        \n",
            "GIST-089_0                                           0.000005        \n",
            "GIST-211_0                                           0.000000        \n",
            "\n",
            "            PREDICT_original_phasef_phasesym_entropy_WL3_N5  \n",
            "ID                                                           \n",
            "GIST-083_0                                         9.724286  \n",
            "GIST-133_0                                         5.141650  \n",
            "GIST-145_0                                        12.888175  \n",
            "GIST-001_0                                        15.687095  \n",
            "GIST-139_0                                         9.495718  \n",
            "...                                                     ...  \n",
            "GIST-185_0                                        12.063419  \n",
            "GIST-032_0                                         9.394967  \n",
            "GIST-080_0                                        16.425618  \n",
            "GIST-089_0                                        10.138490  \n",
            "GIST-211_0                                         9.421005  \n",
            "\n",
            "[196 rows x 487 columns]\n"
          ]
        },
        {
          "output_type": "display_data",
          "data": {
            "text/plain": [
              "<Figure size 800x800 with 1 Axes>"
            ],
            "image/png": "[encoded data removed]"
          },
          "metadata": {}
        },
        {
          "output_type": "display_data",
          "data": {
            "text/plain": [
              "<Figure size 800x800 with 1 Axes>"
            ],
            "image/png": "[encoded data removed]"
          },
          "metadata": {}
        }
      ]
    },
    {
      "cell_type": "code",
      "source": [
        "# Attempt at PCA\n",
        "\n",
        "def pca_func(X,n):\n",
        "  # create PCA object with 2 components\n",
        "  pca = PCA(n_components=n)\n",
        "\n",
        "  # fit and transform the data\n",
        "  df_pca = pca.fit_transform(X)\n",
        "  return df_pca"
      ],
      "metadata": {
        "id": "Ndqro_rJkWD8"
      },
      "execution_count": null,
      "outputs": []
    },
    {
      "cell_type": "code",
      "source": [
        "from sklearn.feature_selection import SelectKBest\n",
        "from sklearn.feature_selection import f_regression\n",
        "\n",
        "def kbest_func(X, k):\n",
        "    \"\"\"\n",
        "    Select the top k features using the f_regression score as the evaluation metric\n",
        "    \"\"\"\n",
        "    # define the feature selector\n",
        "    selector = SelectKBest(score_func=f_regression, k=k)\n",
        "    \n",
        "    # fit the selector to the training data and transform the data\n",
        "    x_train_kbest = selector.fit_transform(X, y_train)\n",
        "    \n",
        "    return x_train_kbest\n"
      ],
      "metadata": {
        "id": "1btbKWNlLvc3"
      },
      "execution_count": null,
      "outputs": []
    },
    {
      "cell_type": "code",
      "source": [
        "# RFE\n",
        "\n",
        "def rfe_func(X,k):\n",
        "    # linear regression\n",
        "    lr = LinearRegression()\n",
        "\n",
        "    # Create an RFE object and select the top n features (we moeten misschien nog even letten op de step)\n",
        "    rfe = RFE(estimator=lr, n_features=k, step=1)\n",
        "  \n",
        "    #fit and transform the data\n",
        "    df_rfe = rfe.fit_transform(X)\n",
        "    return df_rfe"
      ],
      "metadata": {
        "id": "gIICUveAPhUC"
      },
      "execution_count": null,
      "outputs": []
    },
    {
      "cell_type": "code",
      "source": [
        "# L1 regularization (Lasso regression)\n",
        "\n",
        "def lasso_func(X,c): \n",
        "    #lasso regression\n",
        "    lasso = Lasso(alpha=c)\n",
        "\n",
        "    #fit and transform the data\n",
        "    df_lasso = lasso.fit_transform(X)\n",
        "    return df_lasso"
      ],
      "metadata": {
        "id": "UFsohvQ1URR2"
      },
      "execution_count": null,
      "outputs": []
    },
    {
      "cell_type": "code",
      "source": [
        "# SVM with cross vallidation\n",
        "\n",
        "from sklearn.model_selection import cross_val_score\n",
        "from sklearn.svm import LinearSVC\n",
        "\n",
        "n = 50\n",
        "x_pca = pca_func(x_scaled,n)\n",
        "\n",
        "y_gist = pd.Series([1 if label == \"GIST\" else 0 for label in y_train], index=y_train.index)\n",
        "\n",
        "\n",
        "# Create a linear SVM object\n",
        "svm = LinearSVC(max_iter=1000)\n",
        "\n",
        "# Perform 5-fold cross-validation on the training data\n",
        "scores = cross_val_score(svm, x_pca, y_gist, cv=50)\n",
        "\n",
        "# Print the average accuracy and standard deviation of the cross-validation scores\n",
        "print(\"Accuracy: {:.2f}% (+/- {:.2f}%)\".format(scores.mean()*100, scores.std()*100))\n"
      ],
      "metadata": {
        "id": "G7QNF2o9rY_2",
        "outputId": "3abc1064-2395-434c-ad55-330f7ea9ebd3",
        "colab": {
          "base_uri": "https://localhost:8080/"
        }
      },
      "execution_count": null,
      "outputs": [
        {
          "output_type": "stream",
          "name": "stdout",
          "text": [
            "Accuracy: 49.33% (+/- 13.11%)\n"
          ]
        }
      ]
    },
    {
      "cell_type": "code",
      "source": [
        "# KNN poging\n",
        "from sklearn.neighbors import KNeighborsClassifier\n",
        "from sklearn.model_selection import cross_val_score\n",
        "\n",
        "n = 50\n",
        "x_pca = pca_func(x_scaled,n)\n",
        "\n",
        "# Assume X_train, y_train are numpy arrays or pandas dataframes\n",
        "# Create a k-NN classifier object with k=5\n",
        "knn = KNeighborsClassifier(n_neighbors=9)\n",
        "\n",
        "# Use 5-fold cross-validation to evaluate the performance of the k-NN classifier on the training set\n",
        "scores = cross_val_score(knn, x_pca, y_gist, cv=100)\n",
        "\n",
        "# Print the cross-validation scores and their mean\n",
        "print(\"Accuracy: {:.2f}% (+/- {:.2f}%)\".format(scores.mean()*100, scores.std()*100))\n"
      ],
      "metadata": {
        "id": "jjfT4toUuRbu",
        "outputId": "58a09142-bd15-4967-be4e-c7892ace3661",
        "colab": {
          "base_uri": "https://localhost:8080/"
        }
      },
      "execution_count": null,
      "outputs": [
        {
          "output_type": "stream",
          "name": "stdout",
          "text": [
            "Accuracy: 48.00% (+/- 36.69%)\n"
          ]
        }
      ]
    },
    {
      "cell_type": "code",
      "source": [
        "# Non linear SVM\n",
        "from sklearn.svm import SVC\n",
        "\n",
        "n = 100\n",
        "x_pca = pca_func(x_scaled,n)\n",
        "\n",
        "# Train non-linear SVM with cross-validation\n",
        "clf = SVC(kernel='poly',degree=3, C=1.0)\n",
        "scores = cross_val_score(clf, x_pca, y_train, cv=100)\n",
        "\n",
        "# Print cross-validation scores\n",
        "print(\"Accuracy: {:.2f}% (+/- {:.2f}%)\".format(scores.mean()*100, scores.std()*100))\n"
      ],
      "metadata": {
        "id": "KuCb4wFaAyCd",
        "outputId": "f72e1a4e-889f-474c-89ac-8dcf021198d7",
        "colab": {
          "base_uri": "https://localhost:8080/"
        }
      },
      "execution_count": null,
      "outputs": [
        {
          "output_type": "stream",
          "name": "stdout",
          "text": [
            "Accuracy: 52.00% (+/- 12.08%)\n"
          ]
        }
      ]
    }
  ]
}